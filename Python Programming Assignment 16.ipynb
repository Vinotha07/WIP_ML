{
 "cells": [
  {
   "cell_type": "markdown",
   "id": "8afa7354",
   "metadata": {},
   "source": [
    "#### Python Programming Assignment 16"
   ]
  },
  {
   "cell_type": "markdown",
   "id": "416c4ef8",
   "metadata": {},
   "source": [
    "Question1. Write a function that stutters a word as if someone is struggling to read it. The first two letters are repeated twice with an ellipsis ... and space after each, and then the word is pronounced with a question mark ?.\n",
    "Examples\n",
    "stutter(\"incredible\") ➞ \"in... in... incredible?\"\n",
    "\n",
    "stutter(\"enthusiastic\") ➞ \"en... en... enthusiastic?\"\n",
    "\n",
    "stutter(\"outstanding\") ➞ \"ou... ou... outstanding?\"\n",
    "\n",
    "Hint :- Assume all input is in lower case and at least two characters long.\n"
   ]
  },
  {
   "cell_type": "code",
   "execution_count": 3,
   "id": "b0229e04",
   "metadata": {},
   "outputs": [
    {
     "name": "stdout",
     "output_type": "stream",
     "text": [
      "in...in... incredible?\n",
      "en...en... enthusiastic?\n",
      "ou...ou... outstanding?\n"
     ]
    }
   ],
   "source": [
    "\"\"\"Using string slicing we can perform this operation\"\"\"\n",
    "def stutters(word):\n",
    "    return(f\"{word[:2]}...{word[:2]}... {word}?\")\n",
    "print(stutters(\"incredible\"))\n",
    "print(stutters(\"enthusiastic\"))\n",
    "print(stutters(\"outstanding\"))"
   ]
  },
  {
   "cell_type": "markdown",
   "id": "9c2376c9",
   "metadata": {},
   "source": [
    "\n",
    "Question 2.Create a function that takes an angle in radians and returns the corresponding angle in degrees rounded to one decimal place.\n",
    "Examples\n",
    "radians_to_degrees(1) ➞ 57.3\n",
    "\n",
    "radians_to_degrees(20) ➞ 1145.9\n",
    "\n",
    "radians_to_degrees(50) ➞ 2864.8\n"
   ]
  },
  {
   "cell_type": "code",
   "execution_count": 5,
   "id": "321045b5",
   "metadata": {},
   "outputs": [
    {
     "name": "stdout",
     "output_type": "stream",
     "text": [
      "1 Radians= 57.3 Degrees\n",
      "20 Radians= 1145.9 Degrees\n",
      "50 Radians= 2864.8 Degrees\n"
     ]
    }
   ],
   "source": [
    "import math\n",
    "def radians_to_degrees(angle):\n",
    "    return (f\"{angle} Radians= {math.degrees(angle):.1f} Degrees\")\n",
    "print(radians_to_degrees(1))\n",
    "print(radians_to_degrees(20))\n",
    "print(radians_to_degrees(50))"
   ]
  },
  {
   "cell_type": "markdown",
   "id": "693ab053",
   "metadata": {},
   "source": [
    "Question 3. In this challenge, establish if a given integer num is a Curzon number. If 1 plus 2 elevated to num is exactly divisible by 1 plus 2 multiplied by num, then num is a Curzon number.\n",
    "Given a non-negative integer num, implement a function that returns True if num is a Curzon number, or False otherwise.\n",
    "Examples\n",
    "is_curzon(5) ➞ True\n",
    "2 ** 5 + 1 = 33\n",
    "2 * 5 + 1 = 11\n",
    "33 is a multiple of 11\n",
    "\n",
    "is_curzon(10) ➞ False\n",
    " 2 ** 10 + 1 = 1025\n",
    " 2 * 10 + 1 = 21\n",
    " 1025 is not a multiple of 21\n",
    "\n",
    "is_curzon(14) ➞ True\n",
    " 2 ** 14 + 1 = 16385\n",
    " 2 * 14 + 1 = 29\n",
    " 16385 is a multiple of 29\n"
   ]
  },
  {
   "cell_type": "code",
   "execution_count": 8,
   "id": "9c6e5431",
   "metadata": {},
   "outputs": [
    {
     "data": {
      "text/plain": [
       "True"
      ]
     },
     "execution_count": 8,
     "metadata": {},
     "output_type": "execute_result"
    }
   ],
   "source": [
    "def is_curzon(num):\n",
    "    if num>0:\n",
    "        p=(2**num)+1\n",
    "        q=(2*num)+1\n",
    "        if p%q==0:\n",
    "            return True\n",
    "        else:\n",
    "            return False\n",
    "is_curzon(14)"
   ]
  },
  {
   "cell_type": "markdown",
   "id": "c9b638e6",
   "metadata": {},
   "source": [
    "Question 4.Given the side length x find the area of a hexagon.\n",
    " \n",
    "Examples\n",
    "area_of_hexagon(1) ➞ 2.6\n",
    "\n",
    "area_of_hexagon(2) ➞ 10.4\n",
    "\n",
    "area_of_hexagon(3) ➞ 23.4\n"
   ]
  },
  {
   "cell_type": "code",
   "execution_count": 16,
   "id": "a5e6ac03",
   "metadata": {},
   "outputs": [
    {
     "name": "stdout",
     "output_type": "stream",
     "text": [
      "Area of the Hexagon with side length 1 is 2.6\n",
      "Area of the Hexagon with side length 2 is 10.4\n",
      "Area of the Hexagon with side length 3 is 23.4\n"
     ]
    }
   ],
   "source": [
    "# importing  math module to perform math function\n",
    "import math\n",
    "def area_of_hexagon(s):\n",
    "    area=(3*math.sqrt(3)*(s**2))/2\n",
    "    return (f\"Area of the Hexagon with side length {s} is {area:.1f}\")\n",
    "\n",
    "print(area_of_hexagon(1)) \n",
    "print(area_of_hexagon(2))\n",
    "print(area_of_hexagon(3))"
   ]
  },
  {
   "cell_type": "markdown",
   "id": "bf70b08c",
   "metadata": {},
   "source": [
    "Question 5. Create a function that returns a base-2 (binary) representation of a base-10 (decimal) string number. To convert is simple: ((2) means base-2 and (10) means base-10) 010101001(2) = 1 + 8 + 32 + 128.\n",
    "Going from right to left, the value of the most right bit is 1, now from that every bit to the left will be x2 the value, value of an 8 bit binary numbers are (256, 128, 64, 32, 16, 8, 4, 2, 1).\n",
    "Examples\n",
    "binary(1) ➞ \"1\"\n",
    "\n",
    "\n",
    "binary(5) ➞ \"101\"\n",
    "\n",
    "\n",
    "binary(10) ➞ \"1010\"\n",
    "\n"
   ]
  },
  {
   "cell_type": "code",
   "execution_count": 19,
   "id": "bb226bb3",
   "metadata": {},
   "outputs": [
    {
     "name": "stdout",
     "output_type": "stream",
     "text": [
      "1\n",
      "101\n",
      "1010\n"
     ]
    }
   ],
   "source": [
    "def binary(num):\n",
    "    return bin(num).replace('0b',\"\")\n",
    "print(binary(1))\n",
    "print(binary(5))\n",
    "print(binary(10))"
   ]
  }
 ],
 "metadata": {
  "kernelspec": {
   "display_name": "Python 3 (ipykernel)",
   "language": "python",
   "name": "python3"
  },
  "language_info": {
   "codemirror_mode": {
    "name": "ipython",
    "version": 3
   },
   "file_extension": ".py",
   "mimetype": "text/x-python",
   "name": "python",
   "nbconvert_exporter": "python",
   "pygments_lexer": "ipython3",
   "version": "3.9.12"
  }
 },
 "nbformat": 4,
 "nbformat_minor": 5
}
