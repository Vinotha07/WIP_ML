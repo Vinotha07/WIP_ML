{
 "cells": [
  {
   "cell_type": "markdown",
   "id": "d73ca00b",
   "metadata": {},
   "source": [
    "#### Python Programming Assignment 5"
   ]
  },
  {
   "cell_type": "markdown",
   "id": "9f72e031",
   "metadata": {},
   "source": [
    "1.Write a Python Program to Find LCM?"
   ]
  },
  {
   "cell_type": "code",
   "execution_count": 4,
   "id": "f179b8b7",
   "metadata": {},
   "outputs": [
    {
     "name": "stdout",
     "output_type": "stream",
     "text": [
      "Enter 1st number: 5\n",
      "Enter 2nd number: 7\n"
     ]
    },
    {
     "data": {
      "text/plain": [
       "35"
      ]
     },
     "execution_count": 4,
     "metadata": {},
     "output_type": "execute_result"
    }
   ],
   "source": [
    "\"\"\"To perform the LCM of two numbers\"\"\"\n",
    "def lcm(a, b):\n",
    "    if a > b:\n",
    "        greater = a\n",
    "    else:\n",
    "        greater = b\n",
    "    while(True):\n",
    "        if((greater % a == 0) and (greater % b == 0)):\n",
    "            lcm = greater\n",
    "            break\n",
    "        greater += 1\n",
    "    return lcm\n",
    "a=int(input(\"Enter 1st number: \"))\n",
    "b=int(input(\"Enter 2nd number: \"))\n",
    "lcm(a,b)"
   ]
  },
  {
   "cell_type": "markdown",
   "id": "812562b0",
   "metadata": {},
   "source": [
    "2.Write a Python Program to Find HCF?"
   ]
  },
  {
   "cell_type": "code",
   "execution_count": 10,
   "id": "84ac57d9",
   "metadata": {},
   "outputs": [
    {
     "name": "stdout",
     "output_type": "stream",
     "text": [
      "Enter 1st number: 10\n",
      "Enter 2nd number: 28\n"
     ]
    },
    {
     "data": {
      "text/plain": [
       "2"
      ]
     },
     "execution_count": 10,
     "metadata": {},
     "output_type": "execute_result"
    }
   ],
   "source": [
    "def hcf(a,b):\n",
    "    if a<b:\n",
    "        smaller=a\n",
    "    else:\n",
    "        smaller=b\n",
    "    for i in range(1,smaller+1):\n",
    "        if a%i==0 and b%i==0 :\n",
    "            hcf=i\n",
    "    return hcf\n",
    "    \n",
    "a=int(input(\"Enter 1st number: \"))\n",
    "b=int(input(\"Enter 2nd number: \"))\n",
    "hcf(a,b)"
   ]
  },
  {
   "cell_type": "markdown",
   "id": "e36b9d55",
   "metadata": {},
   "source": [
    "3.Write a Python Program to Convert Decimal to Binary, Octal and Hexadecimal?"
   ]
  },
  {
   "cell_type": "code",
   "execution_count": 24,
   "id": "cfe21022",
   "metadata": {},
   "outputs": [
    {
     "name": "stdout",
     "output_type": "stream",
     "text": [
      "Enter the Decimal value number: 20\n",
      " Decimal to binary : 10100\n",
      " Decimal to octal : 24\n",
      " Decimal to hexa : 14\n"
     ]
    }
   ],
   "source": [
    "def dec_binary(n):\n",
    "    \"\"\"use inbult function and remove the 0b which was created during the coversion\"\"\"\n",
    "    return bin(n).replace(\"0b\",\"\")\n",
    "\n",
    "def dec_octal(n):\n",
    "    \"\"\"use inbult function and remove the 0o which was created during the coversion\"\"\"\n",
    "    return oct(n).replace(\"0o\",\"\")\n",
    "\n",
    "def dec_hexa(n):\n",
    "    \"\"\"use inbult function and remove the 0x which was created during the coversion\"\"\"\n",
    "    return hex(n).replace(\"0x\",\"\")\n",
    "\n",
    "n=int(input(\"Enter the Decimal value number: \"))\n",
    "print(f\" Decimal to binary : {dec_binary(n)}\")\n",
    "print(f\" Decimal to octal : {dec_octal(n)}\")\n",
    "print(f\" Decimal to hexa : {dec_hexa(n)}\")\n"
   ]
  },
  {
   "cell_type": "markdown",
   "id": "69f981aa",
   "metadata": {},
   "source": [
    "4.Write a Python Program To Find ASCII value of a character?"
   ]
  },
  {
   "cell_type": "code",
   "execution_count": 4,
   "id": "b7e5bc65",
   "metadata": {},
   "outputs": [
    {
     "name": "stdout",
     "output_type": "stream",
     "text": [
      "Enter the character r\n"
     ]
    },
    {
     "data": {
      "text/plain": [
       "'The ASCII value of r is 114'"
      ]
     },
     "execution_count": 4,
     "metadata": {},
     "output_type": "execute_result"
    }
   ],
   "source": [
    "\"\"\"To find the ASCII number by using the in built function ord()\"\"\"\n",
    "def char_ascii(x):\n",
    "    if len(x)==1:\n",
    "        return (f\"The ASCII value of {x} is {ord(x)}\")\n",
    "    else:\n",
    "        raise Exception (\"Enter the valid character\")\n",
    "x=input(\"Enter the character \")\n",
    "char_ascii(x)"
   ]
  },
  {
   "cell_type": "markdown",
   "id": "da08f413",
   "metadata": {},
   "source": [
    "5.Write a Python Program to Make a Simple Calculator with 4 basic mathematical operations?"
   ]
  },
  {
   "cell_type": "code",
   "execution_count": 6,
   "id": "ebbfe80c",
   "metadata": {},
   "outputs": [
    {
     "name": "stdout",
     "output_type": "stream",
     "text": [
      "Enter the 1st number: 15\n",
      "Enter the 2nd number: 3\n",
      "The Addition of 15 + 3 = 18\n",
      "The Subtraction of 15 - 3 = 12\n",
      "The Multiplication of 15 * 3 = 45\n",
      "The Division of 15 / 3 = 5.0\n"
     ]
    }
   ],
   "source": [
    "def add(a,b):\n",
    "    \"\"\"to perform the addition of two numbers\"\"\"\n",
    "    return(f\"The Addition of {a} + {b} = {a+b}\")\n",
    "           \n",
    "def sub(a,b):\n",
    "    \"\"\"to perform the addition of two numbers\"\"\"\n",
    "    return(f\"The Subtraction of {a} - {b} = {a-b}\")\n",
    "           \n",
    "def multi(a,b):\n",
    "    \"\"\"to perform the addition of two numbers\"\"\"\n",
    "    return(f\"The Multiplication of {a} * {b} = {a*b}\")\n",
    "           \n",
    "def div(a,b):\n",
    "    \"\"\"to perform the addition of two numbers\"\"\"\n",
    "    return(f\"The Division of {a} / {b} = {a/b}\")\n",
    "           \n",
    "a=int(input(\"Enter the 1st number: \"))\n",
    "b=int(input(\"Enter the 2nd number: \"))\n",
    "print(add(a,b))\n",
    "print(sub(a,b))\n",
    "print(multi(a,b))\n",
    "print(div(a,b))"
   ]
  }
 ],
 "metadata": {
  "kernelspec": {
   "display_name": "Python 3 (ipykernel)",
   "language": "python",
   "name": "python3"
  },
  "language_info": {
   "codemirror_mode": {
    "name": "ipython",
    "version": 3
   },
   "file_extension": ".py",
   "mimetype": "text/x-python",
   "name": "python",
   "nbconvert_exporter": "python",
   "pygments_lexer": "ipython3",
   "version": "3.9.12"
  }
 },
 "nbformat": 4,
 "nbformat_minor": 5
}
