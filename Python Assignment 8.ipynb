{
 "cells": [
  {
   "cell_type": "markdown",
   "id": "d30f18f3",
   "metadata": {},
   "source": [
    "Python Assignment 8"
   ]
  },
  {
   "cell_type": "markdown",
   "id": "57403b64",
   "metadata": {},
   "source": [
    "1. Is the Python Standard Library included with PyInputPlus?"
   ]
  },
  {
   "cell_type": "code",
   "execution_count": null,
   "id": "339e59f4",
   "metadata": {},
   "outputs": [],
   "source": [
    "Pyinputplus is a python module used for taking input with additional validation feature.\n",
    "Pyinputplus module is not a part of python standard library. We need to install it separately using pip"
   ]
  },
  {
   "cell_type": "markdown",
   "id": "d818e379",
   "metadata": {},
   "source": [
    "2. Why is PyInputPlus commonly imported with import pyinputplus as pypi?"
   ]
  },
  {
   "cell_type": "code",
   "execution_count": null,
   "id": "a0ec9cd3",
   "metadata": {},
   "outputs": [],
   "source": [
    "we can import pyinputplus as pyip so that we can enter a shorter name when calling the module's functions."
   ]
  },
  {
   "cell_type": "markdown",
   "id": "c4b8721f",
   "metadata": {},
   "source": [
    "3. How do you distinguish between inputInt() and inputFloat()?"
   ]
  },
  {
   "cell_type": "markdown",
   "id": "fc9d65c0",
   "metadata": {},
   "source": [
    "inputInt(): Accepts the integer value. This also takes additional parameters 'min','max','greaterThan','lessThan' for bounds and returns an integer.\n",
    "inputFloat(): Accepts the integer value. This also takes additional parameters 'min','max','greaterThan','lessThan' for bounds and returns an integer."
   ]
  },
  {
   "cell_type": "code",
   "execution_count": 17,
   "id": "2ef9c0ec",
   "metadata": {},
   "outputs": [
    {
     "name": "stdout",
     "output_type": "stream",
     "text": [
      "Enter the integer valuerte\n",
      "'rte' is not an integer.\n",
      "Enter the integer value8\n",
      "Enter the Float valueur\n",
      "'ur' is not a float.\n",
      "Enter the Float value9.0\n"
     ]
    }
   ],
   "source": [
    "a=pyip.inputInt(prompt=\"Enter the integer value\")\n",
    "b=pyip.inputFloat(prompt=\"Enter the Float value\")"
   ]
  },
  {
   "cell_type": "markdown",
   "id": "65ec9476",
   "metadata": {},
   "source": [
    "4. Using PyInputPlus, how do you ensure that the user enters a whole number between 0 and 99?"
   ]
  },
  {
   "cell_type": "code",
   "execution_count": null,
   "id": "5cf3270b",
   "metadata": {},
   "outputs": [],
   "source": [
    "By using the additional parameter like max or lessThan we can set the range of the input"
   ]
  },
  {
   "cell_type": "code",
   "execution_count": 1,
   "id": "948e6cb3",
   "metadata": {
    "scrolled": false
   },
   "outputs": [
    {
     "name": "stdout",
     "output_type": "stream",
     "text": [
      "Defaulting to user installation because normal site-packages is not writeableNote: you may need to restart the kernel to use updated packages.\n",
      "Requirement already satisfied: PyInputPlus in c:\\users\\dell\\appdata\\roaming\\python\\python39\\site-packages (0.2.12)\n",
      "Requirement already satisfied: stdiomask>=0.0.3 in c:\\users\\dell\\appdata\\roaming\\python\\python39\\site-packages (from PyInputPlus) (0.0.6)\n",
      "Requirement already satisfied: pysimplevalidate>=0.2.7 in c:\\users\\dell\\appdata\\roaming\\python\\python39\\site-packages (from PyInputPlus) (0.2.12)\n",
      "\n"
     ]
    }
   ],
   "source": [
    "pip install PyInputPlus "
   ]
  },
  {
   "cell_type": "code",
   "execution_count": 10,
   "id": "4bc7c58c",
   "metadata": {},
   "outputs": [
    {
     "name": "stdout",
     "output_type": "stream",
     "text": [
      "Enters a whole number between 0 and 99 : 111\n",
      "Number must be less than 100.\n",
      "Enters a whole number between 0 and 99 : 56\n"
     ]
    }
   ],
   "source": [
    "import pyinputplus as pyip\n",
    "a=pyip.inputInt(prompt=\"Enters a whole number between 0 and 99 : \",lessThan=100)"
   ]
  },
  {
   "cell_type": "markdown",
   "id": "563a4d67",
   "metadata": {},
   "source": [
    "5. What is transferred to the keyword arguments allowRegexes and blockRegexes?"
   ]
  },
  {
   "cell_type": "markdown",
   "id": "fb406c08",
   "metadata": {},
   "source": [
    "The keyword argument the allowRegexes and blockRegexes take a list of regular expression string to determine when the pyinputplus function will accept or reject as valid input.\n"
   ]
  },
  {
   "cell_type": "code",
   "execution_count": 23,
   "id": "7bc7bbf0",
   "metadata": {},
   "outputs": [
    {
     "name": "stdout",
     "output_type": "stream",
     "text": [
      "Enter your input : 7\n",
      "This response is invalid.\n",
      "Enter your input : 9\n",
      "This response is invalid.\n",
      "Enter your input : r\n",
      "'r' is not a number.\n",
      "Enter your input : e\n"
     ]
    }
   ],
   "source": [
    "response=pyip.inputNum(prompt=\"Enter your input : \", allowRegexes=[r'[aeiou]'],blockRegexes=[r'[79]'])\n"
   ]
  },
  {
   "cell_type": "markdown",
   "id": "4173a38f",
   "metadata": {},
   "source": [
    "6. If a blank input is entered three times, what does inputStr(limit=3) do?"
   ]
  },
  {
   "cell_type": "markdown",
   "id": "cf3576a0",
   "metadata": {},
   "source": [
    "This will return the blank value are not allowed 3 times since the number of try is set as 3 times. then the function will raise RetryLimitException"
   ]
  },
  {
   "cell_type": "code",
   "execution_count": 30,
   "id": "5b4b0bd7",
   "metadata": {
    "scrolled": true
   },
   "outputs": [
    {
     "name": "stdout",
     "output_type": "stream",
     "text": [
      " \n",
      "Blank values are not allowed.\n",
      " \n",
      "Blank values are not allowed.\n",
      "h\n"
     ]
    }
   ],
   "source": [
    "a=pyip.inputStr(limit=3)"
   ]
  },
  {
   "cell_type": "markdown",
   "id": "faee58c1",
   "metadata": {},
   "source": [
    "7. If blank input is entered three times, what does inputStr(limit=3, default='hello') do?"
   ]
  },
  {
   "cell_type": "code",
   "execution_count": null,
   "id": "77ceec44",
   "metadata": {},
   "outputs": [],
   "source": [
    "When running the code above, if we didn’t enter a valid number after 3 tries, then it’ll print 'hello' on the screen since we set the default value to hello."
   ]
  },
  {
   "cell_type": "code",
   "execution_count": 32,
   "id": "2aaf7aca",
   "metadata": {},
   "outputs": [
    {
     "name": "stdout",
     "output_type": "stream",
     "text": [
      " \n",
      "Blank values are not allowed.\n",
      " \n",
      "Blank values are not allowed.\n",
      " \n",
      "Blank values are not allowed.\n"
     ]
    }
   ],
   "source": [
    "a=pyip.inputStr(limit=3, default='hello')"
   ]
  }
 ],
 "metadata": {
  "kernelspec": {
   "display_name": "Python 3 (ipykernel)",
   "language": "python",
   "name": "python3"
  },
  "language_info": {
   "codemirror_mode": {
    "name": "ipython",
    "version": 3
   },
   "file_extension": ".py",
   "mimetype": "text/x-python",
   "name": "python",
   "nbconvert_exporter": "python",
   "pygments_lexer": "ipython3",
   "version": "3.9.12"
  }
 },
 "nbformat": 4,
 "nbformat_minor": 5
}
