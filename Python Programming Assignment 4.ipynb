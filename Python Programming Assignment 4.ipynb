{
 "cells": [
  {
   "cell_type": "markdown",
   "id": "57b6d724",
   "metadata": {},
   "source": [
    "### Python Programming Assignment 4"
   ]
  },
  {
   "cell_type": "markdown",
   "id": "23e8eb52",
   "metadata": {},
   "source": [
    "1.Write a Python Program to Find the Factorial of a Number?"
   ]
  },
  {
   "cell_type": "code",
   "execution_count": 4,
   "id": "5ebd3f8b",
   "metadata": {},
   "outputs": [
    {
     "name": "stdout",
     "output_type": "stream",
     "text": [
      "Enter the number5\n"
     ]
    },
    {
     "data": {
      "text/plain": [
       "'The factorial of 5 is:120'"
      ]
     },
     "execution_count": 4,
     "metadata": {},
     "output_type": "execute_result"
    }
   ],
   "source": [
    "\"\"\"To perform the factorial for the given number\"\"\"\n",
    "def fact(n):\n",
    "    res=1\n",
    "\"\"\"Check if the number is positive, negative or zero\"\"\"\n",
    "    if n>=0:\n",
    "        if n==0:\n",
    "            res=1\n",
    "            return (f\"The factorial of {n} is:{res}\")\n",
    "        else:\n",
    "            for i in range(1,n+1):\n",
    "                res=res*i\n",
    "            return (f\"The factorial of {n} is:{res}\")\n",
    "\"\"\"To get the input from the user\"\"\"\n",
    "n=int(input(\"Enter the number\"))    \n",
    "fact(n)    \n",
    "    "
   ]
  },
  {
   "cell_type": "markdown",
   "id": "409c466d",
   "metadata": {},
   "source": [
    "2.Write a Python Program to Display the multiplication Table?"
   ]
  },
  {
   "cell_type": "code",
   "execution_count": 13,
   "id": "25d55996",
   "metadata": {
    "scrolled": true
   },
   "outputs": [
    {
     "name": "stdout",
     "output_type": "stream",
     "text": [
      "Enter the table no you want to print 5\n",
      "Enter the length of the table 10\n",
      "1*5 = 5\n",
      "2*5 = 10\n",
      "3*5 = 15\n",
      "4*5 = 20\n",
      "5*5 = 25\n",
      "6*5 = 30\n",
      "7*5 = 35\n",
      "8*5 = 40\n",
      "9*5 = 45\n",
      "10*5 = 50\n"
     ]
    }
   ],
   "source": [
    "\"\"\"To display the multiplication table by getting the input from the user\"\"\"\n",
    "def display_multi(length,n):\n",
    "    if length!=0 and n!=0:\n",
    "        for i in range(1,length+1):\n",
    "            result=i*n\n",
    "            print (f\"{i}*{n} = {result}\")\n",
    "n=int(input(\"Enter the table no you want to print \"))\n",
    "length=int(input(\"Enter the length of the table \")) \n",
    "display_multi(length,n)\n"
   ]
  },
  {
   "cell_type": "markdown",
   "id": "26f68dbe",
   "metadata": {},
   "source": [
    "3.Write a Python Program to Print the Fibonacci sequence?"
   ]
  },
  {
   "cell_type": "code",
   "execution_count": 2,
   "id": "2ec01ebe",
   "metadata": {},
   "outputs": [
    {
     "name": "stdout",
     "output_type": "stream",
     "text": [
      "1\n",
      "1\n",
      "2\n",
      "3\n",
      "5\n",
      "8\n",
      "13\n"
     ]
    }
   ],
   "source": [
    "\"\"\"To print the fibonacci sequence\"\"\"\n",
    "def fib(num):\n",
    "    a,b=0,1\n",
    "    for i in range (num+1):\n",
    "        temp=a\n",
    "        a=b\n",
    "        b=temp+b\n",
    "    return a\n",
    "num=6\n",
    "for c in range(0,num+1):\n",
    "    print(fib(c))\n",
    "    "
   ]
  },
  {
   "cell_type": "markdown",
   "id": "ff89cd0d",
   "metadata": {},
   "source": [
    "4.Write a Python Program to Check Armstrong Number?"
   ]
  },
  {
   "cell_type": "code",
   "execution_count": 5,
   "id": "672d7605",
   "metadata": {},
   "outputs": [
    {
     "name": "stdout",
     "output_type": "stream",
     "text": [
      "Enter the number153\n",
      "The entered number is Armstrong Number\n"
     ]
    }
   ],
   "source": [
    "\"\"\"To check the Armstrong Number\"\"\"\n",
    "n=int(input(\"Enter the number\"))\n",
    "temp=n\n",
    "\"\"\"To get the number of digit in the given input\"\"\"\n",
    "p=len(str(n))\n",
    "sum=0\n",
    "while n!=0:\n",
    "    res=n%10\n",
    "    sum=sum+(res**p)\n",
    "    n=n//10\n",
    "if temp==sum:\n",
    "    print(\"The entered number is Armstrong Number\")\n",
    "else:\n",
    "    print(\"The entered number is Not Armstrong Number\")"
   ]
  },
  {
   "cell_type": "markdown",
   "id": "b9c5c94f",
   "metadata": {},
   "source": [
    "5.Write a Python Program to Find Armstrong Number in an Interval?"
   ]
  },
  {
   "cell_type": "code",
   "execution_count": 2,
   "id": "c3ec3e6e",
   "metadata": {},
   "outputs": [
    {
     "name": "stdout",
     "output_type": "stream",
     "text": [
      "Enter the start range10\n",
      "Enter the end range1000\n",
      "The number 153 is Armstrong Number in the range of 10 to 1000\n",
      "The number 370 is Armstrong Number in the range of 10 to 1000\n",
      "The number 371 is Armstrong Number in the range of 10 to 1000\n",
      "The number 407 is Armstrong Number in the range of 10 to 1000\n"
     ]
    }
   ],
   "source": [
    "start=int(input(\"Enter the start range\"))\n",
    "end=int(input(\"Enter the end range\"))\n",
    "for i in range (start, end+1):\n",
    "    temp=i\n",
    "    p=len(str(i))\n",
    "    sum=0\n",
    "    while i!=0:\n",
    "        res=i%10\n",
    "        sum=sum+(res**p)\n",
    "        i=i//10\n",
    "    if temp==sum:\n",
    "        print(f\"The number {sum} is Armstrong Number in the range of {start} to {end}\")\n",
    "            \n"
   ]
  },
  {
   "cell_type": "markdown",
   "id": "2631235c",
   "metadata": {},
   "source": [
    "6.Write a Python Program to Find the Sum of Natural Numbers?"
   ]
  },
  {
   "cell_type": "code",
   "execution_count": 6,
   "id": "e618a5af",
   "metadata": {},
   "outputs": [
    {
     "name": "stdout",
     "output_type": "stream",
     "text": [
      "Enter the start range 1\n",
      "Enter the end range 10\n",
      "Sum of the Natural numbers 55\n"
     ]
    }
   ],
   "source": [
    "start=int(input(\"Enter the start range \"))\n",
    "end=int(input(\"Enter the end range \"))\n",
    "sum=0\n",
    "for i in range (start, end+1):\n",
    "    sum=sum+i\n",
    "print(f\"Sum of the Natural numbers {sum}\")\n",
    "    "
   ]
  }
 ],
 "metadata": {
  "kernelspec": {
   "display_name": "Python 3 (ipykernel)",
   "language": "python",
   "name": "python3"
  },
  "language_info": {
   "codemirror_mode": {
    "name": "ipython",
    "version": 3
   },
   "file_extension": ".py",
   "mimetype": "text/x-python",
   "name": "python",
   "nbconvert_exporter": "python",
   "pygments_lexer": "ipython3",
   "version": "3.9.12"
  }
 },
 "nbformat": 4,
 "nbformat_minor": 5
}
