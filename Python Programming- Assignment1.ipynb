{
 "cells": [
  {
   "cell_type": "markdown",
   "id": "c853656d",
   "metadata": {},
   "source": [
    "###### PYTHON PROGRAMMING ASSIGNMENT 1"
   ]
  },
  {
   "cell_type": "markdown",
   "id": "363fc324",
   "metadata": {},
   "source": [
    "1.Write a Python program to print \"Hello Python\""
   ]
  },
  {
   "cell_type": "code",
   "execution_count": 1,
   "id": "1c49de9f",
   "metadata": {},
   "outputs": [
    {
     "name": "stdout",
     "output_type": "stream",
     "text": [
      "Hello Python\n"
     ]
    }
   ],
   "source": [
    "\"\"\"To print Hello python\"\"\"\n",
    "print(\"Hello Python\")"
   ]
  },
  {
   "cell_type": "markdown",
   "id": "ca127da1",
   "metadata": {},
   "source": [
    "2.Write a Python program to do arithmetical operations addition and division.?"
   ]
  },
  {
   "cell_type": "code",
   "execution_count": 5,
   "id": "5018da06",
   "metadata": {},
   "outputs": [
    {
     "name": "stdout",
     "output_type": "stream",
     "text": [
      "Enter the 1st number : 5\n",
      "Enter the 2nd number: 2\n",
      "The addition of given number is 7\n",
      "The Division of given number is 2.5\n"
     ]
    }
   ],
   "source": [
    "\"\"\"To do arithmetic operation additions and division\"\"\"\n",
    "def add_num(a,b):\n",
    "    \"\"\"This function perform addition of two numbers\"\"\"\n",
    "    return (f\"The addition of given number is {a+b}\")\n",
    "\n",
    "def div_num(c,d):\n",
    "    \"\"\"This function perform division of two numbers\"\"\"\n",
    "    try:\n",
    "        return (f\"The Division of given number is {a/b}\") \n",
    "    except ZeroDivisionError as e:\n",
    "        print(\"Enter the valid number, the exception is : \",e)\n",
    "   \n",
    "\"\"\"Get input from the user\"\"\"\n",
    "try:\n",
    "    a=int(input(\"Enter the 1st number : \"))\n",
    "    b=int(input(\"Enter the 2nd number: \"))\n",
    "except Exception as e:\n",
    "        print(\"Enter the valid integer\" ,e)\n",
    "print(add_num(a,b))\n",
    "print(div_num(a,b))\n",
    "\n",
    "\n"
   ]
  },
  {
   "cell_type": "markdown",
   "id": "9546b8bc",
   "metadata": {},
   "source": [
    "3.\tWrite a Python program to find the area of a triangle?"
   ]
  },
  {
   "cell_type": "code",
   "execution_count": 8,
   "id": "fc3cde66",
   "metadata": {},
   "outputs": [
    {
     "name": "stdout",
     "output_type": "stream",
     "text": [
      "Enter the base of the triangle: 3\n",
      "Enter the height of the triangle: 5\n",
      "The area of the triangle is : 7.5\n"
     ]
    }
   ],
   "source": [
    "def area_triangle(b,h):\n",
    "    \"\"\"This function to perform the area of the triangle\"\"\"\n",
    "    return(f\"The area of the triangle is : {(1/2)*b*h}\")\n",
    "b=int(input(\"Enter the base of the triangle: \"))\n",
    "h=int(input(\"Enter the height of the triangle: \"))   \n",
    "print(area_triangle(b,h))"
   ]
  },
  {
   "cell_type": "markdown",
   "id": "e260ea19",
   "metadata": {},
   "source": [
    "4.\tWrite a Python program to swap two variables?"
   ]
  },
  {
   "cell_type": "code",
   "execution_count": 9,
   "id": "a1df6a25",
   "metadata": {},
   "outputs": [
    {
     "name": "stdout",
     "output_type": "stream",
     "text": [
      "The two variable are var1:Python and var2:Program\n",
      "After swapping the two variable are var1:Program and var2:Python\n"
     ]
    }
   ],
   "source": [
    "var1=\"Python\"\n",
    "var2=\"Program\"\n",
    "print(f\"The two variable are var1:{var1} and var2:{var2}\")\n",
    "var1,var2=var2,var1\n",
    "print(f\"After swapping the two variable are var1:{var1} and var2:{var2}\")\n"
   ]
  },
  {
   "cell_type": "markdown",
   "id": "9947a04d",
   "metadata": {},
   "source": [
    "5.\tWrite a Python program to generate a random number?"
   ]
  },
  {
   "cell_type": "code",
   "execution_count": 12,
   "id": "739efa1b",
   "metadata": {},
   "outputs": [
    {
     "name": "stdout",
     "output_type": "stream",
     "text": [
      "Enter the starting range of the number 100000\n",
      "Enter the Ending range of the number 20000000\n",
      "12572911\n"
     ]
    }
   ],
   "source": [
    "import random \n",
    "# To generate random number importing the random module\n",
    "value1=int(input(\"Enter the starting range of the number \"))\n",
    "value2=int(input(\"Enter the Ending range of the number \"))\n",
    "print(random.randint(value1,value2))"
   ]
  }
 ],
 "metadata": {
  "kernelspec": {
   "display_name": "Python 3 (ipykernel)",
   "language": "python",
   "name": "python3"
  },
  "language_info": {
   "codemirror_mode": {
    "name": "ipython",
    "version": 3
   },
   "file_extension": ".py",
   "mimetype": "text/x-python",
   "name": "python",
   "nbconvert_exporter": "python",
   "pygments_lexer": "ipython3",
   "version": "3.9.12"
  }
 },
 "nbformat": 4,
 "nbformat_minor": 5
}
