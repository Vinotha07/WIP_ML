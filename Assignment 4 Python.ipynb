{
 "cells": [
  {
   "cell_type": "markdown",
   "id": "9b072a47",
   "metadata": {},
   "source": [
    "### Assignment 4 Python"
   ]
  },
  {
   "cell_type": "markdown",
   "id": "b041b7fc",
   "metadata": {},
   "source": [
    "1. What exactly is []?"
   ]
  },
  {
   "cell_type": "code",
   "execution_count": null,
   "id": "e8a5b423",
   "metadata": {},
   "outputs": [],
   "source": [
    "The square bracket represent the list. To create an empty list we can use it\n",
    "a=[]"
   ]
  },
  {
   "cell_type": "markdown",
   "id": "8e04b651",
   "metadata": {},
   "source": [
    "2. In a list of values stored in a variable called spam, how would you assign the value 'hello' as the third value? (Assume [2, 4, 6, 8, 10] are in spam.)"
   ]
  },
  {
   "cell_type": "code",
   "execution_count": 4,
   "id": "f6dfad02",
   "metadata": {},
   "outputs": [
    {
     "data": {
      "text/plain": [
       "[2, 4, 'hello', 6, 8, 10]"
      ]
     },
     "execution_count": 4,
     "metadata": {},
     "output_type": "execute_result"
    }
   ],
   "source": [
    "spam=[2, 4, 6, 8, 10] \n",
    "spam.insert(2,'hello')\n",
    "spam"
   ]
  },
  {
   "cell_type": "markdown",
   "id": "d98fb722",
   "metadata": {},
   "source": [
    "Let's pretend the spam includes the list ['a', 'b', 'c', 'd'] for the next three queries."
   ]
  },
  {
   "cell_type": "markdown",
   "id": "57876613",
   "metadata": {},
   "source": [
    "3. What is the value of spam[int(int('3' * 2) / 11)]?"
   ]
  },
  {
   "cell_type": "code",
   "execution_count": 5,
   "id": "bba3a261",
   "metadata": {},
   "outputs": [
    {
     "data": {
      "text/plain": [
       "'d'"
      ]
     },
     "execution_count": 5,
     "metadata": {},
     "output_type": "execute_result"
    }
   ],
   "source": [
    "spam=['a', 'b', 'c', 'd']\n",
    "spam[int(int('3' * 2) / 11)]"
   ]
  },
  {
   "cell_type": "markdown",
   "id": "99410571",
   "metadata": {},
   "source": [
    "The expression spam[int(int('3' * 2) / 11)] gives spam[3] , then it returns \"d\""
   ]
  },
  {
   "cell_type": "markdown",
   "id": "083a93c8",
   "metadata": {},
   "source": [
    "4. What is the value of spam[-1]?"
   ]
  },
  {
   "cell_type": "code",
   "execution_count": 6,
   "id": "7270dea3",
   "metadata": {},
   "outputs": [
    {
     "data": {
      "text/plain": [
       "'d'"
      ]
     },
     "execution_count": 6,
     "metadata": {},
     "output_type": "execute_result"
    }
   ],
   "source": [
    "spam=['a', 'b', 'c', 'd']\n",
    "spam[-1]"
   ]
  },
  {
   "cell_type": "markdown",
   "id": "5d915e4f",
   "metadata": {},
   "source": [
    "spam[-1] returns the last value of the list"
   ]
  },
  {
   "cell_type": "markdown",
   "id": "64861666",
   "metadata": {},
   "source": [
    "5. What is the value of spam[:2]?"
   ]
  },
  {
   "cell_type": "code",
   "execution_count": 7,
   "id": "aba28fe1",
   "metadata": {},
   "outputs": [
    {
     "data": {
      "text/plain": [
       "['a', 'b']"
      ]
     },
     "execution_count": 7,
     "metadata": {},
     "output_type": "execute_result"
    }
   ],
   "source": [
    "spam=['a', 'b', 'c', 'd']\n",
    "spam[:2]"
   ]
  },
  {
   "cell_type": "markdown",
   "id": "8ce12a7d",
   "metadata": {},
   "source": [
    "spam[:2] starts at 0 index and end at 1 . so it slices the list from a to b"
   ]
  },
  {
   "cell_type": "markdown",
   "id": "6f44cb58",
   "metadata": {},
   "source": [
    "Let's pretend bacon has the list [3.14, 'cat,' 11, 'cat,' True] for the next three questions."
   ]
  },
  {
   "cell_type": "markdown",
   "id": "bdec017a",
   "metadata": {},
   "source": [
    "6. What is the value of bacon.index('cat')?"
   ]
  },
  {
   "cell_type": "code",
   "execution_count": 9,
   "id": "de15a234",
   "metadata": {},
   "outputs": [
    {
     "data": {
      "text/plain": [
       "1"
      ]
     },
     "execution_count": 9,
     "metadata": {},
     "output_type": "execute_result"
    }
   ],
   "source": [
    "bacon=[3.14, 'cat', 11, 'cat', True]\n",
    "bacon.index('cat')"
   ]
  },
  {
   "cell_type": "markdown",
   "id": "b1d9b70d",
   "metadata": {},
   "source": [
    "index() function gives the index value as 1 that is the first occuring element in the list"
   ]
  },
  {
   "cell_type": "markdown",
   "id": "1b48df72",
   "metadata": {},
   "source": [
    "7. How does bacon.append(99) change the look of the list value in bacon?"
   ]
  },
  {
   "cell_type": "code",
   "execution_count": 11,
   "id": "cf8d3d59",
   "metadata": {},
   "outputs": [
    {
     "data": {
      "text/plain": [
       "[3.14, 'cat', 11, 'cat', True, 99]"
      ]
     },
     "execution_count": 11,
     "metadata": {},
     "output_type": "execute_result"
    }
   ],
   "source": [
    "bacon=[3.14, 'cat', 11, 'cat', True]\n",
    "bacon.append(99)\n",
    "bacon"
   ]
  },
  {
   "cell_type": "markdown",
   "id": "f85f948a",
   "metadata": {},
   "source": [
    "The append function add the element at the end of the list ."
   ]
  },
  {
   "cell_type": "markdown",
   "id": "133a6bce",
   "metadata": {},
   "source": [
    "8. How does bacon.remove('cat') change the look of the list in bacon?"
   ]
  },
  {
   "cell_type": "code",
   "execution_count": 13,
   "id": "df130dd6",
   "metadata": {},
   "outputs": [
    {
     "data": {
      "text/plain": [
       "[3.14, 11, 'cat', True]"
      ]
     },
     "execution_count": 13,
     "metadata": {},
     "output_type": "execute_result"
    }
   ],
   "source": [
    "bacon=[3.14, 'cat', 11, 'cat', True]\n",
    "bacon.remove('cat')\n",
    "bacon"
   ]
  },
  {
   "cell_type": "markdown",
   "id": "487171e4",
   "metadata": {},
   "source": [
    "bacon.remove('cat') remove the element 'cat' in first matching element in the list"
   ]
  },
  {
   "cell_type": "markdown",
   "id": "95844e6e",
   "metadata": {},
   "source": [
    "9. What are the list concatenation and list replication operators?"
   ]
  },
  {
   "cell_type": "code",
   "execution_count": 16,
   "id": "1097d5d6",
   "metadata": {},
   "outputs": [
    {
     "name": "stdout",
     "output_type": "stream",
     "text": [
      "List concatenation: [1, 2, 3, 4, 7, 8, 9]\n",
      "List Replication: [1, 2, 3, 4, 1, 2, 3, 4]\n"
     ]
    }
   ],
   "source": [
    "a=[1,2,3,4]\n",
    "b=[7,8,9]\n",
    "print(f\"List concatenation: {a+b}\")\n",
    "print(f\"List Replication: {a*2}\")"
   ]
  },
  {
   "cell_type": "markdown",
   "id": "82c15b04",
   "metadata": {},
   "source": [
    "The operator '+' is used for list concatenation where it concatenate the lists.\n",
    "The operator '*' is used for list replication where it duplicate or replicate the elements in the lists."
   ]
  },
  {
   "cell_type": "markdown",
   "id": "879e25b9",
   "metadata": {},
   "source": [
    "10. What is difference between the list methods append() and insert()?"
   ]
  },
  {
   "cell_type": "code",
   "execution_count": 25,
   "id": "cbc03f78",
   "metadata": {},
   "outputs": [
    {
     "name": "stdout",
     "output_type": "stream",
     "text": [
      "After appending[1, 2, 3, 4, 5]\n",
      "After Inserting[1, 2, 7, 3, 4, 5]\n"
     ]
    }
   ],
   "source": [
    "a=[1,2,3,4]\n",
    "a.append(5)\n",
    "print(f\"After appending{a}\")\n",
    "a.insert(2,7)\n",
    "print(f\"After Inserting{a}\")"
   ]
  },
  {
   "cell_type": "markdown",
   "id": "46003a37",
   "metadata": {},
   "source": [
    "Append()\n",
    "The element passed as an argument is appended to the end of the list\n",
    "Insert()\n",
    "The element passed as the argument can be inserted at any desired position by passing the index along with it as a parameter."
   ]
  },
  {
   "cell_type": "markdown",
   "id": "62d6e266",
   "metadata": {},
   "source": [
    "11. What are the two methods for removing items from a list?"
   ]
  },
  {
   "cell_type": "code",
   "execution_count": 32,
   "id": "b28ca0d5",
   "metadata": {},
   "outputs": [
    {
     "name": "stdout",
     "output_type": "stream",
     "text": [
      "[1, 2, 4]\n",
      "[1, 4]\n"
     ]
    }
   ],
   "source": [
    "a=[1,2,3,4]\n",
    "a.remove(3)\n",
    "print(a)\n",
    "a.pop(1)\n",
    "print(a)"
   ]
  },
  {
   "cell_type": "markdown",
   "id": "f484fa71",
   "metadata": {},
   "source": [
    "pop() and remove() are the two methods used to remove the items from the list.\n",
    "The pop() method removes an element at a given index, and will also return the removed item.\n",
    "The remove() function removes the first matching value from the list"
   ]
  },
  {
   "cell_type": "markdown",
   "id": "8602739d",
   "metadata": {},
   "source": [
    "12. Describe how list values and string values are identical."
   ]
  },
  {
   "cell_type": "markdown",
   "id": "3caf31f4",
   "metadata": {},
   "source": [
    "The similarity between Lists and Strings in Python is that both are sequences. The differences between them are that firstly, Lists are mutable but Strings are immutable. Secondly, elements of a list can be of different types whereas a String only contains characters that are all of String type."
   ]
  },
  {
   "cell_type": "markdown",
   "id": "ae0b5757",
   "metadata": {},
   "source": [
    "13. What's the difference between tuples and lists?"
   ]
  },
  {
   "cell_type": "markdown",
   "id": "de912993",
   "metadata": {},
   "source": [
    "Both Tuples and lists are the ordered collection of objects or values with different data types.\n",
    "The literal syntax of tuples is shown by parentheses () whereas the literal syntax of lists is shown by square brackets [] .\n",
    "Lists has variable length, tuple has fixed length.\n",
    "List has mutable nature, tuple has immutable nature.\n",
    "List has more functionality than the tuple."
   ]
  },
  {
   "cell_type": "markdown",
   "id": "d58e8af5",
   "metadata": {},
   "source": [
    "14. How do you type a tuple value that only contains the integer 42?"
   ]
  },
  {
   "cell_type": "code",
   "execution_count": 40,
   "id": "a0541131",
   "metadata": {},
   "outputs": [
    {
     "data": {
      "text/plain": [
       "tuple"
      ]
     },
     "execution_count": 40,
     "metadata": {},
     "output_type": "execute_result"
    }
   ],
   "source": [
    "a=(42,)\n",
    "type(a)"
   ]
  },
  {
   "cell_type": "markdown",
   "id": "9e8eb474",
   "metadata": {},
   "source": [
    "To create a tuple with only one item, you have add a comma after the item, otherwise Python will not recognize the variable as a tuple."
   ]
  },
  {
   "cell_type": "markdown",
   "id": "0003b17b",
   "metadata": {},
   "source": [
    "15. How do you get a list value's tuple form? How do you get a tuple value's list form?"
   ]
  },
  {
   "cell_type": "code",
   "execution_count": 45,
   "id": "cb2f785e",
   "metadata": {},
   "outputs": [
    {
     "name": "stdout",
     "output_type": "stream",
     "text": [
      "(1, 2, 3, 4)\n",
      "[9, 10, 23]\n"
     ]
    }
   ],
   "source": [
    "a=[1,2,3,4]\n",
    "print(tuple(a))\n",
    "\n",
    "c=(9,10,23)\n",
    "print(list(c))"
   ]
  },
  {
   "cell_type": "markdown",
   "id": "25fe88c3",
   "metadata": {},
   "source": [
    "We can convert the tuple into list and list to tuple by using the inbuilt function list() and tuple()"
   ]
  },
  {
   "cell_type": "markdown",
   "id": "5c0ac5f9",
   "metadata": {},
   "source": [
    "16. Variables that \"contain\" list values are not necessarily lists themselves. Instead, what do they contain?"
   ]
  },
  {
   "cell_type": "code",
   "execution_count": 46,
   "id": "aa00d548",
   "metadata": {},
   "outputs": [
    {
     "name": "stdout",
     "output_type": "stream",
     "text": [
      "[0, 2, 'hello', 4, 9]\n"
     ]
    }
   ],
   "source": [
    "a=[0,2,3,4,9]\n",
    "b=a\n",
    "b[2]=\"hello\"\n",
    "print(a)"
   ]
  },
  {
   "cell_type": "markdown",
   "id": "18d9708e",
   "metadata": {},
   "source": [
    "When we assign a list to a variable, we are actually assigning a list reference to the variable. A reference is a value that points to some bit of data, and a list reference is a value that points to a list. \n",
    "Variables will contain references to list values rather than list values themselves. But for strings and integer values, variables simply contain the string or integer value. Python uses references whenever variables must store values of mutable data types, such as lists or dictionaries. For values of immutable data types such as strings, integers, or tuples, Python variables will store the value itself."
   ]
  },
  {
   "cell_type": "markdown",
   "id": "1150048e",
   "metadata": {},
   "source": [
    "17. How do you distinguish between copy.copy() and copy.deepcopy()?"
   ]
  },
  {
   "cell_type": "code",
   "execution_count": 57,
   "id": "04bf0dc0",
   "metadata": {},
   "outputs": [
    {
     "name": "stdout",
     "output_type": "stream",
     "text": [
      "[0, 2, 3, 4, 9]\n",
      "[0, 2, 3, 4, 9]\n"
     ]
    }
   ],
   "source": [
    "import copy\n",
    "a=[0,2,3,4,9]\n",
    "b=copy.copy(a)\n",
    "c=copy.deepcopy(a)\n",
    "print(b)\n",
    "print(c)"
   ]
  },
  {
   "cell_type": "markdown",
   "id": "9e564786",
   "metadata": {},
   "source": [
    "In python the assignment operator not completely copy the values to the variable instead it just create a new variable that share the  reference of the original object.\n",
    "Deepcopy:\n",
    "A deep copy creates a new compound object before inserting copies of the items found in the original into it in a recursive manner. It means first constructing a new collection object and then recursively populating it with copies of the child objects found in the original. In the case of deep copy, a copy of the object is copied into another object.\n",
    "It means that any changes made to a copy of the object do not reflect in the original object\n",
    "Shallow copy:\n",
    "A shallow copy creates a new compound object and then references the objects contained in the original within it, which means it constructs a new collection object and then populates it with references to the child objects found in the original.\n",
    "Any changes made to a copy of an object do reflect in the original object. In python, this is implemented using the “copy()” function. "
   ]
  }
 ],
 "metadata": {
  "kernelspec": {
   "display_name": "Python 3 (ipykernel)",
   "language": "python",
   "name": "python3"
  },
  "language_info": {
   "codemirror_mode": {
    "name": "ipython",
    "version": 3
   },
   "file_extension": ".py",
   "mimetype": "text/x-python",
   "name": "python",
   "nbconvert_exporter": "python",
   "pygments_lexer": "ipython3",
   "version": "3.9.12"
  }
 },
 "nbformat": 4,
 "nbformat_minor": 5
}
