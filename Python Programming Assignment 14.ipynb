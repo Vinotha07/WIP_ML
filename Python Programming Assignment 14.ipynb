{
 "cells": [
  {
   "cell_type": "markdown",
   "id": "a9d8e1fe",
   "metadata": {},
   "source": [
    "#### Python Programming Assignment 14"
   ]
  },
  {
   "cell_type": "markdown",
   "id": "35bafa12",
   "metadata": {},
   "source": [
    "Question 1:\n",
    "\n",
    "Define a class with a generator which can iterate the numbers, which are divisible by 7, between a given range 0 and n.\n"
   ]
  },
  {
   "cell_type": "code",
   "execution_count": 10,
   "id": "b6687455",
   "metadata": {},
   "outputs": [
    {
     "name": "stdout",
     "output_type": "stream",
     "text": [
      "7\n",
      "14\n",
      "21\n",
      "28\n",
      "35\n",
      "42\n",
      "49\n",
      "56\n",
      "63\n",
      "70\n",
      "77\n",
      "84\n",
      "91\n",
      "98\n"
     ]
    }
   ],
   "source": [
    "\"\"\" To create the class to genrate the numbers which is divisible by 7\"\"\"\n",
    "class gen_div:\n",
    "    def __init__(self,n):\n",
    "        self.n=n\n",
    "\"\"\"Generator to perform the operation\"\"\"       \n",
    "    def div_fn(self):\n",
    "        for i in range(self.n):\n",
    "            if i%7==0 and i>0:\n",
    "                yield i\n",
    "                \n",
    "mylist=gen_div(100)\n",
    "\"\"\"To print the generator items\"\"\"\n",
    "for j in mylist.div_fn():\n",
    "    print (j)\n"
   ]
  },
  {
   "cell_type": "markdown",
   "id": "2272cc9c",
   "metadata": {},
   "source": [
    "Question 2:\n",
    "Write a program to compute the frequency of the words from the input. The output should output after sorting the key alphanumerically. \n",
    "\n",
    "Suppose the following input is supplied to the program:\n",
    "\n",
    "New to Python or choosing between Python 2 and Python 3? Read Python 2 or Python 3.\n",
    "\n",
    "Then, the output should be:\n",
    "\n",
    "2:2\n",
    "\n",
    "3.:1\n",
    "\n",
    "3?:1\n",
    "\n",
    "New:1\n",
    "\n",
    "Python:5\n",
    "\n",
    "Read:1\n",
    "\n",
    "and:1\n",
    "\n",
    "between:1\n",
    "\n",
    "choosing:1\n",
    "\n",
    "or:2\n",
    "\n",
    "to:1\n"
   ]
  },
  {
   "cell_type": "markdown",
   "id": "f332414c",
   "metadata": {},
   "source": [
    "\"\"\"Convert the string into list and then convert into set to get the unique values then sort it get the alphabetical order\"\"\"\n",
    "string=input(\"Enter your string\")\n",
    "wordlist=string.split()\n",
    "unique_words=set(wordlist)\n",
    "sort_words=sorted(unique_words)\n",
    "for word in sort_words:\n",
    "    result=(wordlist.count(word))\n",
    "    print(f'{word}:{result}')\n",
    "    \n",
    "            "
   ]
  },
  {
   "cell_type": "markdown",
   "id": "7ac6af58",
   "metadata": {},
   "source": [
    "Question 3:\n",
    "\n",
    "\n",
    "\n",
    "Define a class Person and its two child classes: Male and Female. All classes have a method \"getGender\" which can print \"Male\" for Male class and \"Female\" for Female class.\n"
   ]
  },
  {
   "cell_type": "code",
   "execution_count": 33,
   "id": "a784ea6a",
   "metadata": {},
   "outputs": [
    {
     "name": "stdout",
     "output_type": "stream",
     "text": [
      "Male\n",
      "Female\n"
     ]
    }
   ],
   "source": [
    "class Person:\n",
    "    def getGender(self):\n",
    "        print(\"To display the gender\")\n",
    "        \n",
    "class Male(Person):\n",
    "     def getGender(self):\n",
    "        print(\"Male\")\n",
    "        \n",
    "class Female(Person):\n",
    "     def getGender(self):\n",
    "        print(\"Female\")\n",
    "m=Male()\n",
    "f=Female()\n",
    "m.getGender()\n",
    "f.getGender()"
   ]
  },
  {
   "cell_type": "markdown",
   "id": "10200ba3",
   "metadata": {},
   "source": [
    "Question 4:\n",
    "Please write a program to generate all sentences where subject is in [\"I\", \"You\"] and verb is in [\"Play\", \"Love\"] and the object is in [\"Hockey\",\"Football\"].\n"
   ]
  },
  {
   "cell_type": "code",
   "execution_count": 35,
   "id": "4fa70082",
   "metadata": {},
   "outputs": [
    {
     "name": "stdout",
     "output_type": "stream",
     "text": [
      "I Play Hockey\n",
      "I Play Football\n",
      "I Love Hockey\n",
      "I Love Football\n",
      "You Play Hockey\n",
      "You Play Football\n",
      "You Love Hockey\n",
      "You Love Football\n"
     ]
    }
   ],
   "source": [
    "sub=[\"I\",\"You\"]\n",
    "verb=[\"Play\",\"Love\"]\n",
    "obj=[\"Hockey\",\"Football\"]\n",
    "for i in sub:\n",
    "    for j in verb:\n",
    "        for k in obj:\n",
    "            print(f\"{i} {j} {k}\")"
   ]
  },
  {
   "cell_type": "markdown",
   "id": "08f7de5b",
   "metadata": {},
   "source": [
    "Question 5:\n",
    "Please write a program to compress and decompress the string \"hello world!hello world!hello world!hello world!\".\n"
   ]
  },
  {
   "cell_type": "code",
   "execution_count": 42,
   "id": "6ace5eaa",
   "metadata": {},
   "outputs": [
    {
     "name": "stdout",
     "output_type": "stream",
     "text": [
      "original text size: 81\n",
      "Compressed size of the text 56\n",
      "Compressed: b'x\\x9c\\xcbH\\xcd\\xc9\\xc9W(\\xcf/\\xcaIQ\\xcc \\x82\\r\\x00\\xbd[\\x11\\xf5'\n",
      "Decompressed: b'hello world!hello world!hello world!hello world!'\n",
      "Decompressed size of the text 81\n"
     ]
    }
   ],
   "source": [
    "\"\"\"to compress and decompress import zlib module\n",
    "To get the size of the text importing sys module\"\"\"\n",
    "import zlib\n",
    "import sys\n",
    "\n",
    "text=b\"hello world!hello world!hello world!hello world!\"\n",
    "comp=zlib.compress(text)\n",
    "csize=sys.getsizeof(comp)\n",
    "print(f\"Compressed size of the text {csize}\")\n",
    "print(f\"Compressed: {comp}\")\n",
    "\n",
    "decomp=zlib.decompress(comp)\n",
    "print(f\"Decompressed: {decomp}\")\n",
    "dsize=sys.getsizeof(decomp)\n",
    "print(f\"Decompressed size of the text {dsize}\")"
   ]
  },
  {
   "cell_type": "markdown",
   "id": "db035be8",
   "metadata": {},
   "source": [
    "Question 6:\n",
    "Please write a binary search function which searches an item in a sorted list. The function should return the index of element to be searched in the list.\n"
   ]
  },
  {
   "cell_type": "code",
   "execution_count": 45,
   "id": "8073aa36",
   "metadata": {},
   "outputs": [
    {
     "name": "stdout",
     "output_type": "stream",
     "text": [
      "The occurence of 8 is at index 4 \n"
     ]
    }
   ],
   "source": [
    "\"\"\"Use bisect module to perform the binary search\"\"\"\n",
    "from bisect import bisect_left\n",
    "def BinarySearch(a,x):\n",
    "    i=bisect_left(a,x)\n",
    "    if i!=len(a) and a[i]==x:\n",
    "        return i\n",
    "    else:\n",
    "        return -1\n",
    "a=[1,4,6,7,8,9,10]\n",
    "x=int(8)\n",
    "result=BinarySearch(a,x)\n",
    "if result==-1:\n",
    "    print(x,\"is absent\")\n",
    "else:\n",
    "    print(f\"The occurence of {x} is at index {result} \")"
   ]
  },
  {
   "cell_type": "code",
   "execution_count": null,
   "id": "20046661",
   "metadata": {},
   "outputs": [],
   "source": []
  }
 ],
 "metadata": {
  "kernelspec": {
   "display_name": "Python 3 (ipykernel)",
   "language": "python",
   "name": "python3"
  },
  "language_info": {
   "codemirror_mode": {
    "name": "ipython",
    "version": 3
   },
   "file_extension": ".py",
   "mimetype": "text/x-python",
   "name": "python",
   "nbconvert_exporter": "python",
   "pygments_lexer": "ipython3",
   "version": "3.9.12"
  }
 },
 "nbformat": 4,
 "nbformat_minor": 5
}
