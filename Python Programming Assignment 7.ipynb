{
 "cells": [
  {
   "cell_type": "markdown",
   "id": "4fbc5652",
   "metadata": {},
   "source": [
    "# Python Programming Assignment 7"
   ]
  },
  {
   "cell_type": "markdown",
   "id": "2c477f42",
   "metadata": {},
   "source": [
    "1.Write a Python Program to find sum of array"
   ]
  },
  {
   "cell_type": "code",
   "execution_count": 42,
   "id": "fdefa6a1",
   "metadata": {},
   "outputs": [
    {
     "name": "stdout",
     "output_type": "stream",
     "text": [
      "[6 8 3 4]\n"
     ]
    }
   ],
   "source": [
    "\"\"\"To find the sum of the 2 arrays with different shape\"\"\"\n",
    "\"\"\"importing numpy \"\"\"\n",
    "import numpy as np\n",
    "a1=np.array([1,2,3,4])\n",
    "a2=np.array([5,6])\n",
    "\"\"\"resize the array since the a1 and a2 are different shape\"\"\"\n",
    "if a2.shape>a1.shape:\n",
    "    a1.resize(a2.shape)\n",
    "    a3=np.add(a1,a2)\n",
    "elif a1.shape>a2.shape:\n",
    "    a2.resize(a1.shape)\n",
    "    a3=np.add(a1,a2)\n",
    "print(a3)\n"
   ]
  },
  {
   "cell_type": "markdown",
   "id": "29436433",
   "metadata": {},
   "source": [
    "2.Write a Python Program to find largest element in an array?"
   ]
  },
  {
   "cell_type": "code",
   "execution_count": 34,
   "id": "009513ae",
   "metadata": {},
   "outputs": [
    {
     "name": "stdout",
     "output_type": "stream",
     "text": [
      "<class 'array.array'>\n"
     ]
    }
   ],
   "source": [
    "\"\"\"To find the larhest element in the array using max function\"\"\"\n",
    "import array\n",
    "a1=array.array('i',[1,25,35,89])\n",
    "max(a1)\n",
    "print(type(a1))"
   ]
  },
  {
   "cell_type": "markdown",
   "id": "60553ef6",
   "metadata": {},
   "source": [
    "3.Write a Python Program for array rotation?"
   ]
  },
  {
   "cell_type": "code",
   "execution_count": 48,
   "id": "5daf0567",
   "metadata": {},
   "outputs": [
    {
     "name": "stdout",
     "output_type": "stream",
     "text": [
      "Left Rotation :array('i', [3, 4, 5, 6, 1, 2])\n",
      "Right Rotation :array('i', [5, 6, 1, 2, 3, 4])\n"
     ]
    }
   ],
   "source": [
    "import array\n",
    "a1=array.array('i',[1,2,3,4,5,6])\n",
    "\"\"\"Number of rotation\"\"\"\n",
    "n=2\n",
    "\"\"\"considered the left 2 rotations \"\"\"\n",
    "a2=a1[n:]+a1[:n]\n",
    "print(f\"Left Rotation :{a2}\")\n",
    "\"\"\"considered the right 2 rotations \"\"\"\n",
    "a3=a1[-n:]+a1[:-n]\n",
    "print(f\"Right Rotation :{a3}\")\n"
   ]
  },
  {
   "cell_type": "markdown",
   "id": "4730c1f5",
   "metadata": {},
   "source": [
    "4.Write a Python Program to Split the array and add the first part to the end?"
   ]
  },
  {
   "cell_type": "code",
   "execution_count": 57,
   "id": "9ecc7b03",
   "metadata": {},
   "outputs": [
    {
     "name": "stdout",
     "output_type": "stream",
     "text": [
      "array('i', [4, 5, 1, 2, 3])\n"
     ]
    }
   ],
   "source": [
    "import array\n",
    "\"\"\"Split the array and add at the end\"\"\"\n",
    "a1=array.array('i',[1,2,3,4,5])\n",
    "a2=a1[3:]+a1[:3]\n",
    "print(a2)\n"
   ]
  },
  {
   "cell_type": "markdown",
   "id": "1a8ebd91",
   "metadata": {},
   "source": [
    "5.Write a Python Program to check if given array is Monotonic?"
   ]
  },
  {
   "cell_type": "code",
   "execution_count": 14,
   "id": "0ce997be",
   "metadata": {},
   "outputs": [
    {
     "name": "stdout",
     "output_type": "stream",
     "text": [
      "The array is in Increasing Monotonic \n"
     ]
    }
   ],
   "source": [
    "import array\n",
    "a=array.array('i',[1,2,3,4])\n",
    "n=len(a)\n",
    "inc=True\n",
    "dec=True\n",
    "\"\"\"To check whether the array is monotonic (increasing or decreasing order)\"\"\"\n",
    "for i in range(n-1):\n",
    "    if a[i]>a[i+1]:\n",
    "        inc=False\n",
    "for i in range(n-1):\n",
    "    if a[i]<a[i+1]:\n",
    "        dec=False\n",
    "if inc==True:\n",
    "    print(\"The array is in Increasing Monotonic \")\n",
    "elif dec==True:\n",
    "     print(\"The array is in Decreasing Monotonic \") \n",
    "else:\n",
    "    print(\"The array is not Monotonic\")"
   ]
  }
 ],
 "metadata": {
  "kernelspec": {
   "display_name": "Python 3 (ipykernel)",
   "language": "python",
   "name": "python3"
  },
  "language_info": {
   "codemirror_mode": {
    "name": "ipython",
    "version": 3
   },
   "file_extension": ".py",
   "mimetype": "text/x-python",
   "name": "python",
   "nbconvert_exporter": "python",
   "pygments_lexer": "ipython3",
   "version": "3.9.12"
  }
 },
 "nbformat": 4,
 "nbformat_minor": 5
}
