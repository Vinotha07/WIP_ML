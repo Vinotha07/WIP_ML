{
 "cells": [
  {
   "cell_type": "markdown",
   "id": "918293d6",
   "metadata": {},
   "source": [
    "1. To what does a relative path refer?"
   ]
  },
  {
   "cell_type": "markdown",
   "id": "7af881c9",
   "metadata": {},
   "source": [
    "Relative path means the path of a certain file relative to the current working directory."
   ]
  },
  {
   "cell_type": "markdown",
   "id": "8fd5fb93",
   "metadata": {},
   "source": [
    "2. What does an absolute path start with your operating system?"
   ]
  },
  {
   "cell_type": "markdown",
   "id": "acf359e0",
   "metadata": {},
   "source": [
    "An absolute path is also known as the full path starting with/ in Linux and MacOS and c:/ on windows."
   ]
  },
  {
   "cell_type": "markdown",
   "id": "7aaeb439",
   "metadata": {},
   "source": [
    "3. What do the functions os.getcwd() and os.chdir() do?"
   ]
  },
  {
   "cell_type": "markdown",
   "id": "86c26724",
   "metadata": {},
   "source": [
    "os.getcwd() gives the path of current working directory\n",
    "os.chdir() method is used to change the current working directory to specified path."
   ]
  },
  {
   "cell_type": "markdown",
   "id": "265d94c3",
   "metadata": {},
   "source": [
    "4. What are the . and .. folders?"
   ]
  },
  {
   "cell_type": "markdown",
   "id": "7adc9a66",
   "metadata": {},
   "source": [
    "A relative path points to a location relative to a current directory. Relative paths use two special symbols, a dot (.) and a double-dot (..), which translate into the current and parent directories."
   ]
  },
  {
   "cell_type": "markdown",
   "id": "306af414",
   "metadata": {},
   "source": [
    "5. In C:\\bacon\\eggs\\spam.txt, which part is the dir name, and which part is the base name?"
   ]
  },
  {
   "cell_type": "markdown",
   "id": "c65cdde7",
   "metadata": {},
   "source": [
    " C:\\bacon\\eggs is the dir name \n",
    " spam.txt is the base name"
   ]
  },
  {
   "cell_type": "markdown",
   "id": "68665b87",
   "metadata": {},
   "source": [
    "6. What are the three “mode” arguments that can be passed to the open() function?"
   ]
  },
  {
   "cell_type": "markdown",
   "id": "15a9e61e",
   "metadata": {},
   "source": [
    "'r'-read mode\n",
    "'w'-write mode\n",
    "'a'-append mode"
   ]
  },
  {
   "cell_type": "markdown",
   "id": "5e44d98a",
   "metadata": {},
   "source": [
    "7. What happens if an existing file is opened in write mode?"
   ]
  },
  {
   "cell_type": "markdown",
   "id": "b2c88c8b",
   "metadata": {},
   "source": [
    "The existing content is erased and it is overwritten"
   ]
  },
  {
   "cell_type": "markdown",
   "id": "2179259f",
   "metadata": {},
   "source": [
    "8. How do you tell the difference between read() and readlines()?"
   ]
  },
  {
   "cell_type": "markdown",
   "id": "537ff0a0",
   "metadata": {},
   "source": [
    "read() reads the entire file and returns a string\n",
    "readlines() returns a list of strings representing the lines of the file"
   ]
  },
  {
   "cell_type": "markdown",
   "id": "9cce0c75",
   "metadata": {},
   "source": [
    "9. What data structure does a shelf value resemble?"
   ]
  },
  {
   "cell_type": "markdown",
   "id": "c8e30d84",
   "metadata": {},
   "source": [
    "A shelf value resembles a dictionary value, it has keys and values.\n",
    "The shelve module in Python’s standard library is a simple yet effective tool for persistent data storage when using a relational database solution is not required. The shelf object defined in this module is dictionary-like object which is persistently stored in a disk file."
   ]
  }
 ],
 "metadata": {
  "kernelspec": {
   "display_name": "Python 3 (ipykernel)",
   "language": "python",
   "name": "python3"
  },
  "language_info": {
   "codemirror_mode": {
    "name": "ipython",
    "version": 3
   },
   "file_extension": ".py",
   "mimetype": "text/x-python",
   "name": "python",
   "nbconvert_exporter": "python",
   "pygments_lexer": "ipython3",
   "version": "3.9.12"
  }
 },
 "nbformat": 4,
 "nbformat_minor": 5
}
