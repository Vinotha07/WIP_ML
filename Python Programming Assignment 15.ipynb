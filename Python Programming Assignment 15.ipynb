{
 "cells": [
  {
   "cell_type": "markdown",
   "id": "a5443751",
   "metadata": {},
   "source": [
    "## Python Programming Assignment 15"
   ]
  },
  {
   "cell_type": "markdown",
   "id": "845bb424",
   "metadata": {},
   "source": [
    "Question 1:\n",
    "Please write a program using generator to print the numbers which can be divisible by 5 and 7 between 0 and n in comma separated form while n is input by console.\n",
    "Example:\n",
    "If the following n is given as input to the program:\n",
    "100\n",
    "Then, the output of the program should be:\n",
    "0,35,70\n"
   ]
  },
  {
   "cell_type": "code",
   "execution_count": 21,
   "id": "a4d45269",
   "metadata": {},
   "outputs": [
    {
     "name": "stdout",
     "output_type": "stream",
     "text": [
      "Enter the number: 100\n",
      "0,35,70\n"
     ]
    }
   ],
   "source": [
    "def gen_div(number):\n",
    "    for n in range(number):\n",
    "        if n%5==0 and n%7==0:\n",
    "            yield n\n",
    "number=int(input(\"Enter the number: \"))\n",
    "result=list()\n",
    "for i in gen_div(number):\n",
    "    result.append(i)\n",
    "#     using sep we can separate the output by , the * helps to unpack the iterables ie., it unpack the elements in the list \n",
    "print(*result,sep=\",\")\n",
    "   "
   ]
  },
  {
   "cell_type": "markdown",
   "id": "de254f3a",
   "metadata": {},
   "source": [
    "Question 2:\n",
    "Please write a program using generator to print the even numbers between 0 and n in comma separated form while n is input by console.\n",
    "Example:\n",
    "If the following n is given as input to the program:\n",
    "10\n",
    "Then, the output of the program should be:\n",
    "0,2,4,6,8,10\n"
   ]
  },
  {
   "cell_type": "code",
   "execution_count": 23,
   "id": "f28fe3f0",
   "metadata": {},
   "outputs": [
    {
     "name": "stdout",
     "output_type": "stream",
     "text": [
      "Enter the number: 10\n",
      "0,2,4,6,8,10\n"
     ]
    }
   ],
   "source": [
    "def gen_even(number):\n",
    "    for n in range(number+1):\n",
    "        if n%2==0:\n",
    "            yield n\n",
    "number=int(input(\"Enter the number: \"))\n",
    "result=list()\n",
    "for i in gen_even(number):\n",
    "    result.append(i)\n",
    "#     using sep we can separate the output by , the * helps to unpack the iterables ie., it unpack the elements in the list \n",
    "print(*result,sep=\",\")"
   ]
  },
  {
   "cell_type": "markdown",
   "id": "5ab21349",
   "metadata": {},
   "source": [
    "Question 3:\n",
    "The Fibonacci Sequence is computed based on the following formula:\n",
    "f(n)=0 if n=0\n",
    "f(n)=1 if n=1\n",
    "f(n)=f(n-1)+f(n-2) if n>1\n",
    "Please write a program using list comprehension to print the Fibonacci Sequence in comma separated form with a given n input by console.\n",
    "Example:\n",
    "If the following n is given as input to the program:\n",
    "7\n",
    "\n",
    "Then, the output of the program should be:\n",
    "0,1,1,2,3,5,8,13\n"
   ]
  },
  {
   "cell_type": "code",
   "execution_count": 13,
   "id": "46ba1acf",
   "metadata": {},
   "outputs": [
    {
     "name": "stdout",
     "output_type": "stream",
     "text": [
      "Enter the number: 7\n",
      "0,1,1,2,3,5,8,13\n"
     ]
    }
   ],
   "source": [
    "\"\"\"Using list comprehension\"\"\"\n",
    "number=int(input(\"Enter the number: \"))\n",
    "mylist=[0,1]\n",
    "[mylist.append(mylist[n-1]+mylist[n-2]) for n in range(2,number+1)]\n",
    "print(*mylist, sep=\",\")"
   ]
  },
  {
   "cell_type": "code",
   "execution_count": 6,
   "id": "2f34e9e0",
   "metadata": {},
   "outputs": [
    {
     "name": "stdout",
     "output_type": "stream",
     "text": [
      "Enter the number: 7\n",
      "0,1,1,2,3,5,8,13\n"
     ]
    }
   ],
   "source": [
    "\"\"\" using for loop\"\"\"\n",
    "def gen_fib(number):\n",
    "    a=0\n",
    "    b=1\n",
    "    for n in range(number+1):\n",
    "        yield a\n",
    "        a,b=b,b+a\n",
    "number=int(input(\"Enter the number: \"))\n",
    "result=list()\n",
    "for i in gen_fib(number):\n",
    "    result.append(i)\n",
    "#     using sep we can separate the output by , the * helps to unpack the iterables ie., it unpack the elements in the list \n",
    "print(*result,sep=\",\")"
   ]
  },
  {
   "cell_type": "markdown",
   "id": "9c3d707f",
   "metadata": {},
   "source": [
    "Question 4:\n",
    "Assuming that we have some email addresses in the \"username@companyname.com\" format, please write program to print the user name of a given email address. Both user names and company names are composed of letters only.\n",
    "Example:\n",
    "If the following email address is given as input to the program:\n",
    "john@google.com\n",
    "Then, the output of the program should be:\n",
    "john\n"
   ]
  },
  {
   "cell_type": "code",
   "execution_count": 24,
   "id": "a30eb357",
   "metadata": {},
   "outputs": [
    {
     "name": "stdout",
     "output_type": "stream",
     "text": [
      "Enter your email IDvinotha@infotech.com\n"
     ]
    },
    {
     "data": {
      "text/plain": [
       "'vinotha'"
      ]
     },
     "execution_count": 24,
     "metadata": {},
     "output_type": "execute_result"
    }
   ],
   "source": [
    "\"\"\"By importing regex module we can find the pattern\"\"\"\n",
    "import re\n",
    "text=input(\"Enter your email ID\")\n",
    "pattern='([a-zA-Z]+)[?:.\\@a-zA-Z]+[?:.\\.a-zA-Z]+'\n",
    "matches=re.findall(pattern,text)\n",
    "\"\".join(matches)"
   ]
  },
  {
   "cell_type": "markdown",
   "id": "ead655c3",
   "metadata": {},
   "source": [
    "Question 5:\n",
    "Define a class named Shape and its subclass Square. The Square class has an init function which takes a length as argument. Both classes have a area function which can print the area of the shape where Shape's area is 0 by default.\n"
   ]
  },
  {
   "cell_type": "code",
   "execution_count": 27,
   "id": "749bf61c",
   "metadata": {},
   "outputs": [
    {
     "name": "stdout",
     "output_type": "stream",
     "text": [
      "Area of the sqaure is : 25\n",
      "Area of the shape is :0\n"
     ]
    }
   ],
   "source": [
    "class Shape:\n",
    "    def __init__(self,len):\n",
    "        self.len=len\n",
    "    def area(self):\n",
    "        area=0\n",
    "        print(f\"Area of the shape is :{area}\")\n",
    "# subclass    \n",
    "class Square(Shape):\n",
    "    def area1(self):\n",
    "        area=self.len*self.len\n",
    "        print(f\"Area of the sqaure is : {area}\")\n",
    "# Object created using subclass    \n",
    "s=Square(5)\n",
    "s.area1()\n",
    "s.area()"
   ]
  }
 ],
 "metadata": {
  "kernelspec": {
   "display_name": "Python 3 (ipykernel)",
   "language": "python",
   "name": "python3"
  },
  "language_info": {
   "codemirror_mode": {
    "name": "ipython",
    "version": 3
   },
   "file_extension": ".py",
   "mimetype": "text/x-python",
   "name": "python",
   "nbconvert_exporter": "python",
   "pygments_lexer": "ipython3",
   "version": "3.9.12"
  }
 },
 "nbformat": 4,
 "nbformat_minor": 5
}
