{
 "cells": [
  {
   "cell_type": "markdown",
   "id": "281ef9a6",
   "metadata": {},
   "source": [
    "#### Assignment 7 Python"
   ]
  },
  {
   "cell_type": "markdown",
   "id": "4a24e975",
   "metadata": {},
   "source": [
    "1. What is the name of the feature responsible for generating Regex objects?"
   ]
  },
  {
   "cell_type": "code",
   "execution_count": null,
   "id": "91647d7e",
   "metadata": {},
   "outputs": [],
   "source": [
    "re.compile() create a Regex object"
   ]
  },
  {
   "cell_type": "markdown",
   "id": "640d2ee2",
   "metadata": {},
   "source": [
    "2. Why do raw strings often appear in Regex objects?"
   ]
  },
  {
   "cell_type": "markdown",
   "id": "40fe2b2f",
   "metadata": {},
   "source": [
    "Raw string is used by adding r as prefix to the strings.We often use raw strings in Regex objects because the raw string  escapes the backslash. since the regex expression has backslash."
   ]
  },
  {
   "cell_type": "code",
   "execution_count": 4,
   "id": "f853ccd9",
   "metadata": {},
   "outputs": [
    {
     "name": "stdout",
     "output_type": "stream",
     "text": [
      "Enter your\\n value\n",
      "Enter your\n",
      "value\n"
     ]
    }
   ],
   "source": [
    "s=r'Enter your\\n value'\n",
    "t='Enter your\\nvalue'\n",
    "print(s)\n",
    "print(t)"
   ]
  },
  {
   "cell_type": "markdown",
   "id": "847978a8",
   "metadata": {},
   "source": [
    "3. What is the return value of the search() method?"
   ]
  },
  {
   "cell_type": "markdown",
   "id": "814aebd5",
   "metadata": {},
   "source": [
    "search() method returns the first matched pattern in the target string"
   ]
  },
  {
   "cell_type": "markdown",
   "id": "513f7b66",
   "metadata": {},
   "source": [
    "4. From a Match item, how do you get the actual strings that match the pattern?"
   ]
  },
  {
   "cell_type": "markdown",
   "id": "0c8994b2",
   "metadata": {},
   "source": [
    "The group() method return the actual strings that match the pattern"
   ]
  },
  {
   "cell_type": "code",
   "execution_count": 4,
   "id": "8d2e3429",
   "metadata": {
    "scrolled": true
   },
   "outputs": [
    {
     "name": "stdout",
     "output_type": "stream",
     "text": [
      "7523782\n"
     ]
    }
   ],
   "source": [
    "import re\n",
    "a=\"This is my reg no 7523782\"\n",
    "res=re.search(\"[0-9]+\",a)\n",
    "print(res.group())"
   ]
  },
  {
   "cell_type": "markdown",
   "id": "bbca53e3",
   "metadata": {},
   "source": [
    "5. In the regex which created from the r'(\\d\\d\\d)-(\\d\\d\\d-\\d\\d\\d\\d)', what does group zero cover? Group 2? Group 1?"
   ]
  },
  {
   "cell_type": "markdown",
   "id": "d542e221",
   "metadata": {},
   "source": [
    "A group is a part of regex pattern enclosed in a parantheses()metacharacter.\n",
    "Group 0 is the entire match , group 1 covers the first set of parantheses. Group2 is the second set of parantheses"
   ]
  },
  {
   "cell_type": "code",
   "execution_count": 12,
   "id": "ea6598e6",
   "metadata": {},
   "outputs": [
    {
     "name": "stdout",
     "output_type": "stream",
     "text": [
      "Groups: 123-456-4856\n",
      "Group 0: 123-456-4856\n",
      "Group 1: 123\n",
      "Group 2: 456-4856\n"
     ]
    }
   ],
   "source": [
    "string=\"my ph no is 123-456-48562\"\n",
    "res=re.search( r'(\\d\\d\\d)-(\\d\\d\\d-\\d\\d\\d\\d)',string)\n",
    "print(f\"Groups: {res.group(0)}\")\n",
    "print(f\"Group 0: {res.group(0)}\")\n",
    "print(f\"Group 1: {res.group(1)}\")\n",
    "print(f\"Group 2: {res.group(2)}\")"
   ]
  },
  {
   "cell_type": "markdown",
   "id": "91992d9d",
   "metadata": {},
   "source": [
    "6. In standard expression syntax, parentheses and intervals have distinct meanings. How can you tell a regex that you want it to fit real parentheses and periods?"
   ]
  },
  {
   "cell_type": "markdown",
   "id": "fe94b9f3",
   "metadata": {},
   "source": [
    "Periods and parentheses can be escaped with a backslash: \\. and \\( \\)"
   ]
  },
  {
   "cell_type": "markdown",
   "id": "98321533",
   "metadata": {},
   "source": [
    "7. The findall() method returns a string list or a list of string tuples. What causes it to return one of the two options?"
   ]
  },
  {
   "cell_type": "markdown",
   "id": "93d099d7",
   "metadata": {},
   "source": [
    "The result of the findall() function depends on the pattern:\n",
    "\n",
    "If the pattern has no capturing groups, the findall() function returns a list of strings that match the whole pattern.\n",
    "If the pattern has one capturing group, the findall() function returns a list of strings that match the group.\n",
    "If the pattern has multiple capturing groups, the findall() function returns the tuples of strings that match the groups."
   ]
  },
  {
   "cell_type": "code",
   "execution_count": 26,
   "id": "4460ec70",
   "metadata": {},
   "outputs": [
    {
     "name": "stdout",
     "output_type": "stream",
     "text": [
      "[('123', '456-4856')]\n",
      "['A', 'B', 'C']\n"
     ]
    }
   ],
   "source": [
    "import re\n",
    "string=\"ABC ph no is 123-456-48562\"\n",
    "res=re.findall( r'(\\d\\d\\d)-(\\d\\d\\d-\\d\\d\\d\\d)',string)\n",
    "res1=re.findall('[A-Z]',string)\n",
    "print(res)\n",
    "print(res1)"
   ]
  },
  {
   "cell_type": "markdown",
   "id": "4e4e42dc",
   "metadata": {},
   "source": [
    "8. In standard expressions, what does the | character mean?"
   ]
  },
  {
   "cell_type": "markdown",
   "id": "a7a581ff",
   "metadata": {},
   "source": [
    "In standard expression | perform bitwise OR operation. "
   ]
  },
  {
   "cell_type": "markdown",
   "id": "3de34112",
   "metadata": {},
   "source": [
    "9. In regular expressions, what does the character stand for?"
   ]
  },
  {
   "cell_type": "markdown",
   "id": "522a7441",
   "metadata": {},
   "source": [
    "A regular expression is a sequence of characters that define a pattern. It has meta characters (\\d, \\D, \\s, \\W,\\w) and the operators(+, *, ?,|,^)"
   ]
  },
  {
   "cell_type": "markdown",
   "id": "c7d09c07",
   "metadata": {},
   "source": [
    "10.In regular expressions, what is the difference between the + and * characters?"
   ]
  },
  {
   "cell_type": "markdown",
   "id": "2ecfabd3",
   "metadata": {},
   "source": [
    "* means zero or more occurrence of the pattern in the string while \n",
    "+ means that one or more occurrence of the pattern in the string"
   ]
  },
  {
   "cell_type": "markdown",
   "id": "76a0e5e4",
   "metadata": {},
   "source": [
    "11. What is the difference between {4} and {4,5} in regular expression?"
   ]
  },
  {
   "cell_type": "code",
   "execution_count": null,
   "id": "34e88b8f",
   "metadata": {},
   "outputs": [],
   "source": [
    "{4} matches the previous token exactly by 4 times\n",
    "{4,5} matches the previous token between 4  and 5 times as many time as possible and giving back as needed"
   ]
  },
  {
   "cell_type": "markdown",
   "id": "7a795b78",
   "metadata": {},
   "source": [
    "12. What do you mean by the \\d, \\w, and \\s shorthand character classes signify in regular expressions?"
   ]
  },
  {
   "cell_type": "code",
   "execution_count": null,
   "id": "181788a0",
   "metadata": {},
   "outputs": [],
   "source": [
    "\\d matches a digit\n",
    "\\w matches alphanumeric or word\n",
    "\\s matches any whitespace"
   ]
  },
  {
   "cell_type": "markdown",
   "id": "d9d6aa79",
   "metadata": {},
   "source": [
    "13. What do means by \\D, \\W, and \\S shorthand character classes signify in regular expressions?"
   ]
  },
  {
   "cell_type": "markdown",
   "id": "7749b4a9",
   "metadata": {},
   "source": [
    "\\D macthes any charcter that is not a digit\n",
    "\\W macthes any charcter that is not a alphanumeric or word\n",
    "\\S matches any non space character"
   ]
  },
  {
   "cell_type": "markdown",
   "id": "498e9fc2",
   "metadata": {},
   "source": [
    "14. What is the difference between .*? and .*?"
   ]
  },
  {
   "cell_type": "markdown",
   "id": "7d1ac221",
   "metadata": {},
   "source": [
    "The greedy quantifiers ?, *, and + match as many repetitions of the quantified pattern as possible. The non-greedy quantifiers ??, *?, and +? match as few repetitions of the quantified pattern as possible."
   ]
  },
  {
   "cell_type": "code",
   "execution_count": 31,
   "id": "72c38900",
   "metadata": {},
   "outputs": [
    {
     "name": "stdout",
     "output_type": "stream",
     "text": [
      "Non Greedy:['a', 'a']\n",
      "Greedy:['applefkfha']\n"
     ]
    }
   ],
   "source": [
    "import re\n",
    "res1=re.findall('a.*?','applefkfha')\n",
    "res2=re.findall('a.*','applefkfha')\n",
    "print(f'Non Greedy:{res1}')\n",
    "print(f'Greedy:{res2}')"
   ]
  },
  {
   "cell_type": "markdown",
   "id": "29ad4ccc",
   "metadata": {},
   "source": [
    "15. What is the syntax for matching both numbers and lowercase letters with a character class?"
   ]
  },
  {
   "cell_type": "markdown",
   "id": "987342d6",
   "metadata": {},
   "source": [
    "The character class [a-z0-9] will match all lowercase letters and numbers."
   ]
  },
  {
   "cell_type": "markdown",
   "id": "5f17dc3e",
   "metadata": {},
   "source": [
    "16. What is the procedure for making a normal expression in regax case insensitive?"
   ]
  },
  {
   "cell_type": "markdown",
   "id": "b7ae668e",
   "metadata": {},
   "source": [
    "We can use re.IGNORECASE flag . It is passed as an option argument to re.compile()"
   ]
  },
  {
   "cell_type": "markdown",
   "id": "f125f4ea",
   "metadata": {},
   "source": [
    "17. What does the . character normally match? What does it match if re.DOTALL is passed as 2nd argument in re.compile()?"
   ]
  },
  {
   "cell_type": "markdown",
   "id": "769f918f",
   "metadata": {},
   "source": [
    "The character . matches all the characters except the newline character.\n",
    "By using re. DOTALL flag, we can modify the behavior of dot (.) character to match the newline character apart from other characters. "
   ]
  },
  {
   "cell_type": "code",
   "execution_count": 48,
   "id": "d7cbb2ce",
   "metadata": {},
   "outputs": [
    {
     "name": "stdout",
     "output_type": "stream",
     "text": [
      "<re.Match object; span=(0, 5), match='Hello'>\n",
      "<re.Match object; span=(0, 14), match='Hello\\nPython 3'>\n"
     ]
    }
   ],
   "source": [
    "import re\n",
    "pattern=re.compile(\".+\")\n",
    "g=pattern.search(\"Hello\\nPython 3\")\n",
    "print(g)\n",
    "pattern2=re.compile(\".+\",re.DOTALL)\n",
    "h=pattern2.search(\"Hello\\nPython 3\")\n",
    "print(h)\n"
   ]
  },
  {
   "cell_type": "markdown",
   "id": "86a82871",
   "metadata": {},
   "source": [
    "18. If numReg = re.compile(r'\\d+'), what will numRegex.sub('X', '11 drummers, 10 pipers, five rings, 4 hen') return?"
   ]
  },
  {
   "cell_type": "markdown",
   "id": "cf40c610",
   "metadata": {},
   "source": [
    "The numreg.sub replace the matched pattern with X in the string as below"
   ]
  },
  {
   "cell_type": "code",
   "execution_count": 50,
   "id": "71296696",
   "metadata": {},
   "outputs": [
    {
     "data": {
      "text/plain": [
       "'X drummers, X pipers, five rings, X hen'"
      ]
     },
     "execution_count": 50,
     "metadata": {},
     "output_type": "execute_result"
    }
   ],
   "source": [
    "numReg = re.compile(r'\\d+')\n",
    "numReg.sub('X', '11 drummers, 10 pipers, five rings, 4 hen') "
   ]
  },
  {
   "cell_type": "markdown",
   "id": "c152c170",
   "metadata": {},
   "source": [
    "19. What does passing re.VERBOSE as the 2nd argument to re.compile() allow to do?"
   ]
  },
  {
   "cell_type": "markdown",
   "id": "41b41bad",
   "metadata": {},
   "source": [
    "re.VERBOSE : This flag allows to write regular expressions that look nicer and are more readable by allowing you to visually separate logical sections of the pattern and add comments."
   ]
  },
  {
   "cell_type": "code",
   "execution_count": 88,
   "id": "3b0826e6",
   "metadata": {},
   "outputs": [
    {
     "data": {
      "text/plain": [
       "[' ', '@', 'I', 'N']"
      ]
     },
     "execution_count": 88,
     "metadata": {},
     "output_type": "execute_result"
    }
   ],
   "source": [
    "import re\n",
    "reg = re.compile(r\"\"\"\n",
    "[^\\d+\n",
    "a-z]\n",
    "\n",
    "\"\"\", re.VERBOSE)\n",
    "res=reg.findall(\"43app @IN\")\n",
    "res\n"
   ]
  },
  {
   "cell_type": "markdown",
   "id": "3ff41780",
   "metadata": {},
   "source": [
    "20. How would you write a regex that match a number with comma for every three digits? It must match the given following:\n",
    "'42'\n",
    "'1,234'\n",
    "'6,368,745'\n",
    "but not the following:\n",
    "'12,34,567' (which has only two digits between the commas)\n",
    "'1234' (which lacks commas)\n"
   ]
  },
  {
   "cell_type": "code",
   "execution_count": 103,
   "id": "e400d746",
   "metadata": {},
   "outputs": [
    {
     "name": "stdout",
     "output_type": "stream",
     "text": [
      "match=<re.Match object; span=(0, 2), match='42'>\n",
      "match=<re.Match object; span=(0, 5), match='1,234'>\n",
      "match=<re.Match object; span=(0, 9), match='6,368,745'>\n",
      "No match found: 1234\n",
      "No match found: 12,34,567\n"
     ]
    }
   ],
   "source": [
    "import re\n",
    "numbers= ['42','1,234','6,368,745','1234', '12,34,567']\n",
    "regex = re.compile(r'(^\\d{1,3})(,\\d{3})*$')\n",
    "for num in numbers:\n",
    "    match = regex.fullmatch(num)\n",
    "    if match:\n",
    "        print(f'{match=}')\n",
    "    else:\n",
    "         print(f'No match found: {num}')\n",
    "   "
   ]
  },
  {
   "cell_type": "markdown",
   "id": "2fab1e3b",
   "metadata": {},
   "source": [
    "21. How would you write a regex that matches the full name of someone whose last name is Watanabe? You can assume that the first name that comes before it will always be one word that begins with a capital letter. The regex must match the following:\n",
    "'Haruto Watanabe'\n",
    "'Alice Watanabe'\n",
    "'RoboCop Watanabe'\n",
    "but not the following:\n",
    "'haruto Watanabe' (where the first name is not capitalized)\n",
    "'Mr. Watanabe' (where the preceding word has a nonletter character)\n",
    "'Watanabe' (which has no first name)\n",
    "'Haruto watanabe' (where Watanabe is not capitalized)\n"
   ]
  },
  {
   "cell_type": "code",
   "execution_count": 9,
   "id": "c2a95d08",
   "metadata": {},
   "outputs": [
    {
     "name": "stdout",
     "output_type": "stream",
     "text": [
      "match=<re.Match object; span=(0, 15), match='Haruto Watanabe'>\n",
      "match=<re.Match object; span=(0, 14), match='Alice Watanabe'>\n",
      "match=<re.Match object; span=(0, 16), match='RoboCop Watanabe'>\n",
      "No match found: haruto Watanabe\n",
      "No match found: Mr. Watanabe\n",
      "No match found: Watanabe\n",
      "No match found: Haruto watanabe\n"
     ]
    }
   ],
   "source": [
    "\n",
    "import re\n",
    "names= ['Haruto Watanabe','Alice Watanabe','RoboCop Watanabe','haruto Watanabe','Mr. Watanabe','Watanabe','Haruto watanabe']\n",
    "regex = re.compile(r'[A-Z][A-Za-z]*\\sWatanabe')\n",
    "for name in names:\n",
    "    match = regex.fullmatch(name)\n",
    "    if match:\n",
    "        print(f'{match=}')\n",
    "    else:\n",
    "         print(f'No match found: {name}')\n",
    "   "
   ]
  },
  {
   "cell_type": "markdown",
   "id": "6ceb061c",
   "metadata": {},
   "source": [
    "22. How would you write a regex that matches a sentence where the first word is either Alice, Bob, or Carol; the second word is either eats, pets, or throws; the third word is apples, cats, or baseballs; and the sentence ends with a period? This regex should be case-insensitive. It must match the following:\n",
    "'Alice eats apples.'\n",
    "'Bob pets cats.'\n",
    "'Carol throws baseballs.'\n",
    "'Alice throws Apples.'\n",
    "'BOB EATS CATS.'\n",
    "but not the following:\n",
    "'RoboCop eats apples.'\n",
    "'ALICE THROWS FOOTBALLS.'\n",
    "'Carol eats 7 cats.'\n"
   ]
  },
  {
   "cell_type": "code",
   "execution_count": 15,
   "id": "7394fe14",
   "metadata": {},
   "outputs": [
    {
     "name": "stdout",
     "output_type": "stream",
     "text": [
      "match=<re.Match object; span=(0, 18), match='Alice eats apples.'>\n",
      "match=<re.Match object; span=(0, 14), match='Bob pets cats.'>\n",
      "match=<re.Match object; span=(0, 23), match='Carol throws baseballs.'>\n",
      "match=<re.Match object; span=(0, 20), match='Alice throws Apples.'>\n",
      "match=<re.Match object; span=(0, 14), match='BOB EATS CATS.'>\n",
      "No match found: RoboCop eats apples.\n",
      "No match found: ALICE THROWS FOOTBALLS.\n",
      "No match found: Carol eats 7 cats.\n"
     ]
    }
   ],
   "source": [
    "import re\n",
    "phrases= ['Alice eats apples.','Bob pets cats.','Carol throws baseballs.','Alice throws Apples.','BOB EATS CATS.','RoboCop eats apples.','ALICE THROWS FOOTBALLS.','Carol eats 7 cats.']\n",
    "regex = re.compile(r'(Alice|Bob|Carol)+\\s(eats|pets|throws)+\\s(apples|cats|baseballs)+\\.',re.IGNORECASE)\n",
    "for phrase in phrases:\n",
    "    match = regex.fullmatch(phrase)\n",
    "    if match:\n",
    "        print(f'{match=}')\n",
    "    else:\n",
    "         print(f'No match found: {phrase}')"
   ]
  }
 ],
 "metadata": {
  "kernelspec": {
   "display_name": "Python 3 (ipykernel)",
   "language": "python",
   "name": "python3"
  },
  "language_info": {
   "codemirror_mode": {
    "name": "ipython",
    "version": 3
   },
   "file_extension": ".py",
   "mimetype": "text/x-python",
   "name": "python",
   "nbconvert_exporter": "python",
   "pygments_lexer": "ipython3",
   "version": "3.9.12"
  }
 },
 "nbformat": 4,
 "nbformat_minor": 5
}
