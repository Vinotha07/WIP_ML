{
 "cells": [
  {
   "cell_type": "markdown",
   "id": "65892b57",
   "metadata": {},
   "source": [
    "Question 1:\n",
    "\n",
    "Write a program that calculates and prints the value according to the given formula:\n",
    "\n",
    "Q = Square root of [(2 * C * D)/H]\n",
    "\n",
    "Following are the fixed values of C and H:\n",
    "\n",
    "C is 50. H is 30.\n",
    "\n",
    "D is the variable whose values should be input to your program in a comma-separated sequence.\n",
    "\n",
    "Example\n",
    "\n",
    "Let us assume the following comma separated input sequence is given to the program:\n",
    "\n",
    "100,150,180\n",
    "\n",
    "The output of the program should be:\n",
    "\n",
    "18,22,24\n"
   ]
  },
  {
   "cell_type": "code",
   "execution_count": 19,
   "id": "9901dd7c",
   "metadata": {},
   "outputs": [
    {
     "name": "stdout",
     "output_type": "stream",
     "text": [
      "Enter Three values separated by comma, : 100,150,180\n"
     ]
    },
    {
     "data": {
      "text/plain": [
       "[18, 22, 24]"
      ]
     },
     "execution_count": 19,
     "metadata": {},
     "output_type": "execute_result"
    }
   ],
   "source": [
    "import math\n",
    "def calculate_sq(a,b,c):\n",
    "    l1=[a,b,c]\n",
    "    l2=list()\n",
    "    C=50\n",
    "    H=30\n",
    "    for D in l1:\n",
    "        temp=(2*C*D)/H\n",
    "        Q=math.sqrt(temp)\n",
    "        Q=int(Q)\n",
    "        l2.append(Q)\n",
    "    return l2\n",
    "a,b,c=input(\"Enter Three values separated by comma, : \").split(\",\")\n",
    "a=int(a)\n",
    "b=int(b)\n",
    "c=int(c)\n",
    "calculate_sq(a,b,c)"
   ]
  },
  {
   "cell_type": "markdown",
   "id": "21d33c27",
   "metadata": {},
   "source": [
    "Question 2:\n",
    "Write a program which takes 2 digits, X,Y as input and generates a 2-dimensional array. The element value in the i-th row and j-th column of the array should be i*j.\n",
    "\n",
    "Note: i=0,1.., X-1; j=0,1,¡¬Y-1.\n",
    "\n",
    "Example\n",
    "\n",
    "Suppose the following inputs are given to the program:\n",
    "\n",
    "3,5\n",
    "\n",
    "Then, the output of the program should be:\n",
    "\n",
    "[[0, 0, 0, 0, 0], [0, 1, 2, 3, 4], [0, 2, 4, 6, 8]] \n",
    "\n"
   ]
  },
  {
   "cell_type": "code",
   "execution_count": 32,
   "id": "b2290680",
   "metadata": {},
   "outputs": [
    {
     "name": "stdout",
     "output_type": "stream",
     "text": [
      "Enter the row size of the 2D array3\n",
      "Enter the column size of the 2D array4\n",
      "Enter the value in row wise\n",
      "1 2 5 4 5 6 7 8 9 1 5 9\n",
      "[[1 2 5 4]\n",
      " [5 6 7 8]\n",
      " [9 1 5 9]]\n"
     ]
    }
   ],
   "source": [
    "import numpy as np\n",
    "x=int(input(\"Enter the row size of the 2D array\"))\n",
    "y=int(input(\"Enter the column size of the 2D array\"))\n",
    "print(\"Enter the value in row wise\")\n",
    "entries=list(map(int, input().split()))\n",
    "matrix=np.array(entries).reshape(x,y)\n",
    "print(matrix)"
   ]
  },
  {
   "cell_type": "markdown",
   "id": "a80c2678",
   "metadata": {},
   "source": [
    "Question 3:\n",
    "Write a program that accepts a comma separated sequence of words as input and prints the words in a comma-separated sequence after sorting them alphabetically.\n",
    "\n",
    "Suppose the following input is supplied to the program:\n",
    "\n",
    "without,hello,bag,world\n",
    "\n",
    "Then, the output should be:\n",
    "\n",
    "bag,hello,without,world\n"
   ]
  },
  {
   "cell_type": "code",
   "execution_count": 44,
   "id": "3e0d41e7",
   "metadata": {},
   "outputs": [
    {
     "name": "stdout",
     "output_type": "stream",
     "text": [
      "Enter Three values separated by comma, : without,hello,bag,world\n"
     ]
    },
    {
     "data": {
      "text/plain": [
       "'bag ,hello ,without ,world'"
      ]
     },
     "execution_count": 44,
     "metadata": {},
     "output_type": "execute_result"
    }
   ],
   "source": [
    "wordlist=list(map(str,input(\"Enter Three values separated by comma, : \").split(\",\")))\n",
    "word_res=sorted(wordlist)\n",
    "\" ,\".join(word_res)"
   ]
  },
  {
   "cell_type": "markdown",
   "id": "afc1c3b7",
   "metadata": {},
   "source": [
    "Question 4:\n",
    "Write a program that accepts a sequence of whitespace separated words as input and prints the words after removing all duplicate words and sorting them alphanumerically.\n",
    "\n",
    "Suppose the following input is supplied to the program:\n",
    "\n",
    "hello world and practice makes perfect and hello world again\n",
    "\n",
    "Then, the output should be:\n",
    "\n",
    "again and hello makes perfect practice world\n"
   ]
  },
  {
   "cell_type": "code",
   "execution_count": 48,
   "id": "528eec45",
   "metadata": {},
   "outputs": [
    {
     "name": "stdout",
     "output_type": "stream",
     "text": [
      "Enter your strings with separated whitespace, : hello world and practice makes perfect and hello world again\n"
     ]
    },
    {
     "data": {
      "text/plain": [
       "'again and hello makes perfect practice world'"
      ]
     },
     "execution_count": 48,
     "metadata": {},
     "output_type": "execute_result"
    }
   ],
   "source": [
    "wordlist=list(map(str,input(\"Enter your strings with separated whitespace, : \").split()))\n",
    "word_res=set(wordlist)\n",
    "output=list(sorted(word_res))\n",
    "\" \".join(output)"
   ]
  },
  {
   "cell_type": "markdown",
   "id": "0fd94bf2",
   "metadata": {},
   "source": [
    "Question 5:\n",
    "Write a program that accepts a sentence and calculate the number of letters and digits.\n",
    "\n",
    "Suppose the following input is supplied to the program:\n",
    "\n",
    "hello world! 123\n",
    "\n",
    "Then, the output should be:\n",
    "\n",
    "LETTERS 10\n",
    "\n",
    "DIGITS 3\n"
   ]
  },
  {
   "cell_type": "code",
   "execution_count": 58,
   "id": "82e52dfd",
   "metadata": {},
   "outputs": [
    {
     "name": "stdout",
     "output_type": "stream",
     "text": [
      "Enter your strings with separated whitespace, : hello world ! 123\n",
      "Number of letters : 10\n",
      "Number of digits : 3\n"
     ]
    }
   ],
   "source": [
    "wordlist=list(map(str,input(\"Enter your strings with separated whitespace, : \").split()))\n",
    "letter=0\n",
    "digit=0\n",
    "for i in range(len(wordlist)):\n",
    "    if wordlist[i].isalpha()==True:\n",
    "        letter=letter+len(wordlist[i])\n",
    "    elif wordlist[i].isdigit()==True:\n",
    "        digit=digit+len(wordlist[i])\n",
    "print(f\"Number of letters : {letter}\")\n",
    "print(f\"Number of digits : {digit}\")\n",
    "    "
   ]
  },
  {
   "cell_type": "markdown",
   "id": "0cdfc236",
   "metadata": {},
   "source": [
    "Question 6:\n",
    "A website requires the users to input username and password to register. Write a program to check the validity of password input by users.\n",
    "\n",
    "Following are the criteria for checking the password:\n",
    "\n",
    "1. At least 1 letter between [a-z]\n",
    "\n",
    "2. At least 1 number between [0-9]\n",
    "\n",
    "1. At least 1 letter between [A-Z]\n",
    "\n",
    "3. At least 1 character from [$#@]\n",
    "\n",
    "4. Minimum length of transaction password: 6\n",
    "\n",
    "5. Maximum length of transaction password: 12\n",
    "\n",
    "Your program should accept a sequence of comma separated passwords and will check them according to the above criteria. Passwords that match the criteria are to be printed, each separated by a comma.\n",
    "\n",
    "Example\n",
    "\n",
    "If the following passwords are given as input to the program:\n",
    "\n",
    "ABd1234@1,a F1#,2w3E*,2We3345\n",
    "\n",
    "Then, the output of the program should be:\n",
    "\n",
    "ABd1234@1\n"
   ]
  },
  {
   "cell_type": "code",
   "execution_count": 4,
   "id": "0354a0a5",
   "metadata": {},
   "outputs": [
    {
     "name": "stdout",
     "output_type": "stream",
     "text": [
      "Enter Three values separated by comma, : ABd1234@1,a F1#,2w3E*,2We3345\n",
      "The ABd1234@1 is Valid\n",
      "The a F1# is Invalid\n",
      "The 2w3E* is Invalid\n",
      "The 2We3345 is Invalid\n"
     ]
    }
   ],
   "source": [
    "import re\n",
    "def pswd_check(pswd):\n",
    "    if re.fullmatch('(?=.*[a-z])(?=.*[A-Z])(?=.*\\d)(?=.*[@$!%*#?&])[A-Za-z\\d@$!#%*?&]{6,12}',pswd):\n",
    "        return True\n",
    "    else:\n",
    "        return False\n",
    "mylist=list(map(str,input(\"Enter Three values separated by comma, : \").split(\",\")))\n",
    "for pswd in mylist:\n",
    "    if(pswd_check(pswd))==True:\n",
    "        print(f\"The {pswd} is Valid\")\n",
    "    else:\n",
    "        print(f\"The {pswd} is Invalid\")\n"
   ]
  }
 ],
 "metadata": {
  "kernelspec": {
   "display_name": "Python 3 (ipykernel)",
   "language": "python",
   "name": "python3"
  },
  "language_info": {
   "codemirror_mode": {
    "name": "ipython",
    "version": 3
   },
   "file_extension": ".py",
   "mimetype": "text/x-python",
   "name": "python",
   "nbconvert_exporter": "python",
   "pygments_lexer": "ipython3",
   "version": "3.9.12"
  }
 },
 "nbformat": 4,
 "nbformat_minor": 5
}
