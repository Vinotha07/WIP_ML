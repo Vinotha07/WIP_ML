{
 "cells": [
  {
   "cell_type": "code",
   "execution_count": null,
   "id": "52156bc9",
   "metadata": {},
   "outputs": [],
   "source": [
    "Question1\n",
    "Create a function that takes a list of strings and integers, and filters out the list so that it returns a list of integers only.\n",
    "Examples\n",
    "filter_list([1, 2, 3, \"a\", \"b\", 4]) ➞ [1, 2, 3, 4]\n",
    "\n",
    "filter_list([\"A\", 0, \"Edabit\", 1729, \"Python\", \"1729\"]) ➞ [0, 1729]\n",
    "\n",
    "filter_list([\"Nothing\", \"here\"]) ➞ []\n",
    "\n"
   ]
  },
  {
   "cell_type": "code",
   "execution_count": 36,
   "id": "addf4022",
   "metadata": {},
   "outputs": [],
   "source": [
    "def filter_list(mylist):\n",
    "    l=[]\n",
    "    for i in mylist:\n",
    "        if type(i)==int:\n",
    "            l.append(i)\n",
    "    return l\n"
   ]
  },
  {
   "cell_type": "code",
   "execution_count": 37,
   "id": "7d643b8a",
   "metadata": {},
   "outputs": [
    {
     "data": {
      "text/plain": [
       "[1, 2, 3, 4]"
      ]
     },
     "execution_count": 37,
     "metadata": {},
     "output_type": "execute_result"
    }
   ],
   "source": [
    "filter_list([1, 2, 3, \"a\", \"b\", 4])"
   ]
  },
  {
   "cell_type": "code",
   "execution_count": 38,
   "id": "63d1926a",
   "metadata": {},
   "outputs": [
    {
     "data": {
      "text/plain": [
       "[0, 1729]"
      ]
     },
     "execution_count": 38,
     "metadata": {},
     "output_type": "execute_result"
    }
   ],
   "source": [
    "filter_list([\"A\", 0, \"Edabit\", 1729, \"Python\", \"1729\"])"
   ]
  },
  {
   "cell_type": "code",
   "execution_count": 39,
   "id": "37a4048f",
   "metadata": {},
   "outputs": [
    {
     "data": {
      "text/plain": [
       "[]"
      ]
     },
     "execution_count": 39,
     "metadata": {},
     "output_type": "execute_result"
    }
   ],
   "source": [
    "filter_list([\"Nothing\", \"here\"])"
   ]
  },
  {
   "cell_type": "code",
   "execution_count": null,
   "id": "7f7ac05c",
   "metadata": {},
   "outputs": [],
   "source": [
    "Question2\n",
    "Given a list of numbers, create a function which returns the list but with each element's index in the list added to itself. This means you add 0 to the number at index 0, add 1 to the number at index 1, etc...\n",
    "Examples\n",
    "add_indexes([0, 0, 0, 0, 0]) ➞ [0, 1, 2, 3, 4]\n",
    "\n",
    "add_indexes([1, 2, 3, 4, 5]) ➞ [1, 3, 5, 7, 9]\n",
    "\n",
    "add_indexes([5, 4, 3, 2, 1]) ➞ [5, 5, 5, 5, 5]\n",
    "\n"
   ]
  },
  {
   "cell_type": "code",
   "execution_count": 29,
   "id": "b35df7e2",
   "metadata": {},
   "outputs": [],
   "source": [
    "def add_indexes(mylist):\n",
    "    res=[]\n",
    "    sum=0\n",
    "    for i in range(len(mylist)):\n",
    "        sum=mylist[i]+i\n",
    "        res.append(sum)\n",
    "    return res\n"
   ]
  },
  {
   "cell_type": "code",
   "execution_count": 30,
   "id": "f519f2ec",
   "metadata": {},
   "outputs": [
    {
     "data": {
      "text/plain": [
       "[1, 3, 5, 7, 9]"
      ]
     },
     "execution_count": 30,
     "metadata": {},
     "output_type": "execute_result"
    }
   ],
   "source": [
    "add_indexes([1, 2, 3, 4, 5])"
   ]
  },
  {
   "cell_type": "code",
   "execution_count": 31,
   "id": "345e60c7",
   "metadata": {},
   "outputs": [
    {
     "data": {
      "text/plain": [
       "[5, 5, 5, 5, 5]"
      ]
     },
     "execution_count": 31,
     "metadata": {},
     "output_type": "execute_result"
    }
   ],
   "source": [
    "add_indexes([5, 4, 3, 2, 1])"
   ]
  },
  {
   "cell_type": "code",
   "execution_count": null,
   "id": "daf29886",
   "metadata": {},
   "outputs": [],
   "source": [
    "Question3\n",
    "Create a function that takes the height and radius of a cone as arguments and returns the volume of the cone rounded to the nearest hundredth. See the resources tab for the formula.\n",
    " \n",
    "Examples\n",
    "cone_volume(3, 2) ➞ 12.57\n",
    "\n",
    "cone_volume(15, 6) ➞ 565.49\n",
    "\n",
    "cone_volume(18, 0) ➞ 0\n"
   ]
  },
  {
   "cell_type": "code",
   "execution_count": 32,
   "id": "7fba0081",
   "metadata": {},
   "outputs": [],
   "source": [
    "import math\n",
    "def cone_volume(h, r):\n",
    "    vol=(math.pi*(r**2)*h)/3\n",
    "    return (round(vol,2))\n"
   ]
  },
  {
   "cell_type": "code",
   "execution_count": 33,
   "id": "23a9e393",
   "metadata": {},
   "outputs": [
    {
     "data": {
      "text/plain": [
       "12.57"
      ]
     },
     "execution_count": 33,
     "metadata": {},
     "output_type": "execute_result"
    }
   ],
   "source": [
    "cone_volume(3, 2)"
   ]
  },
  {
   "cell_type": "code",
   "execution_count": 34,
   "id": "15ff647c",
   "metadata": {},
   "outputs": [
    {
     "data": {
      "text/plain": [
       "565.49"
      ]
     },
     "execution_count": 34,
     "metadata": {},
     "output_type": "execute_result"
    }
   ],
   "source": [
    "cone_volume(15, 6) "
   ]
  },
  {
   "cell_type": "code",
   "execution_count": 35,
   "id": "e8e18d9c",
   "metadata": {},
   "outputs": [
    {
     "data": {
      "text/plain": [
       "0.0"
      ]
     },
     "execution_count": 35,
     "metadata": {},
     "output_type": "execute_result"
    }
   ],
   "source": [
    "cone_volume(18, 0)"
   ]
  },
  {
   "cell_type": "code",
   "execution_count": null,
   "id": "9dbdd4fb",
   "metadata": {},
   "outputs": [],
   "source": [
    "Question4\n",
    "This Triangular Number Sequence is generated from a pattern of dots that form a triangle. The first 5 numbers of the sequence, or dots, are: \n",
    "1, 3, 6, 10, 15\n",
    "This means that the first triangle has just one dot, the second one has three dots, the third one has 6 dots and so on.\n",
    "Write a function that gives the number of dots with its corresponding triangle number of the sequence.\n",
    "Examples\n",
    "triangle(1) ➞ 1\n",
    "\n",
    "triangle(6) ➞ 21\n",
    "\n",
    "triangle(215) ➞ 23220\n"
   ]
  },
  {
   "cell_type": "code",
   "execution_count": 40,
   "id": "60162544",
   "metadata": {},
   "outputs": [],
   "source": [
    "def triangle(n):\n",
    "    if n==1:\n",
    "        return 1\n",
    "    else:\n",
    "        return n+triangle(n-1)\n"
   ]
  },
  {
   "cell_type": "code",
   "execution_count": 41,
   "id": "7664ecde",
   "metadata": {},
   "outputs": [
    {
     "data": {
      "text/plain": [
       "1"
      ]
     },
     "execution_count": 41,
     "metadata": {},
     "output_type": "execute_result"
    }
   ],
   "source": [
    "triangle(1)"
   ]
  },
  {
   "cell_type": "code",
   "execution_count": 42,
   "id": "a0e865e0",
   "metadata": {},
   "outputs": [
    {
     "data": {
      "text/plain": [
       "21"
      ]
     },
     "execution_count": 42,
     "metadata": {},
     "output_type": "execute_result"
    }
   ],
   "source": [
    "triangle(6)"
   ]
  },
  {
   "cell_type": "code",
   "execution_count": 43,
   "id": "44958ff2",
   "metadata": {},
   "outputs": [
    {
     "data": {
      "text/plain": [
       "23220"
      ]
     },
     "execution_count": 43,
     "metadata": {},
     "output_type": "execute_result"
    }
   ],
   "source": [
    "triangle(215)"
   ]
  },
  {
   "cell_type": "code",
   "execution_count": null,
   "id": "0572b38c",
   "metadata": {},
   "outputs": [],
   "source": [
    "Question5\n",
    "Create a function that takes a list of numbers between 1 and 10 (excluding one number) and returns the missing number.\n",
    "Examples\n",
    "missing_num([1, 2, 3, 4, 6, 7, 8, 9, 10]) ➞ 5\n",
    "\n",
    "missing_num([7, 2, 3, 6, 5, 9, 1, 4, 8]) ➞ 10\n",
    "\n",
    "missing_num([10, 5, 1, 2, 4, 6, 8, 3, 9]) ➞ 7\n"
   ]
  },
  {
   "cell_type": "code",
   "execution_count": 47,
   "id": "1b0a3565",
   "metadata": {},
   "outputs": [],
   "source": [
    "def missing_num(mylist):\n",
    "    l1=[]\n",
    "    n=len(mylist)\n",
    "    for i in range(1,n+2):\n",
    "        if i not in mylist:\n",
    "            return i\n",
    "   \n"
   ]
  },
  {
   "cell_type": "code",
   "execution_count": 48,
   "id": "f77016dc",
   "metadata": {},
   "outputs": [
    {
     "data": {
      "text/plain": [
       "5"
      ]
     },
     "execution_count": 48,
     "metadata": {},
     "output_type": "execute_result"
    }
   ],
   "source": [
    "missing_num([1, 2, 3, 4, 6, 7, 8, 9, 10])"
   ]
  },
  {
   "cell_type": "code",
   "execution_count": 50,
   "id": "a1492c23",
   "metadata": {},
   "outputs": [
    {
     "data": {
      "text/plain": [
       "10"
      ]
     },
     "execution_count": 50,
     "metadata": {},
     "output_type": "execute_result"
    }
   ],
   "source": [
    "missing_num([7, 2, 3, 6, 5, 9, 1, 4, 8])"
   ]
  },
  {
   "cell_type": "code",
   "execution_count": 49,
   "id": "89997f78",
   "metadata": {},
   "outputs": [
    {
     "data": {
      "text/plain": [
       "7"
      ]
     },
     "execution_count": 49,
     "metadata": {},
     "output_type": "execute_result"
    }
   ],
   "source": [
    "missing_num([10, 5, 1, 2, 4, 6, 8, 3, 9])"
   ]
  }
 ],
 "metadata": {
  "kernelspec": {
   "display_name": "Python 3 (ipykernel)",
   "language": "python",
   "name": "python3"
  },
  "language_info": {
   "codemirror_mode": {
    "name": "ipython",
    "version": 3
   },
   "file_extension": ".py",
   "mimetype": "text/x-python",
   "name": "python",
   "nbconvert_exporter": "python",
   "pygments_lexer": "ipython3",
   "version": "3.9.12"
  }
 },
 "nbformat": 4,
 "nbformat_minor": 5
}
