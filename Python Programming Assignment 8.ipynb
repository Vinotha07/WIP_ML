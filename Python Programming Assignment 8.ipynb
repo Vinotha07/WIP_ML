{
 "cells": [
  {
   "cell_type": "markdown",
   "id": "a6b60ff1",
   "metadata": {},
   "source": [
    "# Python Programming Assignment 8"
   ]
  },
  {
   "cell_type": "markdown",
   "id": "84d0968c",
   "metadata": {},
   "source": [
    "1.Write a Python Program to Add Two Matrices?"
   ]
  },
  {
   "cell_type": "code",
   "execution_count": 11,
   "id": "5cfc4041",
   "metadata": {},
   "outputs": [
    {
     "name": "stdout",
     "output_type": "stream",
     "text": [
      "[[8, 2, 10], [12, 9, 6], [5, 21, 14]]\n"
     ]
    }
   ],
   "source": [
    "\"\"\"Using list to declare the matrix element since python doesn't have the in built function\"\"\"\n",
    "\"\"\"considered 3x3 matrices\"\"\"\n",
    "m1=[[1,2,9],[4,3,1],[0,11,12]]\n",
    "m2=[[7,0,1],[8,6,5],[5,10,2]]\n",
    "\"\"\"the result will be saved in m3\"\"\"\n",
    "m3=[[0,0,0],[0,0,0],[0,0,0]]\n",
    "if len(m1)==len(m2):\n",
    "    for row in range(len(m1)):\n",
    "        for col in range(len(m1[0])):\n",
    "            m3[row][col]=m1[row][col]+m2[row][col]\n",
    "print(m3)"
   ]
  },
  {
   "cell_type": "markdown",
   "id": "fa3c9f13",
   "metadata": {},
   "source": [
    "2.Write a Python Program to Multiply Two Matrices?"
   ]
  },
  {
   "cell_type": "code",
   "execution_count": 12,
   "id": "f0a6752a",
   "metadata": {},
   "outputs": [
    {
     "name": "stdout",
     "output_type": "stream",
     "text": [
      "[[22, 12, 19], [25, 24, 0], [24, 57, 26]]\n"
     ]
    }
   ],
   "source": [
    "\"\"\"considered 3x3 matrices\"\"\"\n",
    "m1=[[11,3,19],[5,3,0],[6,19,13]]\n",
    "m2=[[2,4,1],[5,8,5],[4,3,2]]\n",
    "\"\"\"the result will be saved in m3\"\"\"\n",
    "m3=[[0,0,0],[0,0,0],[0,0,0]]\n",
    "if len(m1)==len(m2):\n",
    "    for row in range(len(m1)):\n",
    "        for col in range(len(m1[0])):\n",
    "            m3[row][col]=m1[row][col]*m2[row][col]\n",
    "print(m3)"
   ]
  },
  {
   "cell_type": "markdown",
   "id": "88770daf",
   "metadata": {},
   "source": [
    "3.Write a Python Program to Transpose a Matrix?"
   ]
  },
  {
   "cell_type": "code",
   "execution_count": 18,
   "id": "4418ad0a",
   "metadata": {},
   "outputs": [
    {
     "name": "stdout",
     "output_type": "stream",
     "text": [
      "[[11, 3, 19], [3, 0, 13]]\n"
     ]
    }
   ],
   "source": [
    "\"\"\"considered 3x3 matrices\"\"\"\n",
    "\"\"\"Interchanging rows and columns\"\"\"\n",
    "m1=[[11,3],[3,0],[19,13]]\n",
    "m3=[[0,0,0],[0,0,0]]\n",
    "for row in range(len(m1)):\n",
    "        for col in range(len(m1[0])):\n",
    "            m3[col][row]=m1[row][col]\n",
    "print(m3)"
   ]
  },
  {
   "cell_type": "markdown",
   "id": "f6b58217",
   "metadata": {},
   "source": [
    "4.Write a Python Program to Sort Words in Alphabetic Order?"
   ]
  },
  {
   "cell_type": "code",
   "execution_count": 2,
   "id": "9c9bbab3",
   "metadata": {},
   "outputs": [
    {
     "data": {
      "text/plain": [
       "['app', 'catch', 'km', 'order', 'queue', 'sum']"
      ]
     },
     "execution_count": 2,
     "metadata": {},
     "output_type": "execute_result"
    }
   ],
   "source": [
    "\"\"\"sorted by using inbuilt function\"\"\"\n",
    "l1=['sum','app','queue','km','order','catch']\n",
    "sorted(l1)"
   ]
  },
  {
   "cell_type": "markdown",
   "id": "ac31dcc9",
   "metadata": {},
   "source": [
    "5.Write a Python Program to Remove Punctuation From a String?"
   ]
  },
  {
   "cell_type": "code",
   "execution_count": 5,
   "id": "c403e62a",
   "metadata": {},
   "outputs": [
    {
     "name": "stdout",
     "output_type": "stream",
     "text": [
      "Hi This is my laptop do you want this\n"
     ]
    }
   ],
   "source": [
    "\"\"\"Remove the punctuation using string translation by importing string module\"\"\"\n",
    "import string\n",
    "data=\"Hi, This is my laptop--- do you want this?!\"\n",
    "data=data.translate(str.maketrans(\"\",\"\",string.punctuation))\n",
    "print(data)"
   ]
  }
 ],
 "metadata": {
  "kernelspec": {
   "display_name": "Python 3 (ipykernel)",
   "language": "python",
   "name": "python3"
  },
  "language_info": {
   "codemirror_mode": {
    "name": "ipython",
    "version": 3
   },
   "file_extension": ".py",
   "mimetype": "text/x-python",
   "name": "python",
   "nbconvert_exporter": "python",
   "pygments_lexer": "ipython3",
   "version": "3.9.12"
  }
 },
 "nbformat": 4,
 "nbformat_minor": 5
}
