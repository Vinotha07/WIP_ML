{
 "cells": [
  {
   "cell_type": "markdown",
   "id": "2aa8eac0",
   "metadata": {},
   "source": [
    "1. In the below elements which of them are values or an expression? eg:- values can be\n",
    "integer or string and expressions will be mathematical operators.\n",
    "*\n",
    "hello\n",
    "-87.8\n",
    "-\n",
    "/\n",
    "+\n",
    "6\n"
   ]
  },
  {
   "cell_type": "markdown",
   "id": "d1ce1b37",
   "metadata": {},
   "source": [
    "Answer:\n",
    "\n",
    "Values are \"hello\",-87.8,6\n",
    "\n",
    "Expressions are *, - , / , +"
   ]
  },
  {
   "cell_type": "markdown",
   "id": "519a3815",
   "metadata": {},
   "source": [
    "2. What is the difference between string and variable?\n",
    "Variables are the symbols that we can store the data in a program. \n",
    "Variable is a reserved memory location to store values."
   ]
  },
  {
   "cell_type": "markdown",
   "id": "072fd82f",
   "metadata": {},
   "source": [
    "Answer:\n",
    "\n",
    "String is a type of information that we can store in a variable.To create a string, put the Sequence of characters inside either single quotes ,double quotes or triple quotes and then assign to a variable."
   ]
  },
  {
   "cell_type": "markdown",
   "id": "df85cc05",
   "metadata": {},
   "source": [
    "3. Describe three different data types."
   ]
  },
  {
   "cell_type": "markdown",
   "id": "dc103a42",
   "metadata": {},
   "source": [
    "Answer:\n",
    "\n",
    "Data types are the classification or categorization of data items. It represents the kind of value that tells what \n",
    "operations can be performed on a particular data.\n",
    "Numeric(Integer,float,complex number)\n",
    "Sequence Type(String,List,Tuple)\n",
    "Boolean\n",
    "Set\n",
    "Dictionary"
   ]
  },
  {
   "cell_type": "markdown",
   "id": "2e0b7e8c",
   "metadata": {},
   "source": [
    "4.What is an expression made up of? What do all expressions do?"
   ]
  },
  {
   "cell_type": "markdown",
   "id": "5299b069",
   "metadata": {},
   "source": [
    "Answer:\n",
    "\n",
    "Expression:\n",
    "Evaluation of a expression always produces or returna a result value.\n",
    "Eg: if a has value 4 then a+5=9, this expression produces the value\n",
    "\n",
    "Statement:\n",
    "Execution of a statement may or may not produces or displays a result value, it only does whatever the statement says.\n",
    "Eg. x=5 this is just a assignment , doesnt produces any value\n",
    "\n",
    "Every expression can't be a statement."
   ]
  },
  {
   "cell_type": "code",
   "execution_count": null,
   "id": "08e7014a",
   "metadata": {},
   "outputs": [],
   "source": [
    "5.This assignment statements, like spam = 10. What is the difference between an expression and a statement?"
   ]
  },
  {
   "cell_type": "markdown",
   "id": "5516c1f8",
   "metadata": {},
   "source": [
    "Answer:\n",
    "\n",
    "spam=10 is the statement because it doesnt produce any value while executing . \n",
    "The expression evaluates to a value and the statement executes something"
   ]
  },
  {
   "cell_type": "markdown",
   "id": "8256180f",
   "metadata": {},
   "source": [
    "6. After running the following code, what does the variable bacon contain?\n",
    "bacon = 22\n",
    "bacon + 1"
   ]
  },
  {
   "cell_type": "code",
   "execution_count": 2,
   "id": "00e81630",
   "metadata": {},
   "outputs": [
    {
     "data": {
      "text/plain": [
       "23"
      ]
     },
     "execution_count": 2,
     "metadata": {},
     "output_type": "execute_result"
    }
   ],
   "source": [
    "bacon = 22\n",
    "bacon + 1"
   ]
  },
  {
   "cell_type": "markdown",
   "id": "e54d41fb",
   "metadata": {},
   "source": [
    "Answer:\n",
    "\n",
    "The variable bacon has value 23"
   ]
  },
  {
   "cell_type": "markdown",
   "id": "767806e4",
   "metadata": {},
   "source": [
    "7. What should the values of the following two terms be?\n",
    "'spam' + 'spamspam'\n",
    "'spam'* 3"
   ]
  },
  {
   "cell_type": "code",
   "execution_count": 4,
   "id": "332b5b74",
   "metadata": {},
   "outputs": [
    {
     "data": {
      "text/plain": [
       "'spamspamspam'"
      ]
     },
     "execution_count": 4,
     "metadata": {},
     "output_type": "execute_result"
    }
   ],
   "source": [
    "'spam' + 'spamspam'"
   ]
  },
  {
   "cell_type": "code",
   "execution_count": 5,
   "id": "896ee6ac",
   "metadata": {},
   "outputs": [
    {
     "data": {
      "text/plain": [
       "'spamspamspam'"
      ]
     },
     "execution_count": 5,
     "metadata": {},
     "output_type": "execute_result"
    }
   ],
   "source": [
    "'spam'* 3"
   ]
  },
  {
   "cell_type": "markdown",
   "id": "a84722ca",
   "metadata": {},
   "source": [
    "Answer:\n",
    "\n",
    "The value of 'spam' + 'spamspam' gives 'spamspamspam' because it perform the string concatenation.\n",
    "The value of 'spam'*3 gives 'spamspamspam'.\n",
    "The * operator can be used to repeat the string for a given number of times"
   ]
  },
  {
   "cell_type": "markdown",
   "id": "95a24e19",
   "metadata": {},
   "source": [
    "8. Why is eggs a valid variable name while 100 is invalid?"
   ]
  },
  {
   "cell_type": "markdown",
   "id": "5c1b271d",
   "metadata": {},
   "source": [
    "Answer:\n",
    "\n",
    "Variable name cannot start with a digit .It must start with a letter or an underscore and it contain alphanumeric characters and should not contain any spaces or keyword.\n",
    "\n",
    "The variable eggs is valid because eggs is start with the letter and doesnot contain any spaces or keyword.\n",
    "100 is not a variable because it starts with the digit. The number should not be a variable"
   ]
  },
  {
   "cell_type": "code",
   "execution_count": null,
   "id": "59fa8271",
   "metadata": {},
   "outputs": [],
   "source": [
    "9. What three functions can be used to get the integer, floating-point number, or string\n",
    "version of a value?"
   ]
  },
  {
   "cell_type": "markdown",
   "id": "1035c17e",
   "metadata": {},
   "source": [
    "Answer:\n",
    "    \n",
    "The int() , float() , and str( ) functions will evaluate to the integer, floating-point number and string versions of the value passed to them.\n",
    "\n",
    "eg: a=int(input(\"enter the value))"
   ]
  },
  {
   "cell_type": "markdown",
   "id": "0b3351fa",
   "metadata": {},
   "source": [
    "10. Why does this expression cause an error? How can you fix it?\n",
    "'I have eaten'+ 99 +'burritos'"
   ]
  },
  {
   "cell_type": "code",
   "execution_count": 7,
   "id": "9c8f39aa",
   "metadata": {},
   "outputs": [
    {
     "ename": "TypeError",
     "evalue": "can only concatenate str (not \"int\") to str",
     "output_type": "error",
     "traceback": [
      "\u001b[1;31m---------------------------------------------------------------------------\u001b[0m",
      "\u001b[1;31mTypeError\u001b[0m                                 Traceback (most recent call last)",
      "Input \u001b[1;32mIn [7]\u001b[0m, in \u001b[0;36m<cell line: 1>\u001b[1;34m()\u001b[0m\n\u001b[1;32m----> 1\u001b[0m \u001b[38;5;124;43m'\u001b[39;49m\u001b[38;5;124;43mI have eaten\u001b[39;49m\u001b[38;5;124;43m'\u001b[39;49m\u001b[38;5;241;43m+\u001b[39;49m\u001b[43m \u001b[49m\u001b[38;5;241;43m99\u001b[39;49m \u001b[38;5;241m+\u001b[39m\u001b[38;5;124m'\u001b[39m\u001b[38;5;124mburritos\u001b[39m\u001b[38;5;124m'\u001b[39m\n",
      "\u001b[1;31mTypeError\u001b[0m: can only concatenate str (not \"int\") to str"
     ]
    }
   ],
   "source": [
    "'I have eaten'+ 99 +'burritos'"
   ]
  },
  {
   "cell_type": "markdown",
   "id": "85aa734f",
   "metadata": {},
   "source": [
    "Answer:\n",
    "    \n",
    "This creates an error since the concatenation of string and the int data types are not possible. \n",
    "    "
   ]
  }
 ],
 "metadata": {
  "kernelspec": {
   "display_name": "Python 3 (ipykernel)",
   "language": "python",
   "name": "python3"
  },
  "language_info": {
   "codemirror_mode": {
    "name": "ipython",
    "version": 3
   },
   "file_extension": ".py",
   "mimetype": "text/x-python",
   "name": "python",
   "nbconvert_exporter": "python",
   "pygments_lexer": "ipython3",
   "version": "3.9.12"
  }
 },
 "nbformat": 4,
 "nbformat_minor": 5
}
