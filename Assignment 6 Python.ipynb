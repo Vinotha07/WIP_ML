{
 "cells": [
  {
   "cell_type": "markdown",
   "id": "79c94d60",
   "metadata": {},
   "source": [
    "#### Assignment 6 Python"
   ]
  },
  {
   "cell_type": "markdown",
   "id": "42dc4531",
   "metadata": {},
   "source": [
    "1. What are escape characters, and how do you use them?"
   ]
  },
  {
   "cell_type": "markdown",
   "id": "dce82dcf",
   "metadata": {},
   "source": [
    "To insert character that are illegal in a string, use an escape character.\n",
    "An escape character is a backslash \\ followed by the character you want to insert.\n",
    "Foe example to insert double quotes inside the double quote not allowed in string but we can do the same by using escape character"
   ]
  },
  {
   "cell_type": "code",
   "execution_count": 1,
   "id": "8f549e35",
   "metadata": {},
   "outputs": [
    {
     "ename": "SyntaxError",
     "evalue": "invalid syntax (2465122757.py, line 1)",
     "output_type": "error",
     "traceback": [
      "\u001b[1;36m  Input \u001b[1;32mIn [1]\u001b[1;36m\u001b[0m\n\u001b[1;33m    print(\"Hello \"World\"\")\u001b[0m\n\u001b[1;37m                  ^\u001b[0m\n\u001b[1;31mSyntaxError\u001b[0m\u001b[1;31m:\u001b[0m invalid syntax\n"
     ]
    }
   ],
   "source": [
    "print(\"Hello \"World\"\")"
   ]
  },
  {
   "cell_type": "code",
   "execution_count": 2,
   "id": "1dfe7161",
   "metadata": {},
   "outputs": [
    {
     "name": "stdout",
     "output_type": "stream",
     "text": [
      "Hello \"World\"\n"
     ]
    }
   ],
   "source": [
    "print(\"Hello \\\"World\\\"\")"
   ]
  },
  {
   "cell_type": "markdown",
   "id": "7dbd8016",
   "metadata": {},
   "source": [
    "2. What do the escape characters n and t stand for?"
   ]
  },
  {
   "cell_type": "markdown",
   "id": "55589dc9",
   "metadata": {},
   "source": [
    "\\n is the new line\n",
    "\\t is the Horizontal tab"
   ]
  },
  {
   "cell_type": "code",
   "execution_count": 7,
   "id": "52ecdbe7",
   "metadata": {},
   "outputs": [
    {
     "name": "stdout",
     "output_type": "stream",
     "text": [
      "Hello\n",
      "world\n"
     ]
    }
   ],
   "source": [
    "print(\"Hello\\nworld\")"
   ]
  },
  {
   "cell_type": "code",
   "execution_count": 6,
   "id": "69685197",
   "metadata": {},
   "outputs": [
    {
     "name": "stdout",
     "output_type": "stream",
     "text": [
      "Hello\tWorld\n"
     ]
    }
   ],
   "source": [
    "print(\"Hello\\tWorld\")"
   ]
  },
  {
   "cell_type": "markdown",
   "id": "e7b70b48",
   "metadata": {},
   "source": [
    "3. What is the way to include backslash characters in a string?"
   ]
  },
  {
   "cell_type": "code",
   "execution_count": 17,
   "id": "9aef3b9d",
   "metadata": {},
   "outputs": [
    {
     "name": "stdout",
     "output_type": "stream",
     "text": [
      "Python \\null\n"
     ]
    }
   ],
   "source": [
    "print(\"Python \\\\null\")"
   ]
  },
  {
   "cell_type": "markdown",
   "id": "19c54ce5",
   "metadata": {},
   "source": [
    "Use\\\\ to include the backslash character in a string"
   ]
  },
  {
   "cell_type": "markdown",
   "id": "2d5cdd4f",
   "metadata": {},
   "source": [
    "4. The string \"Howl's Moving Castle\" is a correct value. Why isn't the single quote character in the word Howl's not escaped a problem?"
   ]
  },
  {
   "cell_type": "markdown",
   "id": "939b2b9d",
   "metadata": {},
   "source": [
    "The single quote are enclosed in the double quote. With double quotes the starting and ending of the string marked"
   ]
  },
  {
   "cell_type": "markdown",
   "id": "36f2ebd0",
   "metadata": {},
   "source": [
    "5. How do you write a string of newlines if you don't want to use the n character?"
   ]
  },
  {
   "cell_type": "markdown",
   "id": "45a5f1e4",
   "metadata": {},
   "source": [
    "We can use Multi line string (Triple quotes) to get the newlines"
   ]
  },
  {
   "cell_type": "code",
   "execution_count": 20,
   "id": "f9de237b",
   "metadata": {},
   "outputs": [
    {
     "name": "stdout",
     "output_type": "stream",
     "text": [
      "Enter\n",
      "your \n",
      "string\n"
     ]
    }
   ],
   "source": [
    "print(\"\"\"Enter\n",
    "your \n",
    "string\"\"\")"
   ]
  },
  {
   "cell_type": "markdown",
   "id": "0511989e",
   "metadata": {},
   "source": [
    "6. What are the values of the given expressions?\n",
    "'Hello, world!'[1]\n",
    "'Hello, world!'[0:5]\n",
    "'Hello, world!'[:5]\n",
    "'Hello, world!'[3:]\n"
   ]
  },
  {
   "cell_type": "code",
   "execution_count": 22,
   "id": "8a85e3e0",
   "metadata": {},
   "outputs": [
    {
     "data": {
      "text/plain": [
       "'e'"
      ]
     },
     "execution_count": 22,
     "metadata": {},
     "output_type": "execute_result"
    }
   ],
   "source": [
    "'Hello, world!'[1]\n"
   ]
  },
  {
   "cell_type": "code",
   "execution_count": 23,
   "id": "17011e14",
   "metadata": {},
   "outputs": [
    {
     "data": {
      "text/plain": [
       "'Hello'"
      ]
     },
     "execution_count": 23,
     "metadata": {},
     "output_type": "execute_result"
    }
   ],
   "source": [
    "'Hello, world!'[0:5]"
   ]
  },
  {
   "cell_type": "code",
   "execution_count": 24,
   "id": "b4a61c46",
   "metadata": {},
   "outputs": [
    {
     "data": {
      "text/plain": [
       "'Hello'"
      ]
     },
     "execution_count": 24,
     "metadata": {},
     "output_type": "execute_result"
    }
   ],
   "source": [
    "'Hello, world!'[:5]"
   ]
  },
  {
   "cell_type": "code",
   "execution_count": 25,
   "id": "63ef5197",
   "metadata": {},
   "outputs": [
    {
     "data": {
      "text/plain": [
       "'lo, world!'"
      ]
     },
     "execution_count": 25,
     "metadata": {},
     "output_type": "execute_result"
    }
   ],
   "source": [
    "'Hello, world!'[3:]"
   ]
  },
  {
   "cell_type": "markdown",
   "id": "41566fc9",
   "metadata": {},
   "source": [
    "7. What are the values of the following expressions?\n",
    "'Hello'.upper()\n",
    "'Hello'.upper().isupper()\n",
    "'Hello'.upper().lower()\n"
   ]
  },
  {
   "cell_type": "code",
   "execution_count": 26,
   "id": "8a160e50",
   "metadata": {},
   "outputs": [
    {
     "data": {
      "text/plain": [
       "'HELLO'"
      ]
     },
     "execution_count": 26,
     "metadata": {},
     "output_type": "execute_result"
    }
   ],
   "source": [
    "'Hello'.upper()"
   ]
  },
  {
   "cell_type": "code",
   "execution_count": 27,
   "id": "e6729398",
   "metadata": {},
   "outputs": [
    {
     "data": {
      "text/plain": [
       "True"
      ]
     },
     "execution_count": 27,
     "metadata": {},
     "output_type": "execute_result"
    }
   ],
   "source": [
    "'Hello'.upper().isupper()"
   ]
  },
  {
   "cell_type": "code",
   "execution_count": 28,
   "id": "facd7a1e",
   "metadata": {},
   "outputs": [
    {
     "data": {
      "text/plain": [
       "'hello'"
      ]
     },
     "execution_count": 28,
     "metadata": {},
     "output_type": "execute_result"
    }
   ],
   "source": [
    "'Hello'.upper().lower()\n"
   ]
  },
  {
   "cell_type": "markdown",
   "id": "4540a2da",
   "metadata": {},
   "source": [
    "The above expressions check the upper and lower cases and convert it"
   ]
  },
  {
   "cell_type": "markdown",
   "id": "4b36372d",
   "metadata": {},
   "source": [
    "8. What are the values of the following expressions?\n",
    "'Remember, remember, the fifth of July.'.split()\n",
    "'-'.join('There can only one.'.split())\n"
   ]
  },
  {
   "cell_type": "code",
   "execution_count": 30,
   "id": "9442f09e",
   "metadata": {},
   "outputs": [
    {
     "data": {
      "text/plain": [
       "['Remember,', 'remember,', 'the', 'fifth', 'of', 'July.']"
      ]
     },
     "execution_count": 30,
     "metadata": {},
     "output_type": "execute_result"
    }
   ],
   "source": [
    "'Remember, remember, the fifth of July.'.split()\n"
   ]
  },
  {
   "cell_type": "markdown",
   "id": "910aa1f2",
   "metadata": {},
   "source": [
    "split function convert that string into the list"
   ]
  },
  {
   "cell_type": "code",
   "execution_count": 33,
   "id": "0ce1b2c9",
   "metadata": {},
   "outputs": [
    {
     "data": {
      "text/plain": [
       "'There-can-only-one.'"
      ]
     },
     "execution_count": 33,
     "metadata": {},
     "output_type": "execute_result"
    }
   ],
   "source": [
    "'-'.join('There can only one.'.split())"
   ]
  },
  {
   "cell_type": "markdown",
   "id": "362013f8",
   "metadata": {},
   "source": [
    "join the strings with -"
   ]
  },
  {
   "cell_type": "markdown",
   "id": "3cc41d5c",
   "metadata": {},
   "source": [
    "9. What are the methods for right-justifying, left-justifying, and centering a string?"
   ]
  },
  {
   "cell_type": "markdown",
   "id": "8c87cd5a",
   "metadata": {},
   "source": [
    "Right Justifying\n",
    "str.rjust(width,fillchar)\n",
    "Left Justifying\n",
    "str.ljust(width,fillchar)\n",
    "Center Justifying\n",
    "str.center(width,fillchar)\n",
    "fillchar is optional, character to fill remaining spaces. Default is space"
   ]
  },
  {
   "cell_type": "code",
   "execution_count": 44,
   "id": "3fd5811c",
   "metadata": {},
   "outputs": [
    {
     "name": "stdout",
     "output_type": "stream",
     "text": [
      "Right Justifying\n",
      "##########Python Program for Assignments\n",
      "Left Justifying\n",
      "Python Program for Assignments**********\n",
      "center Justifying\n",
      "*****Python Program for Assignments*****\n"
     ]
    }
   ],
   "source": [
    "string=\"Python Program for Assignments\"\n",
    "print('Right Justifying')\n",
    "print(string.rjust(40,'#'))\n",
    "print('Left Justifying')\n",
    "print(string.ljust(40,'*'))\n",
    "print('center Justifying')\n",
    "print(string.center(40,'*'))\n"
   ]
  },
  {
   "cell_type": "markdown",
   "id": "56684496",
   "metadata": {},
   "source": [
    "10. What is the best way to remove whitespace characters from the start or end?"
   ]
  },
  {
   "cell_type": "markdown",
   "id": "2d8fafca",
   "metadata": {},
   "source": [
    "we can use strip() function to remove the white spaces from the start or end"
   ]
  },
  {
   "cell_type": "code",
   "execution_count": 43,
   "id": "f3d8c5ef",
   "metadata": {},
   "outputs": [
    {
     "name": "stdout",
     "output_type": "stream",
     "text": [
      "   Python Program for Assignments\n",
      "Python Program for Assignments\n"
     ]
    }
   ],
   "source": [
    "string=\"   Python Program for Assignments\"\n",
    "print(string)\n",
    "print(string.strip())"
   ]
  }
 ],
 "metadata": {
  "kernelspec": {
   "display_name": "Python 3 (ipykernel)",
   "language": "python",
   "name": "python3"
  },
  "language_info": {
   "codemirror_mode": {
    "name": "ipython",
    "version": 3
   },
   "file_extension": ".py",
   "mimetype": "text/x-python",
   "name": "python",
   "nbconvert_exporter": "python",
   "pygments_lexer": "ipython3",
   "version": "3.9.12"
  }
 },
 "nbformat": 4,
 "nbformat_minor": 5
}
