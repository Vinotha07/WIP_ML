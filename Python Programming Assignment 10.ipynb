{
 "cells": [
  {
   "cell_type": "markdown",
   "id": "94729433",
   "metadata": {},
   "source": [
    "### Python Programming Assignment 10\n"
   ]
  },
  {
   "cell_type": "markdown",
   "id": "4b063549",
   "metadata": {},
   "source": [
    "1.Write a Python program to find sum of elements in list?"
   ]
  },
  {
   "cell_type": "code",
   "execution_count": 2,
   "id": "a54269ad",
   "metadata": {},
   "outputs": [
    {
     "name": "stdout",
     "output_type": "stream",
     "text": [
      " The sum of the elements in the list is 36\n"
     ]
    }
   ],
   "source": [
    "a=[1,5,7,0,9,2,8,4]\n",
    "sum=0\n",
    "for i in a:\n",
    "    sum=sum+i\n",
    "print(f\" The sum of the elements in the list is {sum}\")"
   ]
  },
  {
   "cell_type": "markdown",
   "id": "763659cc",
   "metadata": {},
   "source": [
    "2.Write a Python program to  Multiply all numbers in the list?"
   ]
  },
  {
   "cell_type": "code",
   "execution_count": 4,
   "id": "33723fda",
   "metadata": {},
   "outputs": [
    {
     "name": "stdout",
     "output_type": "stream",
     "text": [
      " The product of the elements in the list is 735\n"
     ]
    }
   ],
   "source": [
    "a=[1,5,7,3,7]\n",
    "result=1\n",
    "for i in a:\n",
    "    result=result*i\n",
    "print(f\" The product of the elements in the list is {result}\")"
   ]
  },
  {
   "cell_type": "markdown",
   "id": "1b7d8bce",
   "metadata": {},
   "source": [
    "3.Write a Python program to find smallest number in a list?"
   ]
  },
  {
   "cell_type": "code",
   "execution_count": 6,
   "id": "55affd0f",
   "metadata": {},
   "outputs": [
    {
     "data": {
      "text/plain": [
       "2"
      ]
     },
     "execution_count": 6,
     "metadata": {},
     "output_type": "execute_result"
    }
   ],
   "source": [
    "a=[8,5,2,3,7]\n",
    "\"\"\"using min function we can find the minimum number in the list\"\"\"\n",
    "min(a)"
   ]
  },
  {
   "cell_type": "markdown",
   "id": "24abe92e",
   "metadata": {},
   "source": [
    "4.Write a Python program to find largest number in a list?"
   ]
  },
  {
   "cell_type": "code",
   "execution_count": 7,
   "id": "86d55d9a",
   "metadata": {},
   "outputs": [
    {
     "data": {
      "text/plain": [
       "8"
      ]
     },
     "execution_count": 7,
     "metadata": {},
     "output_type": "execute_result"
    }
   ],
   "source": [
    "a=[8,5,2,3,7]\n",
    "\"\"\"using max function we can find the minimum number in the list\"\"\"\n",
    "max(a)"
   ]
  },
  {
   "cell_type": "markdown",
   "id": "09913960",
   "metadata": {},
   "source": [
    "5.Write a Python program to find second largest number in a list?"
   ]
  },
  {
   "cell_type": "code",
   "execution_count": 16,
   "id": "0a240b20",
   "metadata": {},
   "outputs": [
    {
     "name": "stdout",
     "output_type": "stream",
     "text": [
      "The second largest number is 7\n"
     ]
    }
   ],
   "source": [
    "a=[8,5,2,3,7]\n",
    "large=max(a)\n",
    "a.remove(large)\n",
    "second_large=max(a)\n",
    "print(f\"The second largest number is {second_large}\")"
   ]
  },
  {
   "cell_type": "markdown",
   "id": "4291273b",
   "metadata": {},
   "source": [
    "6.Write a Python program to find N largest elements from a list?"
   ]
  },
  {
   "cell_type": "code",
   "execution_count": 30,
   "id": "cf49f18b",
   "metadata": {},
   "outputs": [
    {
     "name": "stdout",
     "output_type": "stream",
     "text": [
      "Enter the number of largest numbers you want3\n"
     ]
    },
    {
     "data": {
      "text/plain": [
       "[37, 25, 18]"
      ]
     },
     "execution_count": 30,
     "metadata": {},
     "output_type": "execute_result"
    }
   ],
   "source": [
    "a=[18,25,12,3,37,9,10]\n",
    "n=int(input(\"Enter the number of largest numbers you want\"))\n",
    "b=sorted(a, reverse=True)\n",
    "b[:n]"
   ]
  },
  {
   "cell_type": "markdown",
   "id": "0d2dd4a4",
   "metadata": {},
   "source": [
    "7.Write a Python program to print even numbers in a list?"
   ]
  },
  {
   "cell_type": "code",
   "execution_count": 35,
   "id": "bc93392e",
   "metadata": {},
   "outputs": [
    {
     "name": "stdout",
     "output_type": "stream",
     "text": [
      "18\n",
      "12\n",
      "10\n"
     ]
    }
   ],
   "source": [
    "a=[18,25,12,3,37,9,10]\n",
    "n=len(a)\n",
    "for i in range(n):\n",
    "    if a[i]%2==0:\n",
    "        print(a[i])\n",
    "    "
   ]
  },
  {
   "cell_type": "markdown",
   "id": "2ff8de79",
   "metadata": {},
   "source": [
    "8.Write a Python program to print odd numbers in a List?"
   ]
  },
  {
   "cell_type": "code",
   "execution_count": 36,
   "id": "ab09cb23",
   "metadata": {},
   "outputs": [
    {
     "name": "stdout",
     "output_type": "stream",
     "text": [
      "25\n",
      "3\n",
      "37\n",
      "9\n"
     ]
    }
   ],
   "source": [
    "a=[18,25,12,3,37,9,10]\n",
    "n=len(a)\n",
    "for i in range(n):\n",
    "    if a[i]%2!=0:\n",
    "        print(a[i])"
   ]
  },
  {
   "cell_type": "markdown",
   "id": "c39f836a",
   "metadata": {},
   "source": [
    "9.Write a Python program to Remove empty List from List?"
   ]
  },
  {
   "cell_type": "code",
   "execution_count": 1,
   "id": "8cb1365b",
   "metadata": {},
   "outputs": [
    {
     "name": "stdout",
     "output_type": "stream",
     "text": [
      "[18, 25, 12, 3, 37, 9, [1, 2, 3]]\n"
     ]
    }
   ],
   "source": [
    "a=[18,25,12,3,37,9,[],[1,2,3]]\n",
    "for i in a:\n",
    "    if i==[]:\n",
    "        a.remove(i)\n",
    "        print(a)\n"
   ]
  },
  {
   "cell_type": "markdown",
   "id": "818a0033",
   "metadata": {},
   "source": [
    "10.Write a Python program to Cloning or Copying a list?"
   ]
  },
  {
   "cell_type": "code",
   "execution_count": 12,
   "id": "7fff16fd",
   "metadata": {},
   "outputs": [
    {
     "name": "stdout",
     "output_type": "stream",
     "text": [
      "[18, 25, 12, 3, 37, 9, [1, 2, 3]]\n"
     ]
    }
   ],
   "source": [
    "\"\"\" Assignment statements do not copy objects, they create bindings between a target and an object. \n",
    "When we use the = operator, It only creates a new variable that shares the reference of the original object. \n",
    "In order to create “real copies” or “clones” of these objects, we can use the copy module in Python.\"\"\"\n",
    "import copy\n",
    "a=[18,25,12,3,37,9,[1,2,3]]\n",
    "b=copy.copy(a)\n",
    "print(b)\n"
   ]
  },
  {
   "cell_type": "markdown",
   "id": "1a779c82",
   "metadata": {},
   "source": [
    "11.Write a Python program to Count occurrences of an element in a list?"
   ]
  },
  {
   "cell_type": "code",
   "execution_count": 17,
   "id": "4507765b",
   "metadata": {},
   "outputs": [
    {
     "name": "stdout",
     "output_type": "stream",
     "text": [
      "Count of 0 is 2\n",
      "Count of 1 is 3\n",
      "Count of 3 is 2\n",
      "Count of 4 is 2\n",
      "Count of 6 is 1\n",
      "Count of 7 is 1\n",
      "Count of 9 is 1\n"
     ]
    }
   ],
   "source": [
    "a=[1,3,4,7,1,1,3,9,0,6,4,0]\n",
    "b=set(a)\n",
    "for i in b:\n",
    "    y=a.count(i)\n",
    "    print(f\"Count of {i} is {y}\")"
   ]
  }
 ],
 "metadata": {
  "kernelspec": {
   "display_name": "Python 3 (ipykernel)",
   "language": "python",
   "name": "python3"
  },
  "language_info": {
   "codemirror_mode": {
    "name": "ipython",
    "version": 3
   },
   "file_extension": ".py",
   "mimetype": "text/x-python",
   "name": "python",
   "nbconvert_exporter": "python",
   "pygments_lexer": "ipython3",
   "version": "3.9.12"
  }
 },
 "nbformat": 4,
 "nbformat_minor": 5
}
