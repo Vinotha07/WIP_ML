{
 "cells": [
  {
   "cell_type": "markdown",
   "id": "c233af6d",
   "metadata": {},
   "source": [
    "#### Assignment 5 Python"
   ]
  },
  {
   "cell_type": "markdown",
   "id": "9cdfbf2d",
   "metadata": {},
   "source": [
    "1. What does an empty dictionary's code look like?"
   ]
  },
  {
   "cell_type": "code",
   "execution_count": 2,
   "id": "cc4a79b6",
   "metadata": {},
   "outputs": [
    {
     "data": {
      "text/plain": [
       "dict"
      ]
     },
     "execution_count": 2,
     "metadata": {},
     "output_type": "execute_result"
    }
   ],
   "source": [
    "d={}\n",
    "type(d)"
   ]
  },
  {
   "cell_type": "markdown",
   "id": "4a53f312",
   "metadata": {},
   "source": [
    "2. What is the value of a dictionary value with the key 'foo' and the value 42?"
   ]
  },
  {
   "cell_type": "code",
   "execution_count": 7,
   "id": "494284e5",
   "metadata": {
    "scrolled": true
   },
   "outputs": [
    {
     "data": {
      "text/plain": [
       "42"
      ]
     },
     "execution_count": 7,
     "metadata": {},
     "output_type": "execute_result"
    }
   ],
   "source": [
    "d={'foo':42}\n",
    "d['foo']"
   ]
  },
  {
   "cell_type": "markdown",
   "id": "9434bf82",
   "metadata": {},
   "source": [
    "The value is 42"
   ]
  },
  {
   "cell_type": "markdown",
   "id": "7fbe366a",
   "metadata": {},
   "source": [
    "3. What is the most significant distinction between a dictionary and a list?"
   ]
  },
  {
   "cell_type": "code",
   "execution_count": null,
   "id": "52624c2d",
   "metadata": {},
   "outputs": [],
   "source": [
    "List is the sequence of elements which has same or different datatypes.\n",
    "Dictionary has the key value pair not in the order."
   ]
  },
  {
   "cell_type": "markdown",
   "id": "041aa481",
   "metadata": {},
   "source": [
    "4. What happens if you try to access spam['foo'] if spam is {'bar': 100}?"
   ]
  },
  {
   "cell_type": "code",
   "execution_count": 8,
   "id": "cab6a0ae",
   "metadata": {},
   "outputs": [
    {
     "ename": "KeyError",
     "evalue": "'foo'",
     "output_type": "error",
     "traceback": [
      "\u001b[1;31m---------------------------------------------------------------------------\u001b[0m",
      "\u001b[1;31mKeyError\u001b[0m                                  Traceback (most recent call last)",
      "Input \u001b[1;32mIn [8]\u001b[0m, in \u001b[0;36m<cell line: 2>\u001b[1;34m()\u001b[0m\n\u001b[0;32m      1\u001b[0m spam\u001b[38;5;241m=\u001b[39m {\u001b[38;5;124m'\u001b[39m\u001b[38;5;124mbar\u001b[39m\u001b[38;5;124m'\u001b[39m: \u001b[38;5;241m100\u001b[39m}\n\u001b[1;32m----> 2\u001b[0m \u001b[43mspam\u001b[49m\u001b[43m[\u001b[49m\u001b[38;5;124;43m'\u001b[39;49m\u001b[38;5;124;43mfoo\u001b[39;49m\u001b[38;5;124;43m'\u001b[39;49m\u001b[43m]\u001b[49m\n",
      "\u001b[1;31mKeyError\u001b[0m: 'foo'"
     ]
    }
   ],
   "source": [
    "spam= {'bar': 100}\n",
    "spam['foo']"
   ]
  },
  {
   "cell_type": "markdown",
   "id": "491828b8",
   "metadata": {},
   "source": [
    "Since \"foo\" key is not available in the spam dictionary it throws Key Error"
   ]
  },
  {
   "cell_type": "markdown",
   "id": "4e22c59c",
   "metadata": {},
   "source": [
    "5. If a dictionary is stored in spam, what is the difference between the expressions 'cat' in spam and 'cat' in spam.keys()?s"
   ]
  },
  {
   "cell_type": "code",
   "execution_count": 9,
   "id": "c5b6240d",
   "metadata": {},
   "outputs": [
    {
     "name": "stdout",
     "output_type": "stream",
     "text": [
      "True\n"
     ]
    }
   ],
   "source": [
    "spam={'cat':1}\n",
    "if \"cat\" in spam.keys():\n",
    "    print(\"True\")\n",
    "else:\n",
    "    print('False')\n",
    "    "
   ]
  },
  {
   "cell_type": "markdown",
   "id": "079ae54b",
   "metadata": {},
   "source": [
    "There is no difference. The operator in checks whether the cat is available in keys."
   ]
  },
  {
   "cell_type": "markdown",
   "id": "bcc5addc",
   "metadata": {},
   "source": [
    "6. If a dictionary is stored in spam, what is the difference between the expressions 'cat' in spam and 'cat' in spam.values()?"
   ]
  },
  {
   "cell_type": "code",
   "execution_count": 10,
   "id": "22eac1aa",
   "metadata": {},
   "outputs": [
    {
     "name": "stdout",
     "output_type": "stream",
     "text": [
      "False\n"
     ]
    }
   ],
   "source": [
    "spam={'cat':1}\n",
    "if \"cat\" in spam.values():\n",
    "    print(\"True\")\n",
    "else:\n",
    "    print('False')"
   ]
  },
  {
   "cell_type": "markdown",
   "id": "b34818bc",
   "metadata": {},
   "source": [
    "cat in spam check whether it is available in the values of the dictionary or not"
   ]
  },
  {
   "cell_type": "markdown",
   "id": "8be82cf5",
   "metadata": {},
   "source": [
    "7. What is a shortcut for the following code?\n",
    "if 'color' not in spam:\n",
    "spam['color'] = 'black'\n"
   ]
  },
  {
   "cell_type": "code",
   "execution_count": 11,
   "id": "f8561b83",
   "metadata": {},
   "outputs": [
    {
     "data": {
      "text/plain": [
       "'black'"
      ]
     },
     "execution_count": 11,
     "metadata": {},
     "output_type": "execute_result"
    }
   ],
   "source": [
    "spam.setdefault('color','black')"
   ]
  },
  {
   "cell_type": "markdown",
   "id": "d8106c94",
   "metadata": {},
   "source": [
    "8. How do you \"pretty print\" dictionary values using which module and function?"
   ]
  },
  {
   "cell_type": "code",
   "execution_count": 18,
   "id": "1bb789d8",
   "metadata": {},
   "outputs": [
    {
     "name": "stdout",
     "output_type": "stream",
     "text": [
      "[{'bar': 100, 'color': 78, 'spam': 89}, {'b': 100, 'm': 89, 'r': 78}]\n"
     ]
    }
   ],
   "source": [
    "import pprint\n",
    "d=[{'color':78,'bar': 100, 'spam':89},{'r':78,'b': 100, 'm':89}]\n",
    "pprint.pprint(d)"
   ]
  },
  {
   "cell_type": "markdown",
   "id": "ac0fede5",
   "metadata": {},
   "source": [
    "import pprint\n",
    "pprint.pprint()"
   ]
  }
 ],
 "metadata": {
  "kernelspec": {
   "display_name": "Python 3 (ipykernel)",
   "language": "python",
   "name": "python3"
  },
  "language_info": {
   "codemirror_mode": {
    "name": "ipython",
    "version": 3
   },
   "file_extension": ".py",
   "mimetype": "text/x-python",
   "name": "python",
   "nbconvert_exporter": "python",
   "pygments_lexer": "ipython3",
   "version": "3.9.12"
  }
 },
 "nbformat": 4,
 "nbformat_minor": 5
}
