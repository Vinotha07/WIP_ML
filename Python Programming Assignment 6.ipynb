{
 "cells": [
  {
   "cell_type": "markdown",
   "id": "52eca3b2",
   "metadata": {},
   "source": [
    "Python Programming Assignment 6"
   ]
  },
  {
   "cell_type": "markdown",
   "id": "31cc97a1",
   "metadata": {},
   "source": [
    "1.Write a Python Program to Display Fibonacci Sequence Using Recursion"
   ]
  },
  {
   "cell_type": "code",
   "execution_count": 11,
   "id": "21a9b735",
   "metadata": {},
   "outputs": [
    {
     "name": "stdout",
     "output_type": "stream",
     "text": [
      "Enter the Number 9\n",
      "0\n",
      "1\n",
      "1\n",
      "2\n",
      "3\n",
      "5\n",
      "8\n",
      "13\n",
      "21\n",
      "34\n"
     ]
    }
   ],
   "source": [
    "def fib(n):\n",
    "    \"\"\"To display the fibonnacci series\"\"\"\n",
    "    if n==0:\n",
    "        return 0\n",
    "    elif n==1:\n",
    "        return 1\n",
    "    \"\"\"using recursive adding n-1 and n-2 element \"\"\"\n",
    "    return fib(n-1)+fib(n-2)\n",
    "n=int(input(\"Enter the Number \"))\n",
    "for i in range (n+1):\n",
    "    print(fib(i))\n"
   ]
  },
  {
   "cell_type": "markdown",
   "id": "e57dd99a",
   "metadata": {},
   "source": [
    "2.Write a Python Program to Find Factorial of Number Using Recursion?"
   ]
  },
  {
   "cell_type": "code",
   "execution_count": 1,
   "id": "5d96c1f9",
   "metadata": {},
   "outputs": [
    {
     "name": "stdout",
     "output_type": "stream",
     "text": [
      "Enter the Number 5\n"
     ]
    },
    {
     "data": {
      "text/plain": [
       "120"
      ]
     },
     "execution_count": 1,
     "metadata": {},
     "output_type": "execute_result"
    }
   ],
   "source": [
    "def factorial(n):\n",
    "    if n==0 or n==1:\n",
    "        return 1\n",
    "    else:\n",
    "        return n*factorial(n-1)\n",
    "n=int(input(\"Enter the Number \"))\n",
    "factorial(n)"
   ]
  },
  {
   "cell_type": "markdown",
   "id": "76860a91",
   "metadata": {},
   "source": [
    "3.Write a Python Program to calculate your Body Mass Index?"
   ]
  },
  {
   "cell_type": "code",
   "execution_count": 24,
   "id": "b4a11c40",
   "metadata": {},
   "outputs": [
    {
     "name": "stdout",
     "output_type": "stream",
     "text": [
      "Enter your weight in kg 85\n",
      "Enter your height in cm 168\n"
     ]
    },
    {
     "data": {
      "text/plain": [
       "'Your BMI value is 30.12'"
      ]
     },
     "execution_count": 24,
     "metadata": {},
     "output_type": "execute_result"
    }
   ],
   "source": [
    "\"\"\"Calculating BMI Value by using BMI formula\"\"\"\n",
    "def bmi(weight,height):\n",
    "    b=(weight/(height/100)**2)\n",
    "    return (f\"Your BMI value is {round(b,2)}\")\n",
    "\n",
    "weight=float(input(\"Enter your weight in kg \"))\n",
    "height=float(input(\"Enter your height in cm \"))\n",
    "bmi(weight,height)"
   ]
  },
  {
   "cell_type": "markdown",
   "id": "6c19ea97",
   "metadata": {},
   "source": [
    "4.Write a Python Program to calculate the natural logarithm of any number?"
   ]
  },
  {
   "cell_type": "code",
   "execution_count": 28,
   "id": "c792aa25",
   "metadata": {},
   "outputs": [
    {
     "name": "stdout",
     "output_type": "stream",
     "text": [
      "Enter the number15\n",
      "Enter the base number3\n",
      "Logarithm of base 3 of 15 is 2.464973520717927\n"
     ]
    }
   ],
   "source": [
    "\"\"\"To calculate teh natural logarithm, two variables are required \n",
    "actual number and base number\"\"\"\n",
    "import math\n",
    "num=int(input(\"Enter the number\"))\n",
    "base=int(input(\"Enter the base number\")) \n",
    "print(f\"Logarithm of base {base} of {num} is \",end=\"\")\n",
    "print(math.log(num,base))"
   ]
  },
  {
   "cell_type": "markdown",
   "id": "5fbbfedc",
   "metadata": {},
   "source": [
    "5.Write a Python Program for cube sum of first n natural numbers?"
   ]
  },
  {
   "cell_type": "code",
   "execution_count": 36,
   "id": "4dd46d8c",
   "metadata": {},
   "outputs": [
    {
     "name": "stdout",
     "output_type": "stream",
     "text": [
      "Enter the number 3\n",
      "The sum cube of the numbers is 36\n"
     ]
    }
   ],
   "source": [
    "\"\"\"To find the cube of the sum of the first n natural numbers\"\"\"\n",
    "\"\"\"Get the input from the user\"\"\"\n",
    "n=int(input(\"Enter the number \"))\n",
    "sum=0\n",
    "if n>0:\n",
    "    for i in range(1,n+1):\n",
    "        i=i**3\n",
    "        sum+=i\n",
    "print(f\"The sum cube of the numbers is {sum}\")\n",
    "    "
   ]
  }
 ],
 "metadata": {
  "kernelspec": {
   "display_name": "Python 3 (ipykernel)",
   "language": "python",
   "name": "python3"
  },
  "language_info": {
   "codemirror_mode": {
    "name": "ipython",
    "version": 3
   },
   "file_extension": ".py",
   "mimetype": "text/x-python",
   "name": "python",
   "nbconvert_exporter": "python",
   "pygments_lexer": "ipython3",
   "version": "3.9.12"
  }
 },
 "nbformat": 4,
 "nbformat_minor": 5
}
