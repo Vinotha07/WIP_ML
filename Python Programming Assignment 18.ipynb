{
 "cells": [
  {
   "cell_type": "markdown",
   "id": "67960e82",
   "metadata": {},
   "source": [
    "Python Programming Assignment 18"
   ]
  },
  {
   "cell_type": "markdown",
   "id": "71fcac44",
   "metadata": {},
   "source": [
    "Question 1\n",
    "Create a function that takes a list of non-negative integers and strings and return a new list without the strings.\n",
    "Examples\n",
    "filter_list([1, 2, \"a\", \"b\"]) ➞ [1, 2]\n",
    "\n",
    "filter_list([1, \"a\", \"b\", 0, 15]) ➞ [1, 0, 15]\n",
    "\n",
    "filter_list([1, 2, \"aasf\", \"1\", \"123\", 123]) ➞ [1, 2, 123]\n",
    "\n"
   ]
  },
  {
   "cell_type": "code",
   "execution_count": 18,
   "id": "273434ed",
   "metadata": {},
   "outputs": [
    {
     "name": "stdout",
     "output_type": "stream",
     "text": [
      "[1, 2]\n",
      "[1, 0, 15]\n",
      "[1, 2, 123]\n"
     ]
    }
   ],
   "source": [
    "\"\"\" Using filter function \"\"\"\n",
    "def filter_list(mylist):\n",
    "    res=filter(lambda x: type(x)==int,mylist)\n",
    "    return list(res)\n",
    "print(filter_list([1, 2, \"a\", \"b\"]))          \n",
    "print(filter_list([1, \"a\", \"b\", 0, 15]))   \n",
    "print(filter_list([1, 2, \"aasf\", \"1\", \"123\", 123]))"
   ]
  },
  {
   "cell_type": "code",
   "execution_count": 19,
   "id": "b35350a8",
   "metadata": {},
   "outputs": [
    {
     "name": "stdout",
     "output_type": "stream",
     "text": [
      "[1, 2]\n",
      "[1, 0, 15]\n",
      "[1, 2, 123]\n"
     ]
    }
   ],
   "source": [
    "\"\"\" Using for loop\"\"\"\n",
    "def filter_list(mylist):\n",
    "    res=[]\n",
    "    for i in range(len(mylist)):\n",
    "        if type(mylist[i])==int and i>=0 and type(mylist[i])!=str:\n",
    "            res.append(mylist[i])\n",
    "    return res\n",
    "print(filter_list([1, 2, \"a\", \"b\"]))          \n",
    "print(filter_list([1, \"a\", \"b\", 0, 15]))   \n",
    "print(filter_list([1, 2, \"aasf\", \"1\", \"123\", 123]))"
   ]
  },
  {
   "cell_type": "markdown",
   "id": "8fa89a0b",
   "metadata": {},
   "source": [
    "Question 2\n",
    "The \"Reverser\" takes a string as input and returns that string in reverse order, with the opposite case.\n",
    "Examples\n",
    "reverse(\"Hello World\") ➞ \"DLROw OLLEh\"\n",
    "\n",
    "reverse(\"ReVeRsE\") ➞ \"eSrEvEr\"\n",
    "\n",
    "reverse(\"Radar\") ➞ \"RADAr\"\n"
   ]
  },
  {
   "cell_type": "code",
   "execution_count": 22,
   "id": "d7c44f04",
   "metadata": {},
   "outputs": [
    {
     "name": "stdout",
     "output_type": "stream",
     "text": [
      "DLROw OLLEh\n",
      "eSrEvEr\n",
      "RADAr\n"
     ]
    }
   ],
   "source": [
    "def reverse(string):\n",
    "    res=(string[::-1])\n",
    "    return res.swapcase()\n",
    "\n",
    "print(reverse(\"Hello World\"))\n",
    "print(reverse(\"ReVeRsE\"))\n",
    "print(reverse(\"Radar\"))"
   ]
  },
  {
   "cell_type": "markdown",
   "id": "b05cb86c",
   "metadata": {},
   "source": [
    "Question 3\n",
    "You can assign variables from lists like this:\n",
    "lst = [1, 2, 3, 4, 5, 6]\n",
    "first = lst[0]\n",
    "middle = lst[1:-1]\n",
    "last = lst[-1]\n",
    "\n",
    "print(first) ➞ outputs 1\n",
    "print(middle) ➞ outputs [2, 3, 4, 5]\n",
    "print(last) ➞ outputs 6\n",
    "With Python 3, you can assign variables from lists in a much more succinct way. Create variables first, middle and last from the given list using destructuring assignment (check the Resources tab for some examples), where:\n",
    "first  ➞ 1\n",
    "\n",
    "middle ➞ [2, 3, 4, 5]\n",
    "\n",
    "last ➞ 6\n",
    "Your task is to unpack the list writeyourcodehere into three variables, being first, middle, and last, with middle being everything in between the first and last element. Then print all three variables.\n"
   ]
  },
  {
   "cell_type": "code",
   "execution_count": 26,
   "id": "3059c895",
   "metadata": {},
   "outputs": [
    {
     "name": "stdout",
     "output_type": "stream",
     "text": [
      "1\n",
      "[2, 3, 4, 5]\n",
      "6\n"
     ]
    }
   ],
   "source": [
    "\"\"\"By Destructuring assignment\"\"\"\n",
    "lst=[1,2,3,4,5,6]\n",
    "first,*middle,last=lst\n",
    "print(first)\n",
    "print(middle) \n",
    "print(last)"
   ]
  },
  {
   "cell_type": "markdown",
   "id": "937c4d73",
   "metadata": {},
   "source": [
    "Question 4\n",
    "Write a function that calculates the factorial of a number recursively.\n",
    "Examples\n",
    "factorial(5) ➞ 120\n",
    "\n",
    "factorial(3) ➞ 6\n",
    "\n",
    "factorial(1) ➞ 1\n",
    "\n",
    "factorial(0) ➞ 1\n"
   ]
  },
  {
   "cell_type": "code",
   "execution_count": 29,
   "id": "c93db463",
   "metadata": {},
   "outputs": [
    {
     "name": "stdout",
     "output_type": "stream",
     "text": [
      "120\n",
      "6\n",
      "1\n",
      "1\n"
     ]
    }
   ],
   "source": [
    "def factorial(n):\n",
    "    if n==0 or n==1:\n",
    "        return 1\n",
    "    else:\n",
    "        return n*factorial(n-1)\n",
    "print(factorial(5))\n",
    "print(factorial(3))\n",
    "print(factorial(1))\n",
    "print(factorial(0))"
   ]
  },
  {
   "cell_type": "markdown",
   "id": "d56dbd7f",
   "metadata": {},
   "source": [
    "Question 5\n",
    "Write a function that moves all elements of one type to the end of the list.\n",
    "Examples\n",
    "move_to_end([1, 3, 2, 4, 4, 1], 1) ➞ [3, 2, 4, 4, 1, 1]\n",
    "Move all the 1s to the end of the array.\n",
    "\n",
    "move_to_end([7, 8, 9, 1, 2, 3, 4], 9) ➞ [7, 8, 1, 2, 3, 4, 9]\n",
    "\n",
    "move_to_end([\"a\", \"a\", \"a\", \"b\"], \"a\") ➞ [\"b\", \"a\", \"a\", \"a\"]\n"
   ]
  },
  {
   "cell_type": "code",
   "execution_count": 42,
   "id": "e6068b21",
   "metadata": {},
   "outputs": [
    {
     "name": "stdout",
     "output_type": "stream",
     "text": [
      "[3, 2, 4, 4, 1, 1]\n",
      "[7, 8, 1, 2, 3, 4, 9]\n",
      "['b', 'a', 'a', 'a']\n"
     ]
    }
   ],
   "source": [
    "def move_to_end(mylist,n):\n",
    "    for i in mylist:\n",
    "        if i==n:\n",
    "            mylist.remove(n)\n",
    "            mylist.append(n)\n",
    "    return mylist\n",
    "print(move_to_end([1, 3, 2, 4, 4, 1], 1) )\n",
    "print(move_to_end([7, 8, 9, 1, 2, 3, 4], 9)) \n",
    "print(move_to_end([\"a\", \"a\", \"a\", \"b\"], \"a\"))"
   ]
  }
 ],
 "metadata": {
  "kernelspec": {
   "display_name": "Python 3 (ipykernel)",
   "language": "python",
   "name": "python3"
  },
  "language_info": {
   "codemirror_mode": {
    "name": "ipython",
    "version": 3
   },
   "file_extension": ".py",
   "mimetype": "text/x-python",
   "name": "python",
   "nbconvert_exporter": "python",
   "pygments_lexer": "ipython3",
   "version": "3.9.12"
  }
 },
 "nbformat": 4,
 "nbformat_minor": 5
}
