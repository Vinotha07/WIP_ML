{
 "cells": [
  {
   "cell_type": "markdown",
   "id": "a2781091",
   "metadata": {},
   "source": [
    "Python Programming Assignment 11"
   ]
  },
  {
   "cell_type": "markdown",
   "id": "a49d795d",
   "metadata": {},
   "source": [
    "1.Write a Python program to find words which are greater than given length k"
   ]
  },
  {
   "cell_type": "code",
   "execution_count": 26,
   "id": "2f768091",
   "metadata": {},
   "outputs": [
    {
     "name": "stdout",
     "output_type": "stream",
     "text": [
      "Enter your StringThis is my first program \n"
     ]
    },
    {
     "data": {
      "text/plain": [
       "'program'"
      ]
     },
     "execution_count": 26,
     "metadata": {},
     "output_type": "execute_result"
    }
   ],
   "source": [
    "mydata=input(\"Enter your String\")\n",
    "data=mydata.split(\" \")\n",
    "\"\"\"Use inbuilt function max\"\"\"\n",
    "max(data, key=len)\n",
    "    \n",
    "   "
   ]
  },
  {
   "cell_type": "markdown",
   "id": "74d82df4",
   "metadata": {},
   "source": [
    "2.Write a Python program for removing i-th character from a string?"
   ]
  },
  {
   "cell_type": "code",
   "execution_count": 41,
   "id": "6d850870",
   "metadata": {},
   "outputs": [
    {
     "name": "stdout",
     "output_type": "stream",
     "text": [
      "Enter your string hello\n",
      "which character position you want to remove 0\n",
      "ello\n"
     ]
    }
   ],
   "source": [
    "mydata=input(\"Enter your string \")\n",
    "n=int(input(\"which character position you want to remove \"))\n",
    "data=mydata.replace(mydata[n],\"\")\n",
    "print(data)\n",
    "           "
   ]
  },
  {
   "cell_type": "markdown",
   "id": "bdbf19d8",
   "metadata": {},
   "source": [
    "3.Write a Python program to split and join a string?"
   ]
  },
  {
   "cell_type": "code",
   "execution_count": 52,
   "id": "61b6c62b",
   "metadata": {},
   "outputs": [
    {
     "name": "stdout",
     "output_type": "stream",
     "text": [
      "After Splitting the type is : <class 'list'>\n",
      "['Python', 'is', 'my', 'first', 'program']\n",
      "After Joining the type is: <class 'str'>\n",
      "Python-is-my-first-program\n"
     ]
    }
   ],
   "source": [
    "mydata=\"Python is my first program\"\n",
    "data=mydata.split()\n",
    "print(f\"After Splitting the type is : {type(data)}\")\n",
    "print(data)\n",
    "final=\"-\".join(data)\n",
    "print(f\"After Joining the type is: {type(final)}\")\n",
    "print(final)\n"
   ]
  },
  {
   "cell_type": "markdown",
   "id": "1691303c",
   "metadata": {},
   "source": [
    "4.Write a Python to check if a given string is binary string or not?"
   ]
  },
  {
   "cell_type": "code",
   "execution_count": 69,
   "id": "54c0c21e",
   "metadata": {},
   "outputs": [
    {
     "name": "stdout",
     "output_type": "stream",
     "text": [
      "{'0', '1'}\n",
      "It is binary string\n"
     ]
    }
   ],
   "source": [
    "\"\"\"Binary string has 0s and 1s and not alpha characters\"\"\"\n",
    "string=\"010110\"\n",
    "p=set(string)\n",
    "print(p)\n",
    "s={'0','1'}\n",
    "if s==p or p=={'0'} or p=={'1'}:\n",
    "    print(\"It is binary string\")\n",
    "else:\n",
    "    print(\"Its not a binary string\")\n",
    "    "
   ]
  },
  {
   "cell_type": "markdown",
   "id": "85c93042",
   "metadata": {},
   "source": [
    "5.Write a Python program to find uncommon words from two Strings?"
   ]
  },
  {
   "cell_type": "code",
   "execution_count": 84,
   "id": "f4821d6c",
   "metadata": {},
   "outputs": [
    {
     "name": "stdout",
     "output_type": "stream",
     "text": [
      "['of', 'length', 'board', 'height']\n"
     ]
    }
   ],
   "source": [
    "string1=\"select the length \"\n",
    "string2=\"select the height of the board\"\n",
    "s1=string1.split()\n",
    "s2=string2.split()\n",
    "\"\"\"Convert the list to sets\"\"\"\n",
    "a=set(s1)\n",
    "b=set(s2)\n",
    "\"\"\"By using symmetric difference function we can find the uncommon words\"\"\"\n",
    "string=a.symmetric_difference(s2)\n",
    "print(list(string))\n",
    "             \n",
    "\n",
    "            "
   ]
  },
  {
   "cell_type": "markdown",
   "id": "8532fffd",
   "metadata": {},
   "source": [
    "6.Write a Python to find all duplicate characters in string?"
   ]
  },
  {
   "cell_type": "code",
   "execution_count": 91,
   "id": "2d741e4d",
   "metadata": {},
   "outputs": [
    {
     "name": "stdout",
     "output_type": "stream",
     "text": [
      "['h', 'a', 'p', 'y']\n"
     ]
    }
   ],
   "source": [
    "string=\"happybirthday\"\n",
    "dups=[]\n",
    "for char in string:\n",
    "    \"\"\" check the occurence of the character and also check the duplicate values printed only once\"\"\"\n",
    "    if string.count(char)>1 and char not in dups:\n",
    "        dups.append(char)\n",
    "print(dups)    \n"
   ]
  },
  {
   "cell_type": "markdown",
   "id": "fa9da31b",
   "metadata": {},
   "source": [
    "7.Write a Python Program to check if a string contains any special character?"
   ]
  },
  {
   "cell_type": "code",
   "execution_count": 101,
   "id": "b44b4788",
   "metadata": {},
   "outputs": [
    {
     "name": "stdout",
     "output_type": "stream",
     "text": [
      "yes,the given string  have special characters \n"
     ]
    }
   ],
   "source": [
    "\"\"\"To use punctuation which has all the special characters we are importing the string module here\"\"\"\n",
    "import string\n",
    "mydata=\"hello)_@w-orld\"\n",
    "spl_char=string.punctuation\n",
    "f=0\n",
    "for char in spl_char:\n",
    "    if char in mydata:\n",
    "        f=1\n",
    "if f==1:\n",
    "    print(\"yes,the given string  have special characters \")\n",
    "else:\n",
    "    print(\"The given string doesn't have any special character \")\n",
    "        "
   ]
  }
 ],
 "metadata": {
  "kernelspec": {
   "display_name": "Python 3 (ipykernel)",
   "language": "python",
   "name": "python3"
  },
  "language_info": {
   "codemirror_mode": {
    "name": "ipython",
    "version": 3
   },
   "file_extension": ".py",
   "mimetype": "text/x-python",
   "name": "python",
   "nbconvert_exporter": "python",
   "pygments_lexer": "ipython3",
   "version": "3.9.12"
  }
 },
 "nbformat": 4,
 "nbformat_minor": 5
}
