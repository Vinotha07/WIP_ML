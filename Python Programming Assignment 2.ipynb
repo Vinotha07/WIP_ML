{
 "cells": [
  {
   "cell_type": "markdown",
   "id": "c4ab9a5a",
   "metadata": {},
   "source": [
    "1.Write a Python program to convert kilometers to miles?"
   ]
  },
  {
   "cell_type": "code",
   "execution_count": 4,
   "id": "29c39983",
   "metadata": {},
   "outputs": [
    {
     "name": "stdout",
     "output_type": "stream",
     "text": [
      "Enter the Length in Kilo Meters100\n"
     ]
    },
    {
     "data": {
      "text/plain": [
       "'The length is 62.137 miles'"
      ]
     },
     "execution_count": 4,
     "metadata": {},
     "output_type": "execute_result"
    }
   ],
   "source": [
    "\"\"\"Kilometers to miles Conversion\"\"\"\n",
    "def kilo_miles(km):\n",
    "    return (f\"The length is {0.62137*km} miles\")\n",
    "km=float(input(\"Enter the Length in Kilo Meters\"))\n",
    "kilo_miles(km)"
   ]
  },
  {
   "cell_type": "markdown",
   "id": "3221eb1e",
   "metadata": {},
   "source": [
    "2.Write a Python program to convert Celsius to Fahrenheit?"
   ]
  },
  {
   "cell_type": "code",
   "execution_count": 14,
   "id": "5f48632e",
   "metadata": {},
   "outputs": [
    {
     "name": "stdout",
     "output_type": "stream",
     "text": [
      "Enter the Temperature in Celsius: 100\n"
     ]
    },
    {
     "data": {
      "text/plain": [
       "' Temeperature : 212.00 Fahrenheit'"
      ]
     },
     "execution_count": 14,
     "metadata": {},
     "output_type": "execute_result"
    }
   ],
   "source": [
    "def cel_Fahren(cel):\n",
    "    \"\"\" Celsius to Fahrenheit Conversion\"\"\"\n",
    "    return (f\" Temeperature :{((1.8*cel)+32): .2f} Fahrenheit\")\n",
    "cel=float(input(\"Enter the Temperature in Celsius: \"))            \n",
    "cel_Fahren(cel)"
   ]
  },
  {
   "cell_type": "markdown",
   "id": "c6285c62",
   "metadata": {},
   "source": [
    "3.Write a Python program to display calendar?"
   ]
  },
  {
   "cell_type": "code",
   "execution_count": 20,
   "id": "9cae0d10",
   "metadata": {},
   "outputs": [
    {
     "name": "stdout",
     "output_type": "stream",
     "text": [
      "                                  2022\n",
      "\n",
      "      January                   February                   March\n",
      "Mo Tu We Th Fr Sa Su      Mo Tu We Th Fr Sa Su      Mo Tu We Th Fr Sa Su\n",
      "                1  2          1  2  3  4  5  6          1  2  3  4  5  6\n",
      " 3  4  5  6  7  8  9       7  8  9 10 11 12 13       7  8  9 10 11 12 13\n",
      "10 11 12 13 14 15 16      14 15 16 17 18 19 20      14 15 16 17 18 19 20\n",
      "17 18 19 20 21 22 23      21 22 23 24 25 26 27      21 22 23 24 25 26 27\n",
      "24 25 26 27 28 29 30      28                        28 29 30 31\n",
      "31\n",
      "\n",
      "       April                      May                       June\n",
      "Mo Tu We Th Fr Sa Su      Mo Tu We Th Fr Sa Su      Mo Tu We Th Fr Sa Su\n",
      "             1  2  3                         1             1  2  3  4  5\n",
      " 4  5  6  7  8  9 10       2  3  4  5  6  7  8       6  7  8  9 10 11 12\n",
      "11 12 13 14 15 16 17       9 10 11 12 13 14 15      13 14 15 16 17 18 19\n",
      "18 19 20 21 22 23 24      16 17 18 19 20 21 22      20 21 22 23 24 25 26\n",
      "25 26 27 28 29 30         23 24 25 26 27 28 29      27 28 29 30\n",
      "                          30 31\n",
      "\n",
      "        July                     August                  September\n",
      "Mo Tu We Th Fr Sa Su      Mo Tu We Th Fr Sa Su      Mo Tu We Th Fr Sa Su\n",
      "             1  2  3       1  2  3  4  5  6  7                1  2  3  4\n",
      " 4  5  6  7  8  9 10       8  9 10 11 12 13 14       5  6  7  8  9 10 11\n",
      "11 12 13 14 15 16 17      15 16 17 18 19 20 21      12 13 14 15 16 17 18\n",
      "18 19 20 21 22 23 24      22 23 24 25 26 27 28      19 20 21 22 23 24 25\n",
      "25 26 27 28 29 30 31      29 30 31                  26 27 28 29 30\n",
      "\n",
      "      October                   November                  December\n",
      "Mo Tu We Th Fr Sa Su      Mo Tu We Th Fr Sa Su      Mo Tu We Th Fr Sa Su\n",
      "                1  2          1  2  3  4  5  6                1  2  3  4\n",
      " 3  4  5  6  7  8  9       7  8  9 10 11 12 13       5  6  7  8  9 10 11\n",
      "10 11 12 13 14 15 16      14 15 16 17 18 19 20      12 13 14 15 16 17 18\n",
      "17 18 19 20 21 22 23      21 22 23 24 25 26 27      19 20 21 22 23 24 25\n",
      "24 25 26 27 28 29 30      28 29 30                  26 27 28 29 30 31\n",
      "31\n",
      "\n",
      "    October 2021\n",
      "Mo Tu We Th Fr Sa Su\n",
      "             1  2  3\n",
      " 4  5  6  7  8  9 10\n",
      "11 12 13 14 15 16 17\n",
      "18 19 20 21 22 23 24\n",
      "25 26 27 28 29 30 31\n",
      "\n"
     ]
    }
   ],
   "source": [
    "import calendar\n",
    "def display_calendar(year):\n",
    "    \"\"\"Display calendar for the year\"\"\"\n",
    "    return calendar.calendar(year)\n",
    "\n",
    "def display_month(year,month):\n",
    "    \"\"\"Display calendar for the selected month and the year \"\"\"\n",
    "    return calendar.month(year,month)\n",
    "print(display_calendar(2022))\n",
    "print(display_month(2021,10))"
   ]
  },
  {
   "cell_type": "markdown",
   "id": "af984a6d",
   "metadata": {},
   "source": [
    "4.Write a Python program to solve quadratic equation?"
   ]
  },
  {
   "cell_type": "code",
   "execution_count": 22,
   "id": "89c6d570",
   "metadata": {},
   "outputs": [
    {
     "name": "stdout",
     "output_type": "stream",
     "text": [
      "Enter the value a:5\n",
      "Enter the value b:4\n",
      "Enter the value c:2\n",
      "The solution of the quadratic equation are: (-0.4+0.4898979485566356j) and (-0.4-0.4898979485566356j)\n"
     ]
    }
   ],
   "source": [
    "\"\"\"To solve quadratic equation ax^2+bx+c\"\"\"\n",
    "import cmath\n",
    "# importing cmath to do the complex math problem\n",
    "a=float(input(\"Enter the value a:\"))\n",
    "b=float(input(\"Enter the value b:\"))\n",
    "c=float(input(\"Enter the value c:\"))\n",
    "dis=(b**2)-(4*a*c)\n",
    "soln1=(-b+cmath.sqrt(dis))/(2*a)\n",
    "soln2=(-b-cmath.sqrt(dis))/(2*a)\n",
    "print(f\"The solution of the quadratic equation are: {soln1} and {soln2}\")"
   ]
  },
  {
   "cell_type": "markdown",
   "id": "0ea6fd06",
   "metadata": {},
   "source": [
    "5.Write a Python program to swap two variables without temp variable?"
   ]
  },
  {
   "cell_type": "code",
   "execution_count": 24,
   "id": "b18be606",
   "metadata": {},
   "outputs": [
    {
     "name": "stdout",
     "output_type": "stream",
     "text": [
      "The Value of x = 4\n",
      "The Value of y = 5\n"
     ]
    }
   ],
   "source": [
    "\"\"\"Swapping of two variables\"\"\"\n",
    "x=5\n",
    "y=4\n",
    "x,y=y,x\n",
    "print(f\"The Value of x = {x}\")\n",
    "print(f\"The Value of y = {y}\")\n"
   ]
  }
 ],
 "metadata": {
  "kernelspec": {
   "display_name": "Python 3 (ipykernel)",
   "language": "python",
   "name": "python3"
  },
  "language_info": {
   "codemirror_mode": {
    "name": "ipython",
    "version": 3
   },
   "file_extension": ".py",
   "mimetype": "text/x-python",
   "name": "python",
   "nbconvert_exporter": "python",
   "pygments_lexer": "ipython3",
   "version": "3.9.12"
  }
 },
 "nbformat": 4,
 "nbformat_minor": 5
}
