{
 "cells": [
  {
   "cell_type": "markdown",
   "id": "c189b1b9",
   "metadata": {},
   "source": [
    "### Assignment 3 Python"
   ]
  },
  {
   "cell_type": "markdown",
   "id": "1d958c09",
   "metadata": {},
   "source": [
    "1. Why are functions advantageous to have in your programs?"
   ]
  },
  {
   "cell_type": "markdown",
   "id": "e5f70d42",
   "metadata": {},
   "source": [
    "The use of function makes the program more readable by breaking down the large program in the small modules and also we can reuse the function countless time once we defined.\n",
    "This reduces the duplication of the code."
   ]
  },
  {
   "cell_type": "markdown",
   "id": "1660e046",
   "metadata": {},
   "source": [
    "2. When does the code in a function run: when it's specified or when it's called?"
   ]
  },
  {
   "cell_type": "markdown",
   "id": "b2f1126b",
   "metadata": {},
   "source": [
    "The code in a function executes when the function is called, not when the function is defined"
   ]
  },
  {
   "cell_type": "markdown",
   "id": "2622a136",
   "metadata": {},
   "source": [
    "3. What statement creates a function?"
   ]
  },
  {
   "cell_type": "markdown",
   "id": "3f070b9f",
   "metadata": {},
   "source": [
    "A function is defined by using the def keyword, followed by a name of your choosing, followed by a set of parentheses which hold any parameters the function will take (they can be empty), and ending with a colon\n",
    "Example given below."
   ]
  },
  {
   "cell_type": "code",
   "execution_count": 1,
   "id": "1c463623",
   "metadata": {},
   "outputs": [
    {
     "name": "stdout",
     "output_type": "stream",
     "text": [
      "Hello\n"
     ]
    }
   ],
   "source": [
    "def Greeting():\n",
    "    print(\"Hello\")\n",
    "Greeting()"
   ]
  },
  {
   "cell_type": "markdown",
   "id": "710f92b8",
   "metadata": {},
   "source": [
    "4. What is the difference between a function and a function call?"
   ]
  },
  {
   "cell_type": "markdown",
   "id": "c5ba17a4",
   "metadata": {},
   "source": [
    "A function is a block of code which perform certain operation and return the result.It usually accept the input as parameters and return the result. Parameter is not madantory.\n",
    "Fuction call is the code used to pass the control to the function"
   ]
  },
  {
   "cell_type": "markdown",
   "id": "74c4fdd4",
   "metadata": {},
   "source": [
    "5. How many global scopes are there in a Python program? How many local scopes?"
   ]
  },
  {
   "cell_type": "markdown",
   "id": "ae919191",
   "metadata": {},
   "source": [
    "There are 4 types of scopes, Local scope, Enclosing scope, Global scope and Inbuilt scope.\n",
    "Variables that are defined inside a function body have a local scope, and those defined outside have a global scope. \n",
    "This means that local variables can be accessed only inside the function in which they are declared, whereas global variables can be accessed throughout the program body by all functions"
   ]
  },
  {
   "cell_type": "markdown",
   "id": "de4a0bc0",
   "metadata": {},
   "source": [
    "6. What happens to variables in a local scope when the function call returns?"
   ]
  },
  {
   "cell_type": "markdown",
   "id": "b11b40e8",
   "metadata": {},
   "source": [
    "Since local variables are only recognized inside their functions, variables with the same name can be used in different functions. Local variables are created when a function starts, and deleted when the function is completed."
   ]
  },
  {
   "cell_type": "markdown",
   "id": "4436ff6b",
   "metadata": {},
   "source": [
    "7. What is the concept of a return value? Is it possible to have a return value in an expression?"
   ]
  },
  {
   "cell_type": "markdown",
   "id": "bb00bad2",
   "metadata": {},
   "source": [
    "A return statement is used to end the execution of the fuction calls and return the result to the caller.The statement after the return statement are not executed. If the return staement without any expression then the special value None is returned.\n",
    "We can use the expression in the return statement."
   ]
  },
  {
   "cell_type": "markdown",
   "id": "52ae598b",
   "metadata": {},
   "source": [
    "8. If a function does not have a return statement, what is the return value of a call to that function?"
   ]
  },
  {
   "cell_type": "markdown",
   "id": "28ca0e6b",
   "metadata": {},
   "source": [
    "If no return statement appears in a function definition, control automatically returns to the calling function after the last statement of the called function is executed.\n",
    "The return value None is returned."
   ]
  },
  {
   "cell_type": "markdown",
   "id": "d10d8c16",
   "metadata": {},
   "source": [
    "9. How do you make a function variable refer to the global variable?"
   ]
  },
  {
   "cell_type": "markdown",
   "id": "f4fa2643",
   "metadata": {},
   "source": [
    "Variables that are declared outside of a function are known as global variables. We can access global variables in Python both inside and outside the function. \n",
    "To create a global variable inside a function, we can use the global keyword."
   ]
  },
  {
   "cell_type": "markdown",
   "id": "58a6d55d",
   "metadata": {},
   "source": [
    "10. What is the data type of None?"
   ]
  },
  {
   "cell_type": "markdown",
   "id": "d47250ff",
   "metadata": {},
   "source": [
    "None keyword is used to define null value or no value at all. None is not the same as 0, False, or an empty string. None is a datatype of the class NoneType object."
   ]
  },
  {
   "cell_type": "markdown",
   "id": "da40e1c6",
   "metadata": {},
   "source": [
    "11. What does the sentence import areallyourpetsnamederic do?"
   ]
  },
  {
   "cell_type": "markdown",
   "id": "e7c72780",
   "metadata": {},
   "source": [
    "It import areallyourpetsnamederic module."
   ]
  },
  {
   "cell_type": "markdown",
   "id": "cdabf7c4",
   "metadata": {},
   "source": [
    "12. If you had a bacon() feature in a spam module, what would you call it after importing spam?"
   ]
  },
  {
   "cell_type": "code",
   "execution_count": null,
   "id": "8571e275",
   "metadata": {},
   "outputs": [],
   "source": [
    "import spam\n",
    "spam.bacon()"
   ]
  },
  {
   "cell_type": "markdown",
   "id": "219e2d4a",
   "metadata": {},
   "source": [
    "13. What can you do to save a programme from crashing if it encounters an error?"
   ]
  },
  {
   "cell_type": "markdown",
   "id": "5c51e3d2",
   "metadata": {},
   "source": [
    "By implementing Exception Handling in the code we can avoid the crashing of the program. Move the code to the try and Except statement. Try running the program and throw the error message instaed of crashing it."
   ]
  },
  {
   "cell_type": "markdown",
   "id": "fe492d0b",
   "metadata": {},
   "source": [
    "14. What is the purpose of the try clause? What is the purpose of the except clause?"
   ]
  },
  {
   "cell_type": "markdown",
   "id": "9d1fcb36",
   "metadata": {},
   "source": [
    "try block helps to test the block of code\n",
    "Except block helps to handle the error."
   ]
  }
 ],
 "metadata": {
  "kernelspec": {
   "display_name": "Python 3 (ipykernel)",
   "language": "python",
   "name": "python3"
  },
  "language_info": {
   "codemirror_mode": {
    "name": "ipython",
    "version": 3
   },
   "file_extension": ".py",
   "mimetype": "text/x-python",
   "name": "python",
   "nbconvert_exporter": "python",
   "pygments_lexer": "ipython3",
   "version": "3.9.12"
  }
 },
 "nbformat": 4,
 "nbformat_minor": 5
}
