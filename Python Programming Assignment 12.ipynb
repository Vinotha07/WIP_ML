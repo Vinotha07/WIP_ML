{
 "cells": [
  {
   "cell_type": "markdown",
   "id": "7e7b6aed",
   "metadata": {},
   "source": [
    "#### Python Programming Assignment 12\n"
   ]
  },
  {
   "cell_type": "markdown",
   "id": "517a7102",
   "metadata": {},
   "source": [
    "1.Write a Python program to Extract Unique values dictionary values?"
   ]
  },
  {
   "cell_type": "code",
   "execution_count": 15,
   "id": "2aa5248d",
   "metadata": {},
   "outputs": [
    {
     "name": "stdout",
     "output_type": "stream",
     "text": [
      "The unique values are [1, 2, 3, 4]\n"
     ]
    }
   ],
   "source": [
    "dict1={'a':1,'b':2,'c':3,'d':4,'e':1,'f':4}\n",
    "l1=list()\n",
    "\"\"\"Extract the values in the dictionary and append that into list\"\"\"\n",
    "for i in dict1.values():\n",
    "    l1.append(i)\n",
    "    \"\"\"To get the unique values convert that list into set\"\"\"\n",
    "    l2=set(sorted(l1))\n",
    "    v1=list(l2)\n",
    "print(f'The unique values are {v1}') \n",
    "  "
   ]
  },
  {
   "cell_type": "markdown",
   "id": "1bc12523",
   "metadata": {},
   "source": [
    "2.Write a Python program to find the sum of all items in a dictionary?"
   ]
  },
  {
   "cell_type": "code",
   "execution_count": 17,
   "id": "a600bdb0",
   "metadata": {},
   "outputs": [
    {
     "name": "stdout",
     "output_type": "stream",
     "text": [
      "Sum of all items in a dictionary: 431\n"
     ]
    }
   ],
   "source": [
    "dict1={'a':100,'b':250,'c':37,'d':44}\n",
    "sum=0\n",
    "for i in dict1.values():\n",
    "    sum=sum+i\n",
    "print(f\"Sum of all items in a dictionary: {sum}\")"
   ]
  },
  {
   "cell_type": "markdown",
   "id": "ce515ed0",
   "metadata": {},
   "source": [
    "3.Write a Python program to Merging two Dictionaries?"
   ]
  },
  {
   "cell_type": "code",
   "execution_count": 21,
   "id": "5d9902a3",
   "metadata": {},
   "outputs": [
    {
     "name": "stdout",
     "output_type": "stream",
     "text": [
      "{'a': 12, 'b': 0, 'c': 7, 'd': 4, 'h': 10, 'k': 20, 'l': 3}\n"
     ]
    }
   ],
   "source": [
    "\"\"\"Using update method merge the dictionaries\"\"\"\n",
    "dict1={'a':12,'b':0,'c':7,'d':44}\n",
    "dict2={'h':10,'k':20,'l':3,'d':4}\n",
    "dict1.update(dict2)\n",
    "print(dict1)"
   ]
  },
  {
   "cell_type": "markdown",
   "id": "f50f3e49",
   "metadata": {},
   "source": [
    "4.Write a Python program to convert key-values list to flat dictionary?"
   ]
  },
  {
   "cell_type": "code",
   "execution_count": 24,
   "id": "beb693c7",
   "metadata": {},
   "outputs": [
    {
     "name": "stdout",
     "output_type": "stream",
     "text": [
      "{'a': 2, 'b': 5, 'c': 6, 'd': 8}\n"
     ]
    }
   ],
   "source": [
    "\"\"\"Using Zip method we can convert list into dictionary\"\"\"\n",
    "l1=['a','b','c','d']\n",
    "l2=[2,5,6,8]\n",
    "d1=dict(zip(l1,l2))\n",
    "print(d1)"
   ]
  },
  {
   "cell_type": "code",
   "execution_count": 31,
   "id": "a62c6db4",
   "metadata": {},
   "outputs": [
    {
     "name": "stdout",
     "output_type": "stream",
     "text": [
      "{'a': 'b', 'c': 'd'}\n"
     ]
    }
   ],
   "source": [
    "l1=['a','b','c','d']\n",
    "init=iter(l1)\n",
    "d1=dict(zip(init,init))\n",
    "print(d1)"
   ]
  },
  {
   "cell_type": "markdown",
   "id": "a419eef5",
   "metadata": {},
   "source": [
    "5.Write a Python program to insertion at the beginning in OrderedDict?"
   ]
  },
  {
   "cell_type": "code",
   "execution_count": 37,
   "id": "aca1f4a8",
   "metadata": {},
   "outputs": [
    {
     "name": "stdout",
     "output_type": "stream",
     "text": [
      "OrderedDict([('z', 10), ('a', 2), ('b', 5), ('c', 6), ('d', 8)])\n"
     ]
    }
   ],
   "source": [
    "\"\"\"OrderedDict is a part of collection module. \n",
    "To create the odered dict to import the collection module\"\"\"\n",
    "from collections import OrderedDict\n",
    "dict1={'a': 2, 'b': 5, 'c': 6, 'd': 8}\n",
    "\"\"\"Convert dictionary to ordered\"\"\"\n",
    "order_d1=OrderedDict(dict1)\n",
    "\"\"\"Using update it will insert the element at last\"\"\"\n",
    "order_d1.update({'z':10})\n",
    "\"\"\"To insert the dictionary keys and values in the beginning, use move to end funtion\"\"\"\n",
    "order_d1.move_to_end('z',last=False)\n",
    "print(order_d1)"
   ]
  },
  {
   "cell_type": "markdown",
   "id": "1c9dd48d",
   "metadata": {},
   "source": [
    "6.Write a Python program to check order of character in string using OrderedDict()?"
   ]
  },
  {
   "cell_type": "code",
   "execution_count": 46,
   "id": "5d22b79f",
   "metadata": {},
   "outputs": [
    {
     "name": "stdout",
     "output_type": "stream",
     "text": [
      "OrderedDict([('P', None), ('r', None), ('o', None), ('g', None), ('a', None), ('m', None)])\n",
      "The given pattern is available in the string\n"
     ]
    }
   ],
   "source": [
    "\"\"\"Funcion to perform the check the order of the character in the string\"\"\"\n",
    "from collections import OrderedDict\n",
    "def check_order(string,pattern):\n",
    "    dict1=OrderedDict.fromkeys(string)\n",
    "    print(dict1)\n",
    "    ptrlen=0\n",
    "    for key,value in dict1.items():\n",
    "        if (key==pattern[ptrlen]):\n",
    "            ptrlen+=1\n",
    "        if ptrlen==len(pattern):\n",
    "            return True\n",
    "  \n",
    "    \n",
    "if(check_order(\"Program\",\"am\")==True):\n",
    "    print(\"The given pattern is available in the string\")\n",
    "else:\n",
    "    print(\"The given pattern is not available in the string\")"
   ]
  },
  {
   "cell_type": "markdown",
   "id": "a6c8aaef",
   "metadata": {},
   "source": [
    "7.Write a Python program to sort Python Dictionaries by Key or Value?"
   ]
  },
  {
   "cell_type": "code",
   "execution_count": 53,
   "id": "be30dd39",
   "metadata": {},
   "outputs": [
    {
     "name": "stdout",
     "output_type": "stream",
     "text": [
      "('a', 10)('d', 44)('t', 50)('y', 37)"
     ]
    }
   ],
   "source": [
    "dict1={'a':10,'t':50,'y':37,'d':44}\n",
    "for i in sorted(dict1.keys()):\n",
    "    print((i,dict1[i]),end=\"\")\n",
    "    \n",
    "                    "
   ]
  }
 ],
 "metadata": {
  "kernelspec": {
   "display_name": "Python 3 (ipykernel)",
   "language": "python",
   "name": "python3"
  },
  "language_info": {
   "codemirror_mode": {
    "name": "ipython",
    "version": 3
   },
   "file_extension": ".py",
   "mimetype": "text/x-python",
   "name": "python",
   "nbconvert_exporter": "python",
   "pygments_lexer": "ipython3",
   "version": "3.9.12"
  }
 },
 "nbformat": 4,
 "nbformat_minor": 5
}
