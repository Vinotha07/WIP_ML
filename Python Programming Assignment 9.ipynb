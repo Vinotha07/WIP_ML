{
 "cells": [
  {
   "cell_type": "markdown",
   "id": "3beb6a06",
   "metadata": {},
   "source": [
    "##### Python Programming Assignment 9\n"
   ]
  },
  {
   "cell_type": "markdown",
   "id": "cbdf2e90",
   "metadata": {},
   "source": [
    "1.Write a Python program to check if the given number is a Disarium Number?"
   ]
  },
  {
   "cell_type": "code",
   "execution_count": 39,
   "id": "ccbe493a",
   "metadata": {},
   "outputs": [
    {
     "name": "stdout",
     "output_type": "stream",
     "text": [
      "Enter the number175\n",
      "It is Disarium Number\n"
     ]
    }
   ],
   "source": [
    "\"\"\"To check the Disarium number sum of the power of the position of the number is equql to the same number\"\"\"\n",
    "def check_disarium(n):\n",
    "    sum=0\n",
    "    \"\"\"To get the number of the digit we have to convert the int into string and count its length\"\"\"\n",
    "    count_digit=len(str(n))\n",
    "    \"\"\"Store the actual digit in the temp variable to perform the operation\"\"\"\n",
    "    temp=n\n",
    "    while temp!=0:\n",
    "        t=temp%10\n",
    "        sum=sum+(t**count_digit)\n",
    "        count_digit= count_digit-1\n",
    "        temp=temp//10\n",
    "     \n",
    "    if sum==n:\n",
    "        return 1\n",
    "    else:\n",
    "        return 0\n",
    "          \n",
    "        \n",
    "        \n",
    "n=int(input(\"Enter the number\"))\n",
    "if (check_disarium(n)==1):\n",
    "     print(\"It is Disarium Number\")\n",
    "else:\n",
    "    print(\"It is not Disarium Number\")\n",
    "\n",
    "  "
   ]
  },
  {
   "cell_type": "markdown",
   "id": "24ab7894",
   "metadata": {},
   "source": [
    "2.Write a Python program to print all disarium numbers between 1 to 100?"
   ]
  },
  {
   "cell_type": "code",
   "execution_count": 40,
   "id": "551b7442",
   "metadata": {},
   "outputs": [
    {
     "name": "stdout",
     "output_type": "stream",
     "text": [
      "1 is Disarium Number\n",
      "2 is Disarium Number\n",
      "3 is Disarium Number\n",
      "4 is Disarium Number\n",
      "5 is Disarium Number\n",
      "6 is Disarium Number\n",
      "7 is Disarium Number\n",
      "8 is Disarium Number\n",
      "9 is Disarium Number\n",
      "89 is Disarium Number\n"
     ]
    }
   ],
   "source": [
    "start=1\n",
    "end=100\n",
    "for i in range(1,101):\n",
    "    \"\"\" Called the already created function to check the number is Disarium or not\"\"\"\n",
    "    if (check_disarium(i)==1):\n",
    "         print(f\"{i} is Disarium Number\")"
   ]
  },
  {
   "cell_type": "markdown",
   "id": "a684cdef",
   "metadata": {},
   "source": [
    "3.Write a Python program to check if the given number is Happy Number?"
   ]
  },
  {
   "cell_type": "code",
   "execution_count": 4,
   "id": "3a552687",
   "metadata": {},
   "outputs": [
    {
     "name": "stdout",
     "output_type": "stream",
     "text": [
      "Enter the number13\n",
      "13 is a Happy Number\n"
     ]
    }
   ],
   "source": [
    "\"\"\"To create a function to check whether the given number is Happy number or not\"\"\"\n",
    "def check_happy(n):\n",
    "    temp=n\n",
    "    digit=0\n",
    "    sum=0\n",
    "    while temp>0:\n",
    "        digit=temp%10\n",
    "        sum=sum+(digit*digit)\n",
    "        temp=temp//10    \n",
    "    return sum\n",
    "            \n",
    "n=int(input(\"Enter the number\"))\n",
    "result=n\n",
    "\"\"\"Checking the input , if it is 1 then it always the happy number and\n",
    "if we give 4 then it is unhappy number which execute infinte loop\"\"\"\n",
    "\n",
    "while(result!=1 and result!=4):\n",
    "    result=check_happy(result)\n",
    "\n",
    "if(result==1):\n",
    "    print(f\"{n} is a Happy Number\")\n",
    "else:\n",
    "    print(f\"{n} is not a Happy Number\")"
   ]
  },
  {
   "cell_type": "markdown",
   "id": "b823083a",
   "metadata": {},
   "source": [
    "4.Write a Python program to print all happy numbers between 1 and 100?"
   ]
  },
  {
   "cell_type": "code",
   "execution_count": 13,
   "id": "ddda201d",
   "metadata": {},
   "outputs": [
    {
     "name": "stdout",
     "output_type": "stream",
     "text": [
      "1 7 10 13 19 23 28 31 32 44 49 68 70 79 82 86 91 94 97 100 "
     ]
    }
   ],
   "source": [
    "start=1\n",
    "end=100\n",
    "\"\"\" Using already defined function to perform the happy number check between 1 and 100\"\"\"\n",
    "for i in range(1,101):\n",
    "    result=i\n",
    "    while(result!=1 and result!=4):\n",
    "        result=check_happy(result)\n",
    "    if (result==1):\n",
    "        print(i,end=\" \")\n",
    "   "
   ]
  },
  {
   "cell_type": "markdown",
   "id": "4b9701b2",
   "metadata": {},
   "source": [
    "5.Write a Python program to determine whether the given number is a Harshad Number?"
   ]
  },
  {
   "cell_type": "code",
   "execution_count": 17,
   "id": "8c11dee6",
   "metadata": {},
   "outputs": [
    {
     "name": "stdout",
     "output_type": "stream",
     "text": [
      "Enter the Number: 18\n",
      "It is the Harshad Number\n"
     ]
    }
   ],
   "source": [
    "\"\"\"To create a function to check whether the given number is Harshad Number or not\"\"\"\n",
    "def check_harshad(n):\n",
    "    temp=n\n",
    "    digit=0\n",
    "    sum=0\n",
    "\"\"\"to check the sum of the digit divides the actual number\"\"\"\n",
    "    while temp>0:\n",
    "        digit=temp%10\n",
    "        sum=sum+digit\n",
    "        temp=temp//10    \n",
    "    if n%sum==0:\n",
    "        return 1\n",
    "    else:\n",
    "        return 0\n",
    "n=int(input(\"Enter the Number: \"))\n",
    "if(check_harshad(n))==1:\n",
    "    print(\"It is the Harshad Number\")\n",
    "else:\n",
    "    print(\"It is not Harshad Number\")"
   ]
  },
  {
   "cell_type": "markdown",
   "id": "894ac035",
   "metadata": {},
   "source": [
    "6.Write a Python program to print all pronic numbers between 1 and 100?"
   ]
  },
  {
   "cell_type": "code",
   "execution_count": 28,
   "id": "92852c2b",
   "metadata": {},
   "outputs": [
    {
     "name": "stdout",
     "output_type": "stream",
     "text": [
      "2 6 12 20 30 42 56 72 90 "
     ]
    }
   ],
   "source": [
    "\"\"\"To create a function to check whether the given number is Pronic or not\n",
    "The pronic number is a product of two consecutive integers of the form: n(n+1).\"\"\"\n",
    "def check_pronic(n):\n",
    "    flag=0\n",
    "    for i in range(n+1):\n",
    "        if (i*(i+1))==n:\n",
    "            return 1\n",
    "\n",
    "start=1\n",
    "end=100\n",
    "\n",
    "for j in range(1,101):\n",
    "    \"\"\" Called the already created function to check the number is pronic or not\"\"\"\n",
    "    if (check_pronic(j))==1:\n",
    "         print(j, end= \" \")   \n",
    "\n",
    " "
   ]
  }
 ],
 "metadata": {
  "kernelspec": {
   "display_name": "Python 3 (ipykernel)",
   "language": "python",
   "name": "python3"
  },
  "language_info": {
   "codemirror_mode": {
    "name": "ipython",
    "version": 3
   },
   "file_extension": ".py",
   "mimetype": "text/x-python",
   "name": "python",
   "nbconvert_exporter": "python",
   "pygments_lexer": "ipython3",
   "version": "3.9.12"
  }
 },
 "nbformat": 4,
 "nbformat_minor": 5
}
